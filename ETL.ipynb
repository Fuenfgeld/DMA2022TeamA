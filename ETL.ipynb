{
  "nbformat": 4,
  "nbformat_minor": 0,
  "metadata": {
    "colab": {
      "name": "ETL.ipynb",
      "provenance": [],
      "collapsed_sections": [],
      "include_colab_link": true
    },
    "kernelspec": {
      "name": "python3",
      "display_name": "Python 3"
    },
    "language_info": {
      "name": "python"
    }
  },
  "cells": [
    {
      "cell_type": "markdown",
      "metadata": {
        "id": "view-in-github",
        "colab_type": "text"
      },
      "source": [
        "<a href=\"https://colab.research.google.com/github/Fuenfgeld/DMA2022TeamA/blob/main/ETL.ipynb\" target=\"_parent\"><img src=\"https://colab.research.google.com/assets/colab-badge.svg\" alt=\"Open In Colab\"/></a>"
      ]
    },
    {
      "cell_type": "code",
      "execution_count": null,
      "metadata": {
        "id": "9_8uBWNYtiA3"
      },
      "outputs": [],
      "source": [
        "#Erstellen der Quelldatenbank \n",
        "import requests\n",
        "exec(requests.get('https://raw.githubusercontent.com/Fuenfgeld/DMA2022TeamA/main/quelldatenbank.py').text)"
      ]
    },
    {
      "cell_type": "code",
      "source": [
        "# Initialisierung der Datawarehouse-Tabellen:\n",
        "Datawh_Tabellen = {} \n"
      ],
      "metadata": {
        "id": "tdfttf6vyHDL"
      },
      "execution_count": null,
      "outputs": []
    },
    {
      "cell_type": "code",
      "source": [
        "#Erstellen der Tabellen mit Schlüsseln\n",
        "Datawh_Tabellen['Zentrum'] = \"\"\"\n",
        "  create table Zentrum(\n",
        "    PATIENT_ID VARCHAR REFERENCES dimPATIENT(ID),\n",
        "    ENCOUNTER_ID VARCHAR REFERENCES dimENCOUNTERS(ID),\n",
        "    OBSERVATION_ID INTEGER REFERENCES dimOBSERVATIONS(ID),\n",
        "    PROCEDURE_DATE VARCHAR REFERENCES dimPROCEDURE(DATE),\n",
        "    PROCEDURE_CODE VARCHAR REFERENCES dimPROCEDURE(CODE),\n",
        "    CONDITIONS_CODE VARCHAR REFERENCES dimCONDITIONS(CODE)\n",
        "  );\n",
        "\"\"\"\n",
        "\n",
        "Datawh_Tabellen['dimObservations'] = \"\"\"\n",
        "  create table if not exists dimObservations(\n",
        "    ID VARCHAR PRIMARY KEY,\n",
        "    CODE VARCHAR,\n",
        "    DESCRIPTION VARCHAR,\n",
        "    VALUE VARCHAR,\n",
        "    UNITS VARCHAR\n",
        "  );\n",
        "\"\"\"\n",
        "\n",
        "Datawh_Tabellen['dimEncounters'] = \"\"\"\n",
        "  create table if not exists dimEncounters(\n",
        "    ID VARCHAR PRIMARY KEY,\n",
        "    START TIMESTAMP,\n",
        "    STOP TIMESTAMP,\n",
        "    ENCOUNTERCLASS VARCHAR,\n",
        "    CODE VARCHAR,\n",
        "    DESCRIPTION VARCHAR\n",
        "  );\n",
        "\"\"\"\n",
        "\n",
        "Datawh_Tabellen['dimProcedures'] = \"\"\"\n",
        "  create table if not exists dimProcedures(\n",
        "    DATE TIMESTAMP,\n",
        "    PATIENT_ID VARCHAR,\n",
        "    ENCOUNTER_ID VARCHAR,\n",
        "    CODE VARCHAR,\n",
        "    DESCRIPTION VARCHAR,\n",
        "    PRIMARY KEY (DATE, PATIENT_ID, ENCOUNTER_ID, CODE)\n",
        "  );\n",
        "\"\"\"\n",
        "\n",
        "Datawh_Tabellen['dimConditions'] = \"\"\"\n",
        "  create table if not exists dimConditions(\n",
        "    PATIENT_ID VARCHAR,\n",
        "    ENCOUNTER_ID,\n",
        "    CODE VARCHAR,\n",
        "    DESCRIPTION VARCHAR,\n",
        "    PRIMARY KEY (PATIENT_ID, ENCOUNTER_ID, CODE)\n",
        "  );\n",
        "\"\"\"\n",
        "\n",
        "Datawh_Tabellen['dimPatients'] = \"\"\"\n",
        "  create table if not exists dimPatients(\n",
        "    ID VARCHAR PRIMARY KEY,\n",
        "    DATASET_ORIGIN VARCHAR\n",
        "  );\n",
        "\"\"\"\n",
        "\n",
        "\n",
        "\n"
      ],
      "metadata": {
        "id": "xcT7aG5F_Mru"
      },
      "execution_count": null,
      "outputs": []
    },
    {
      "cell_type": "code",
      "source": [
        "#Schreiben der Tabellen in eine Datenbank \n",
        "import sqlite3\n",
        "def connect_to_db(db_file):\n",
        "    sqlite3_conn = None\n",
        "    try:\n",
        "        sqlite3_conn = sq.connect(db_file)\n",
        "        return sqlite3_conn\n",
        "\n",
        "    except Error as err:\n",
        "        print(err)\n",
        "\n",
        "        if sqlite3_conn is not None:\n",
        "            sqlite3_conn.close()\n",
        "  \n",
        "conn_dwh = sqlite3.connect('Datawarehouse.db')\n",
        "if conn_dwh is not None:\n",
        "        cursor_dwh = conn_dwh.cursor()\n",
        "        for name in Datawh_Tabellen.keys():\n",
        "          print (name)\n",
        "          cursor_dwh.execute(Datawh_Tabellen[name])\n",
        "\n",
        "else:\n",
        "        print('Connection to database failed')"
      ],
      "metadata": {
        "id": "_xGVefzOyT8V"
      },
      "execution_count": null,
      "outputs": []
    },
    {
      "cell_type": "code",
      "source": [
        "#Einfügen der Werte in Zentrum:\n",
        "Zentrum = pd.read_sql_query(\"\"\"\n",
        "SELECT t4.patient_id,\n",
        "       t4.encounter_id,\n",
        "       t4.observation_id,\n",
        "       t4.procedure_date,\n",
        "       t4.procedure_code,\n",
        "       t5.code AS CONDITIONS_CODE\n",
        "FROM   (SELECT t2.patient_id,\n",
        "               t2.encounter_id,\n",
        "               t2.observation_id,\n",
        "               t3.date AS PROCEDURE_DATE,\n",
        "               t3.code AS PROCEDURE_CODE\n",
        "        FROM   (SELECT encounters.patient_id AS PATIENT_ID,\n",
        "                       encounters.id         AS ENCOUNTER_ID,\n",
        "                       t1.id                 AS OBSERVATION_ID               \n",
        "                FROM   encounters\n",
        "                       LEFT JOIN (SELECT id,\n",
        "                                         patient_id,\n",
        "                                         encounter_id\n",
        "                                  FROM   observations\n",
        "                                  WHERE  observations.code IN (\n",
        "                                         \"8480-6\", \"8462-4\", \"9279-1\",\n",
        "                                         \"8867-4\",\n",
        "                                         \"3569\", \"8310-5\", \"1975-2\",\n",
        "                                         \"1920-8\",\n",
        "                                         \"1742-6\", \"6768-6\", \"33914-3\",\n",
        "                                         \"2885-2\"\n",
        "                                         ,\n",
        "                                         \"3094-0\", \"94531-1\" )) t1\n",
        "                              ON encounters.patient_id = t1.patient_id\n",
        "                                 AND encounters.id = t1.encounter_id) t2\n",
        "               LEFT JOIN (SELECT date,\n",
        "                                 code,\n",
        "                                 patient_id,\n",
        "                                 encounter_id\n",
        "                          FROM   procedures) t3\n",
        "                      ON t2.patient_id = t3.patient_id\n",
        "                         AND t2.encounter_id = t3.encounter_id) t4\n",
        "       LEFT JOIN (SELECT patient_id,\n",
        "                         encounter_id,\n",
        "                         code\n",
        "                  FROM   conditions\n",
        "                  WHERE  code IN ( \"840544004\", \"840539006\" )) t5\n",
        "              ON t4.patient_id = t5.patient_id\n",
        "                 AND t4.encounter_id = t5.encounter_id \n",
        ";\"\"\", conn\n",
        "  )\n",
        "Zentrum.to_sql(name = 'Zentrum', con=conn_dwh, if_exists='append', index=False)\n",
        "Zentrum.head(3)\n"
      ],
      "metadata": {
        "id": "jNGmaGXKvtvs"
      },
      "execution_count": null,
      "outputs": []
    },
    {
      "cell_type": "code",
      "source": [
        "#Einfügen der Werte in Observations\n",
        "dimObservations = pd.read_sql_query(\"\"\"\n",
        "Select ID, CODE, DESCRIPTION, VALUE, UNITS from observations\n",
        "where observations.code in (\"8480-6\",\"8462-4\",\"9279-1\",\"8867-4\",\"3569\",\"8310-5\",\"1975-2\",\"1920-8\",\"1742-6\",\"6768-6\",\"33914-3\",\"2885-2\",\"3094-0\",\"94531-1\", \"2703-7\", \"2708-6\")\n",
        ";\"\"\", conn\n",
        "  )\n",
        "\n",
        "dimObservations.to_sql(name = 'dimObservations', con=conn_dwh, if_exists='append', index=False)\n",
        "dimObservations.head(3)\n"
      ],
      "metadata": {
        "id": "zwxr3R0JyYNl"
      },
      "execution_count": null,
      "outputs": []
    },
    {
      "cell_type": "code",
      "source": [
        "#Einfügen der Werte in Encounters\n",
        "dimEncounters = pd.read_sql_query(\"\"\"\n",
        "Select ID, START, STOP, ENCOUNTERCLASS, CODE, DESCRIPTION from encounters\n",
        ";\"\"\", conn\n",
        "  )\n",
        "\n",
        "dimEncounters.to_sql(name = 'dimEncounters', con=conn_dwh, if_exists='append', index=False)\n",
        "\n",
        "dimEncounters.head(3)"
      ],
      "metadata": {
        "id": "nuAceGWe0zC-"
      },
      "execution_count": null,
      "outputs": []
    },
    {
      "cell_type": "code",
      "source": [
        "#Einfügen der Werte in Procedures\n",
        "dimProcedures = pd.read_sql_query(\"\"\"\n",
        "select DATE,PATIENT_ID, ENCOUNTER_ID, CODE, DESCRIPTION from procedures\n",
        ";\"\"\", conn\n",
        "  )\n",
        "\n",
        "dimProcedures.to_sql(name = 'dimProcedures', con=conn_dwh, if_exists='append', index=False)\n",
        "\n",
        "dimProcedures.head(3)"
      ],
      "metadata": {
        "id": "VC4wWt72v-yv"
      },
      "execution_count": null,
      "outputs": []
    },
    {
      "cell_type": "code",
      "source": [
        "#Einfügen der Werte in Conditions\n",
        "dimConditions = pd.read_sql_query(\"\"\"\n",
        "select PATIENT_ID, CODE, DESCRIPTION, ENCOUNTER_ID from conditions\n",
        ";\"\"\", conn\n",
        "  )\n",
        "\n",
        "dimConditions.to_sql(name = 'dimConditions', con=conn_dwh, if_exists='append', index=False)\n",
        "\n",
        "dimConditions.head(3)"
      ],
      "metadata": {
        "id": "ri-YwU_s0d0u"
      },
      "execution_count": null,
      "outputs": []
    },
    {
      "cell_type": "code",
      "source": [
        "#Einfügen der Werte in Patients\n",
        "dimPatients = pd.read_sql_query(\"\"\"\n",
        "select ID, DATASET_ORIGIN FROM patients\n",
        ";\"\"\", conn\n",
        "  )\n",
        "\n",
        "dimPatients.to_sql(name = 'dimPatients', con=conn_dwh, if_exists='append', index=False)\n",
        "\n",
        "dimPatients.head(3)"
      ],
      "metadata": {
        "id": "1aYkv3jpMnj-"
      },
      "execution_count": null,
      "outputs": []
    }
  ]
}