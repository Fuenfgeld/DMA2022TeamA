{
  "nbformat": 4,
  "nbformat_minor": 0,
  "metadata": {
    "colab": {
      "name": "Quelldatenbank.ipynb",
      "provenance": [],
      "collapsed_sections": []
    },
    "kernelspec": {
      "name": "python3",
      "display_name": "Python 3"
    },
    "language_info": {
      "name": "python"
    }
  },
  "cells": [
    {
      "cell_type": "code",
      "execution_count": 22,
      "metadata": {
        "colab": {
          "base_uri": "https://localhost:8080/"
        },
        "id": "tZxPBGf7Vcu5",
        "outputId": "3148c23a-6be5-4497-dee2-e707610e1b69"
      },
      "outputs": [
        {
          "output_type": "stream",
          "name": "stdout",
          "text": [
            "Mounted at /content/gdrive\n",
            "Tabellen erfolgreich erstellt\n",
            "Daten erfolgreich eingefügt\n"
          ]
        }
      ],
      "source": [
        "# Import der libraries\n",
        "import sqlite3 as sq\n",
        "from sqlite3 import Error\n",
        "import pandas as pd\n",
        "\n",
        "#Verbindung mit Google Drive\n",
        "from google.colab import drive \n",
        "drive.mount(\"/content/gdrive\", force_remount=True)\n",
        "\n",
        "#Initialisierung von Sqlite\n",
        "conn = sq.connect('quelldatenbank.db')\n",
        "cur = conn.cursor()\n",
        "\n",
        "# Erstellen der Tabellen\n",
        "sql_create_source_data = requests.get('https://raw.githubusercontent.com/Fuenfgeld/DMA2022TeamA/Niklasprenissl-patch-1/Create_statements.sql').text\n",
        "cur.executescript(sql_create_source_data)\n",
        "conn.commit()\n",
        "print(\"Tabellen erfolgreich erstellt\")\n",
        "\n",
        "# Pfade definieren\n",
        "file_path = '/content/gdrive/MyDrive/Colab Notebooks/csv_data/'\n",
        "disease = ['allergy', 'asthma', 'breast_cancer', 'colorectal_cancer', 'covid19', 'dermatitis', 'lung_cancer', 'metabolic_syndrome_disease']\n",
        "dataset_file = ['patients', 'organizations', 'providers', 'payers', 'payer_transitions', 'encounters', 'careplans', 'conditions', 'devices', 'disease', 'imaging_studies', 'immunizations', 'observations', 'procedures', 'supplies', 'medications']\n",
        "\n",
        "#  .csv Dateien auslesen und in Datenbank schreiben + Hinzufügen Spalte \"dataset_origin\"\n",
        "for actual_disease in disease:\n",
        "  actual_file_path = file_path+actual_disease+'/'\n",
        "  for actual_dataset_file in dataset_file:\n",
        "    actual_insert_df = pd.read_csv(actual_file_path+actual_dataset_file+'.csv')\n",
        "    actual_insert_df = actual_insert_df.rename(columns={'PATIENT': 'patient_id', 'PAYER': 'payer_id', 'ENCOUNTER': 'encounter_id', 'ORGANIZATION': 'organization_id', 'PROVIDER': 'provider_id'})\n",
        "    actual_insert_df.insert(loc=len(actual_insert_df.columns), column='dataset_origin', value=actual_disease)\n",
        "    actual_insert_df.to_sql(actual_dataset_file, conn, if_exists='append', index=False)\n",
        "conn.commit()\n",
        "print(\"Daten erfolgreich eingefügt\")\n",
        "\n",
        "\n"
      ]
    }
  ]
}