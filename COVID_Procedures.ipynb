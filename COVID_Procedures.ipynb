{
  "nbformat": 4,
  "nbformat_minor": 0,
  "metadata": {
    "colab": {
      "name": "COVID-Procedures",
      "provenance": [],
      "authorship_tag": "ABX9TyNSBMYouZcQCUqYhivMwwWj",
      "include_colab_link": true
    },
    "kernelspec": {
      "name": "python3",
      "display_name": "Python 3"
    },
    "language_info": {
      "name": "python"
    }
  },
  "cells": [
    {
      "cell_type": "markdown",
      "metadata": {
        "id": "view-in-github",
        "colab_type": "text"
      },
      "source": [
        "<a href=\"https://colab.research.google.com/github/Fuenfgeld/DMA2022TeamA/blob/main/COVID_Procedures.ipynb\" target=\"_parent\"><img src=\"https://colab.research.google.com/assets/colab-badge.svg\" alt=\"Open In Colab\"/></a>"
      ]
    },
    {
      "cell_type": "markdown",
      "source": [
        "# Loading of the Datawarehouse and programs"
      ],
      "metadata": {
        "id": "pjotHUARQooZ"
      }
    },
    {
      "cell_type": "code",
      "execution_count": 2,
      "metadata": {
        "colab": {
          "base_uri": "https://localhost:8080/"
        },
        "id": "xX4dop0oOrQe",
        "outputId": "a6c79e7d-6c73-423c-ecc5-6201568176e1"
      },
      "outputs": [
        {
          "output_type": "stream",
          "name": "stdout",
          "text": [
            "Collecting https://github.com/pandas-profiling/pandas-profiling/archive/master.zip\n",
            "  Downloading https://github.com/pandas-profiling/pandas-profiling/archive/master.zip\n",
            "\u001b[K     / 25.9 MB 679 kB/s\n",
            "\u001b[?25hRequirement already satisfied: joblib~=1.1.0 in /usr/local/lib/python3.7/dist-packages (from pandas-profiling==3.1.1) (1.1.0)\n",
            "Requirement already satisfied: scipy>=1.4.1 in /usr/local/lib/python3.7/dist-packages (from pandas-profiling==3.1.1) (1.4.1)\n",
            "Requirement already satisfied: pandas!=1.0.0,!=1.0.1,!=1.0.2,!=1.1.0,>=0.25.3 in /usr/local/lib/python3.7/dist-packages (from pandas-profiling==3.1.1) (1.3.5)\n",
            "Requirement already satisfied: matplotlib>=3.2.0 in /usr/local/lib/python3.7/dist-packages (from pandas-profiling==3.1.1) (3.2.2)\n",
            "Collecting pydantic>=1.8.1\n",
            "  Downloading pydantic-1.9.0-cp37-cp37m-manylinux_2_17_x86_64.manylinux2014_x86_64.whl (10.9 MB)\n",
            "\u001b[K     |████████████████████████████████| 10.9 MB 10.4 MB/s \n",
            "\u001b[?25hCollecting PyYAML>=5.0.0\n",
            "  Downloading PyYAML-6.0-cp37-cp37m-manylinux_2_5_x86_64.manylinux1_x86_64.manylinux_2_12_x86_64.manylinux2010_x86_64.whl (596 kB)\n",
            "\u001b[K     |████████████████████████████████| 596 kB 31.6 MB/s \n",
            "\u001b[?25hRequirement already satisfied: jinja2>=2.11.1 in /usr/local/lib/python3.7/dist-packages (from pandas-profiling==3.1.1) (2.11.3)\n",
            "Requirement already satisfied: markupsafe~=2.0.1 in /usr/local/lib/python3.7/dist-packages (from pandas-profiling==3.1.1) (2.0.1)\n",
            "Collecting visions[type_image_path]==0.7.4\n",
            "  Downloading visions-0.7.4-py3-none-any.whl (102 kB)\n",
            "\u001b[K     |████████████████████████████████| 102 kB 12.1 MB/s \n",
            "\u001b[?25hRequirement already satisfied: numpy>=1.16.0 in /usr/local/lib/python3.7/dist-packages (from pandas-profiling==3.1.1) (1.19.5)\n",
            "Collecting htmlmin>=0.1.12\n",
            "  Downloading htmlmin-0.1.12.tar.gz (19 kB)\n",
            "Requirement already satisfied: missingno>=0.4.2 in /usr/local/lib/python3.7/dist-packages (from pandas-profiling==3.1.1) (0.5.0)\n",
            "Collecting phik>=0.11.1\n",
            "  Downloading phik-0.12.0-cp37-cp37m-manylinux2010_x86_64.whl (675 kB)\n",
            "\u001b[K     |████████████████████████████████| 675 kB 66.0 MB/s \n",
            "\u001b[?25hCollecting tangled-up-in-unicode==0.2.0\n",
            "  Downloading tangled_up_in_unicode-0.2.0-py3-none-any.whl (4.7 MB)\n",
            "\u001b[K     |████████████████████████████████| 4.7 MB 40.7 MB/s \n",
            "\u001b[?25hCollecting requests>=2.24.0\n",
            "  Downloading requests-2.27.1-py2.py3-none-any.whl (63 kB)\n",
            "\u001b[K     |████████████████████████████████| 63 kB 1.4 MB/s \n",
            "\u001b[?25hRequirement already satisfied: tqdm>=4.48.2 in /usr/local/lib/python3.7/dist-packages (from pandas-profiling==3.1.1) (4.62.3)\n",
            "Requirement already satisfied: seaborn>=0.10.1 in /usr/local/lib/python3.7/dist-packages (from pandas-profiling==3.1.1) (0.11.2)\n",
            "Collecting multimethod>=1.4\n",
            "  Downloading multimethod-1.7-py3-none-any.whl (9.5 kB)\n",
            "Requirement already satisfied: attrs>=19.3.0 in /usr/local/lib/python3.7/dist-packages (from visions[type_image_path]==0.7.4->pandas-profiling==3.1.1) (21.4.0)\n",
            "Requirement already satisfied: networkx>=2.4 in /usr/local/lib/python3.7/dist-packages (from visions[type_image_path]==0.7.4->pandas-profiling==3.1.1) (2.6.3)\n",
            "Requirement already satisfied: Pillow in /usr/local/lib/python3.7/dist-packages (from visions[type_image_path]==0.7.4->pandas-profiling==3.1.1) (7.1.2)\n",
            "Collecting imagehash\n",
            "  Downloading ImageHash-4.2.1.tar.gz (812 kB)\n",
            "\u001b[K     |████████████████████████████████| 812 kB 47.3 MB/s \n",
            "\u001b[?25hRequirement already satisfied: kiwisolver>=1.0.1 in /usr/local/lib/python3.7/dist-packages (from matplotlib>=3.2.0->pandas-profiling==3.1.1) (1.3.2)\n",
            "Requirement already satisfied: python-dateutil>=2.1 in /usr/local/lib/python3.7/dist-packages (from matplotlib>=3.2.0->pandas-profiling==3.1.1) (2.8.2)\n",
            "Requirement already satisfied: pyparsing!=2.0.4,!=2.1.2,!=2.1.6,>=2.0.1 in /usr/local/lib/python3.7/dist-packages (from matplotlib>=3.2.0->pandas-profiling==3.1.1) (3.0.7)\n",
            "Requirement already satisfied: cycler>=0.10 in /usr/local/lib/python3.7/dist-packages (from matplotlib>=3.2.0->pandas-profiling==3.1.1) (0.11.0)\n",
            "Requirement already satisfied: pytz>=2017.3 in /usr/local/lib/python3.7/dist-packages (from pandas!=1.0.0,!=1.0.1,!=1.0.2,!=1.1.0,>=0.25.3->pandas-profiling==3.1.1) (2018.9)\n",
            "Collecting scipy>=1.4.1\n",
            "  Downloading scipy-1.7.3-cp37-cp37m-manylinux_2_12_x86_64.manylinux2010_x86_64.whl (38.1 MB)\n",
            "\u001b[K     |████████████████████████████████| 38.1 MB 1.3 MB/s \n",
            "\u001b[?25hRequirement already satisfied: typing-extensions>=3.7.4.3 in /usr/local/lib/python3.7/dist-packages (from pydantic>=1.8.1->pandas-profiling==3.1.1) (3.10.0.2)\n",
            "Requirement already satisfied: six>=1.5 in /usr/local/lib/python3.7/dist-packages (from python-dateutil>=2.1->matplotlib>=3.2.0->pandas-profiling==3.1.1) (1.15.0)\n",
            "Requirement already satisfied: charset-normalizer~=2.0.0 in /usr/local/lib/python3.7/dist-packages (from requests>=2.24.0->pandas-profiling==3.1.1) (2.0.11)\n",
            "Requirement already satisfied: urllib3<1.27,>=1.21.1 in /usr/local/lib/python3.7/dist-packages (from requests>=2.24.0->pandas-profiling==3.1.1) (1.24.3)\n",
            "Requirement already satisfied: certifi>=2017.4.17 in /usr/local/lib/python3.7/dist-packages (from requests>=2.24.0->pandas-profiling==3.1.1) (2021.10.8)\n",
            "Requirement already satisfied: idna<4,>=2.5 in /usr/local/lib/python3.7/dist-packages (from requests>=2.24.0->pandas-profiling==3.1.1) (2.10)\n",
            "Requirement already satisfied: PyWavelets in /usr/local/lib/python3.7/dist-packages (from imagehash->visions[type_image_path]==0.7.4->pandas-profiling==3.1.1) (1.2.0)\n",
            "Building wheels for collected packages: pandas-profiling, htmlmin, imagehash\n",
            "  Building wheel for pandas-profiling (setup.py) ... \u001b[?25l\u001b[?25hdone\n",
            "  Created wheel for pandas-profiling: filename=pandas_profiling-3.1.1-py2.py3-none-any.whl size=261287 sha256=f58dce53ae6532996427e6797ea42ce0f9dfc59b1dd56c8ec112452d2e0e3476\n",
            "  Stored in directory: /tmp/pip-ephem-wheel-cache-2659qh44/wheels/cc/d5/09/083fb07c9363a2f45854b0e3a7de7d7c560f07da74b9e9769d\n",
            "  Building wheel for htmlmin (setup.py) ... \u001b[?25l\u001b[?25hdone\n",
            "  Created wheel for htmlmin: filename=htmlmin-0.1.12-py3-none-any.whl size=27098 sha256=7ccd1ba23b997ded6b90769f4e63564a2016bb655ab23801e8f21b88e7afce5b\n",
            "  Stored in directory: /root/.cache/pip/wheels/70/e1/52/5b14d250ba868768823940c3229e9950d201a26d0bd3ee8655\n",
            "  Building wheel for imagehash (setup.py) ... \u001b[?25l\u001b[?25hdone\n",
            "  Created wheel for imagehash: filename=ImageHash-4.2.1-py2.py3-none-any.whl size=295206 sha256=6d19a10a9ee0f3d6c3eff83462b5e883523219498f524d3edbd48dbcc4185932\n",
            "  Stored in directory: /root/.cache/pip/wheels/4c/d5/59/5e3e297533ddb09407769762985d134135064c6831e29a914e\n",
            "Successfully built pandas-profiling htmlmin imagehash\n",
            "Installing collected packages: tangled-up-in-unicode, scipy, multimethod, visions, imagehash, requests, PyYAML, pydantic, phik, htmlmin, pandas-profiling\n",
            "  Attempting uninstall: scipy\n",
            "    Found existing installation: scipy 1.4.1\n",
            "    Uninstalling scipy-1.4.1:\n",
            "      Successfully uninstalled scipy-1.4.1\n",
            "  Attempting uninstall: requests\n",
            "    Found existing installation: requests 2.23.0\n",
            "    Uninstalling requests-2.23.0:\n",
            "      Successfully uninstalled requests-2.23.0\n",
            "  Attempting uninstall: PyYAML\n",
            "    Found existing installation: PyYAML 3.13\n",
            "    Uninstalling PyYAML-3.13:\n",
            "      Successfully uninstalled PyYAML-3.13\n",
            "  Attempting uninstall: pandas-profiling\n",
            "    Found existing installation: pandas-profiling 1.4.1\n",
            "    Uninstalling pandas-profiling-1.4.1:\n",
            "      Successfully uninstalled pandas-profiling-1.4.1\n",
            "\u001b[31mERROR: pip's dependency resolver does not currently take into account all the packages that are installed. This behaviour is the source of the following dependency conflicts.\n",
            "google-colab 1.0.0 requires requests~=2.23.0, but you have requests 2.27.1 which is incompatible.\n",
            "datascience 0.10.6 requires folium==0.2.1, but you have folium 0.8.3 which is incompatible.\n",
            "albumentations 0.1.12 requires imgaug<0.2.7,>=0.2.5, but you have imgaug 0.2.9 which is incompatible.\u001b[0m\n",
            "Successfully installed PyYAML-6.0 htmlmin-0.1.12 imagehash-4.2.1 multimethod-1.7 pandas-profiling-3.1.1 phik-0.12.0 pydantic-1.9.0 requests-2.27.1 scipy-1.7.3 tangled-up-in-unicode-0.2.0 visions-0.7.4\n"
          ]
        }
      ],
      "source": [
        "# install the newest version \n",
        "!pip3 install https://github.com/pandas-profiling/pandas-profiling/archive/master.zip"
      ]
    },
    {
      "cell_type": "code",
      "source": [
        "import pandas as pd\n",
        "import sqlite3\n",
        "import seaborn as sns\n",
        "import matplotlib.pyplot as plt\n",
        "import numpy as np\n",
        "from pandas_profiling import ProfileReport"
      ],
      "metadata": {
        "id": "Wvn0IeH4OzkF"
      },
      "execution_count": 3,
      "outputs": []
    },
    {
      "cell_type": "code",
      "source": [
        "%matplotlib inline"
      ],
      "metadata": {
        "id": "IRl9Y5lEO4Og"
      },
      "execution_count": 4,
      "outputs": []
    },
    {
      "cell_type": "code",
      "source": [
        "from google.colab import drive\n",
        "# mount drive to access database\n",
        "drive.mount(\"/content/gdrive\")"
      ],
      "metadata": {
        "colab": {
          "base_uri": "https://localhost:8080/"
        },
        "id": "t7oZpI7VO7My",
        "outputId": "28363a38-1df3-409c-970d-25f3e2931c76"
      },
      "execution_count": 5,
      "outputs": [
        {
          "output_type": "stream",
          "name": "stdout",
          "text": [
            "Mounted at /content/gdrive\n"
          ]
        }
      ]
    },
    {
      "cell_type": "code",
      "source": [
        "material_path = \"/gdrive/Shareddrives/Gruppe A\""
      ],
      "metadata": {
        "id": "6-P6-FnsO9ZV"
      },
      "execution_count": 6,
      "outputs": []
    },
    {
      "cell_type": "code",
      "source": [
        "!ls \"/content/gdrive/Shareddrives/Gruppe A/Datawarehouse.db\""
      ],
      "metadata": {
        "colab": {
          "base_uri": "https://localhost:8080/"
        },
        "id": "FV9R3J8jO_fw",
        "outputId": "0ea36a3d-45b4-4910-c5d7-b9ad6ab8164e"
      },
      "execution_count": 7,
      "outputs": [
        {
          "output_type": "stream",
          "name": "stdout",
          "text": [
            "'/content/gdrive/Shareddrives/Gruppe A/Datawarehouse.db'\n"
          ]
        }
      ]
    },
    {
      "cell_type": "code",
      "source": [
        "# datawarehouse path\n",
        "DB_DWH_PATH = f\"/content/gdrive/Shareddrives/Gruppe A/Datawarehouse.db\"\n",
        "print(\"Datawarehouse: \", DB_DWH_PATH)\n",
        "# connect to db\n",
        "dwh_conn = sqlite3.connect(DB_DWH_PATH)"
      ],
      "metadata": {
        "colab": {
          "base_uri": "https://localhost:8080/"
        },
        "id": "G8AgIEB-PBNb",
        "outputId": "df70426a-e7f7-4709-856c-3af4c9b91853"
      },
      "execution_count": 8,
      "outputs": [
        {
          "output_type": "stream",
          "name": "stdout",
          "text": [
            "Datawarehouse:  /content/gdrive/Shareddrives/Gruppe A/Datawarehouse.db\n"
          ]
        }
      ]
    },
    {
      "cell_type": "code",
      "source": [
        "# list of tables in db\n",
        "if dwh_conn is not None:\n",
        "  dwh_cursor = dwh_conn.cursor()\n",
        "  dwh_cursor.execute(\"SELECT name FROM sqlite_master WHERE type='table';\")\n",
        "  print(\"List of Tables\", dwh_cursor.fetchall())"
      ],
      "metadata": {
        "colab": {
          "base_uri": "https://localhost:8080/"
        },
        "id": "ATe9znh3PD21",
        "outputId": "58006748-bc5e-4f14-f4e4-5036d696b21f"
      },
      "execution_count": 9,
      "outputs": [
        {
          "output_type": "stream",
          "name": "stdout",
          "text": [
            "List of Tables [('Zentrum',), ('dimObservations',), ('dimEncounters',), ('dimProcedures',), ('dimConditions',), ('dimPatients',)]\n"
          ]
        }
      ]
    },
    {
      "cell_type": "code",
      "source": [
        "# Read sqlite query results into a pandas DataFrame\n",
        "\n",
        "# Zentrum Tabelle\n",
        "df_Zentrum = pd.read_sql_query(\"SELECT * FROM Zentrum\", dwh_conn)\n",
        "\n",
        "# demographic data\n",
        "df_patients = pd.read_sql_query(\"SELECT * FROM dimPatients\", dwh_conn)\n",
        "# diagnoses data\n",
        "df_conditions = pd.read_sql_query(\"select * from dimConditions\", dwh_conn)\n",
        "\n",
        "# procedure data\n",
        "# df_careplans = pd.read_sql_query(\"select * from careplans_info\", dwh_conn)\n",
        "df_procedures = pd.read_sql_query(\"SELECT * FROM dimProcedures\", dwh_conn)\n",
        "\n",
        "# observations\n",
        "df_observations = pd.read_sql_query(\"SELECT * FROM dimObservations\", dwh_conn)\n",
        "\n",
        "# encounters\n",
        "df_encounters = pd.read_sql_query(\"SELECT * FROM dimEncounters\", dwh_conn)"
      ],
      "metadata": {
        "id": "um7GY7CIPGvY"
      },
      "execution_count": 10,
      "outputs": []
    },
    {
      "cell_type": "code",
      "source": [
        "# Join zwischen dimPatients und dimProcedures\n",
        "covid_procedures = pd.read_sql_query(\"SELECT dimPatients.dataset_origin, dimProcedures.* FROM dimProcedures LEFT JOIN dimPatients ON dimPatients.id=dimProcedures.patient_id\", dwh_conn)"
      ],
      "metadata": {
        "id": "fYHz0dioPbAq"
      },
      "execution_count": 11,
      "outputs": []
    },
    {
      "cell_type": "code",
      "source": [
        "covid_procedures.head()"
      ],
      "metadata": {
        "colab": {
          "base_uri": "https://localhost:8080/",
          "height": 426
        },
        "id": "Il6fMgEBQgdL",
        "outputId": "2207dee8-94d5-4cb0-94a3-41306fa317ea"
      },
      "execution_count": 12,
      "outputs": [
        {
          "output_type": "execute_result",
          "data": {
            "text/html": [
              "\n",
              "  <div id=\"df-c3d5d206-4eec-48d7-9173-f743e7d73890\">\n",
              "    <div class=\"colab-df-container\">\n",
              "      <div>\n",
              "<style scoped>\n",
              "    .dataframe tbody tr th:only-of-type {\n",
              "        vertical-align: middle;\n",
              "    }\n",
              "\n",
              "    .dataframe tbody tr th {\n",
              "        vertical-align: top;\n",
              "    }\n",
              "\n",
              "    .dataframe thead th {\n",
              "        text-align: right;\n",
              "    }\n",
              "</style>\n",
              "<table border=\"1\" class=\"dataframe\">\n",
              "  <thead>\n",
              "    <tr style=\"text-align: right;\">\n",
              "      <th></th>\n",
              "      <th>DATASET_ORIGIN</th>\n",
              "      <th>DATE</th>\n",
              "      <th>PATIENT_ID</th>\n",
              "      <th>ENCOUNTER_ID</th>\n",
              "      <th>CODE</th>\n",
              "      <th>DESCRIPTION</th>\n",
              "    </tr>\n",
              "  </thead>\n",
              "  <tbody>\n",
              "    <tr>\n",
              "      <th>0</th>\n",
              "      <td>allergy</td>\n",
              "      <td>2012-12-12T14:56:19Z</td>\n",
              "      <td>3575b903-dbd0-1d55-6146-9e8aa4ed52a5</td>\n",
              "      <td>f222d3d6-d9f0-3586-70d4-69a77f16b58c</td>\n",
              "      <td>73761001</td>\n",
              "      <td>Colonoscopy</td>\n",
              "    </tr>\n",
              "    <tr>\n",
              "      <th>1</th>\n",
              "      <td>allergy</td>\n",
              "      <td>2015-05-04T11:40:19Z</td>\n",
              "      <td>3575b903-dbd0-1d55-6146-9e8aa4ed52a5</td>\n",
              "      <td>c57b93a2-0302-4965-9e2c-713b84e7c24b</td>\n",
              "      <td>430193006</td>\n",
              "      <td>Medication Reconciliation (procedure)</td>\n",
              "    </tr>\n",
              "    <tr>\n",
              "      <th>2</th>\n",
              "      <td>allergy</td>\n",
              "      <td>2017-12-11T15:25:19Z</td>\n",
              "      <td>3575b903-dbd0-1d55-6146-9e8aa4ed52a5</td>\n",
              "      <td>11306017-08e3-1375-fc44-1265a8114949</td>\n",
              "      <td>73761001</td>\n",
              "      <td>Colonoscopy</td>\n",
              "    </tr>\n",
              "    <tr>\n",
              "      <th>3</th>\n",
              "      <td>allergy</td>\n",
              "      <td>2019-01-30T11:40:19Z</td>\n",
              "      <td>3575b903-dbd0-1d55-6146-9e8aa4ed52a5</td>\n",
              "      <td>cd0f83e5-1e70-75ec-1be9-b254e2589e49</td>\n",
              "      <td>23426006</td>\n",
              "      <td>Measurement of respiratory function (procedure)</td>\n",
              "    </tr>\n",
              "    <tr>\n",
              "      <th>4</th>\n",
              "      <td>allergy</td>\n",
              "      <td>2019-05-27T11:40:19Z</td>\n",
              "      <td>3575b903-dbd0-1d55-6146-9e8aa4ed52a5</td>\n",
              "      <td>bdeb0bc4-50bc-5aaa-ab7f-e43535a01bbe</td>\n",
              "      <td>430193006</td>\n",
              "      <td>Medication Reconciliation (procedure)</td>\n",
              "    </tr>\n",
              "  </tbody>\n",
              "</table>\n",
              "</div>\n",
              "      <button class=\"colab-df-convert\" onclick=\"convertToInteractive('df-c3d5d206-4eec-48d7-9173-f743e7d73890')\"\n",
              "              title=\"Convert this dataframe to an interactive table.\"\n",
              "              style=\"display:none;\">\n",
              "        \n",
              "  <svg xmlns=\"http://www.w3.org/2000/svg\" height=\"24px\"viewBox=\"0 0 24 24\"\n",
              "       width=\"24px\">\n",
              "    <path d=\"M0 0h24v24H0V0z\" fill=\"none\"/>\n",
              "    <path d=\"M18.56 5.44l.94 2.06.94-2.06 2.06-.94-2.06-.94-.94-2.06-.94 2.06-2.06.94zm-11 1L8.5 8.5l.94-2.06 2.06-.94-2.06-.94L8.5 2.5l-.94 2.06-2.06.94zm10 10l.94 2.06.94-2.06 2.06-.94-2.06-.94-.94-2.06-.94 2.06-2.06.94z\"/><path d=\"M17.41 7.96l-1.37-1.37c-.4-.4-.92-.59-1.43-.59-.52 0-1.04.2-1.43.59L10.3 9.45l-7.72 7.72c-.78.78-.78 2.05 0 2.83L4 21.41c.39.39.9.59 1.41.59.51 0 1.02-.2 1.41-.59l7.78-7.78 2.81-2.81c.8-.78.8-2.07 0-2.86zM5.41 20L4 18.59l7.72-7.72 1.47 1.35L5.41 20z\"/>\n",
              "  </svg>\n",
              "      </button>\n",
              "      \n",
              "  <style>\n",
              "    .colab-df-container {\n",
              "      display:flex;\n",
              "      flex-wrap:wrap;\n",
              "      gap: 12px;\n",
              "    }\n",
              "\n",
              "    .colab-df-convert {\n",
              "      background-color: #E8F0FE;\n",
              "      border: none;\n",
              "      border-radius: 50%;\n",
              "      cursor: pointer;\n",
              "      display: none;\n",
              "      fill: #1967D2;\n",
              "      height: 32px;\n",
              "      padding: 0 0 0 0;\n",
              "      width: 32px;\n",
              "    }\n",
              "\n",
              "    .colab-df-convert:hover {\n",
              "      background-color: #E2EBFA;\n",
              "      box-shadow: 0px 1px 2px rgba(60, 64, 67, 0.3), 0px 1px 3px 1px rgba(60, 64, 67, 0.15);\n",
              "      fill: #174EA6;\n",
              "    }\n",
              "\n",
              "    [theme=dark] .colab-df-convert {\n",
              "      background-color: #3B4455;\n",
              "      fill: #D2E3FC;\n",
              "    }\n",
              "\n",
              "    [theme=dark] .colab-df-convert:hover {\n",
              "      background-color: #434B5C;\n",
              "      box-shadow: 0px 1px 3px 1px rgba(0, 0, 0, 0.15);\n",
              "      filter: drop-shadow(0px 1px 2px rgba(0, 0, 0, 0.3));\n",
              "      fill: #FFFFFF;\n",
              "    }\n",
              "  </style>\n",
              "\n",
              "      <script>\n",
              "        const buttonEl =\n",
              "          document.querySelector('#df-c3d5d206-4eec-48d7-9173-f743e7d73890 button.colab-df-convert');\n",
              "        buttonEl.style.display =\n",
              "          google.colab.kernel.accessAllowed ? 'block' : 'none';\n",
              "\n",
              "        async function convertToInteractive(key) {\n",
              "          const element = document.querySelector('#df-c3d5d206-4eec-48d7-9173-f743e7d73890');\n",
              "          const dataTable =\n",
              "            await google.colab.kernel.invokeFunction('convertToInteractive',\n",
              "                                                     [key], {});\n",
              "          if (!dataTable) return;\n",
              "\n",
              "          const docLinkHtml = 'Like what you see? Visit the ' +\n",
              "            '<a target=\"_blank\" href=https://colab.research.google.com/notebooks/data_table.ipynb>data table notebook</a>'\n",
              "            + ' to learn more about interactive tables.';\n",
              "          element.innerHTML = '';\n",
              "          dataTable['output_type'] = 'display_data';\n",
              "          await google.colab.output.renderOutput(dataTable, element);\n",
              "          const docLink = document.createElement('div');\n",
              "          docLink.innerHTML = docLinkHtml;\n",
              "          element.appendChild(docLink);\n",
              "        }\n",
              "      </script>\n",
              "    </div>\n",
              "  </div>\n",
              "  "
            ],
            "text/plain": [
              "  DATASET_ORIGIN  ...                                      DESCRIPTION\n",
              "0        allergy  ...                                      Colonoscopy\n",
              "1        allergy  ...            Medication Reconciliation (procedure)\n",
              "2        allergy  ...                                      Colonoscopy\n",
              "3        allergy  ...  Measurement of respiratory function (procedure)\n",
              "4        allergy  ...            Medication Reconciliation (procedure)\n",
              "\n",
              "[5 rows x 6 columns]"
            ]
          },
          "metadata": {},
          "execution_count": 12
        }
      ]
    },
    {
      "cell_type": "code",
      "source": [
        "# number of patients in procedure table\n",
        "covid_procedures.groupby([\"PATIENT_ID\"]).size()"
      ],
      "metadata": {
        "colab": {
          "base_uri": "https://localhost:8080/"
        },
        "id": "_X3cFnmjSrUu",
        "outputId": "e768fcf6-99e9-4151-eddd-f9564aef969b"
      },
      "execution_count": 13,
      "outputs": [
        {
          "output_type": "execute_result",
          "data": {
            "text/plain": [
              "PATIENT_ID\n",
              "0033cec2-67d3-39ec-b0f4-29f91a2918d6      1\n",
              "003c0d44-9dfc-ca91-6121-373a8e265bd4     13\n",
              "00680fcd-0ef2-99c5-f69d-59463206750f     26\n",
              "00edcb46-afd4-4687-c16a-f4e20dfc3e92      2\n",
              "00f4a426-4746-6513-1775-1e8650e2f6b5      1\n",
              "                                       ... \n",
              "ff2d586c-f770-a795-c9eb-0b0d39447e48      1\n",
              "ff5c1f25-14da-ba3a-51bb-c5735d406ea8    179\n",
              "ff9e749b-0abc-22f8-0d62-6912b87781b1      1\n",
              "ffd905f3-45fb-b2a7-7429-bf864ef29d81     28\n",
              "ffe52b9f-cdf1-d315-9286-e64d370edde4      1\n",
              "Length: 1740, dtype: int64"
            ]
          },
          "metadata": {},
          "execution_count": 13
        }
      ]
    },
    {
      "cell_type": "code",
      "source": [
        "# removing covid19 dataset from covid_procedures\n",
        "final_df = covid_procedures[~covid_procedures['DATASET_ORIGIN'].isin(['covid19'])]"
      ],
      "metadata": {
        "id": "rC8UflEzT9rf"
      },
      "execution_count": 14,
      "outputs": []
    },
    {
      "cell_type": "markdown",
      "source": [
        "# Basic data exploration"
      ],
      "metadata": {
        "id": "V40R-pCCQ3JL"
      }
    },
    {
      "cell_type": "code",
      "source": [
        "final_df.head()"
      ],
      "metadata": {
        "colab": {
          "base_uri": "https://localhost:8080/",
          "height": 206
        },
        "id": "dlCUgwOuU0pg",
        "outputId": "8c3c214b-ba59-4a72-a0cc-7961d3cc7921"
      },
      "execution_count": 42,
      "outputs": [
        {
          "output_type": "execute_result",
          "data": {
            "text/html": [
              "\n",
              "  <div id=\"df-961d8733-a5a6-4e86-9edc-d134f28dd849\">\n",
              "    <div class=\"colab-df-container\">\n",
              "      <div>\n",
              "<style scoped>\n",
              "    .dataframe tbody tr th:only-of-type {\n",
              "        vertical-align: middle;\n",
              "    }\n",
              "\n",
              "    .dataframe tbody tr th {\n",
              "        vertical-align: top;\n",
              "    }\n",
              "\n",
              "    .dataframe thead th {\n",
              "        text-align: right;\n",
              "    }\n",
              "</style>\n",
              "<table border=\"1\" class=\"dataframe\">\n",
              "  <thead>\n",
              "    <tr style=\"text-align: right;\">\n",
              "      <th></th>\n",
              "      <th>DATASET_ORIGIN</th>\n",
              "      <th>DATE</th>\n",
              "      <th>PATIENT_ID</th>\n",
              "      <th>ENCOUNTER_ID</th>\n",
              "      <th>CODE</th>\n",
              "      <th>DESCRIPTION</th>\n",
              "    </tr>\n",
              "  </thead>\n",
              "  <tbody>\n",
              "    <tr>\n",
              "      <th>0</th>\n",
              "      <td>allergy</td>\n",
              "      <td>2012</td>\n",
              "      <td>3575b903-dbd0-1d55-6146-9e8aa4ed52a5</td>\n",
              "      <td>f222d3d6-d9f0-3586-70d4-69a77f16b58c</td>\n",
              "      <td>73761001</td>\n",
              "      <td>Colonoscopy</td>\n",
              "    </tr>\n",
              "    <tr>\n",
              "      <th>1</th>\n",
              "      <td>allergy</td>\n",
              "      <td>2015</td>\n",
              "      <td>3575b903-dbd0-1d55-6146-9e8aa4ed52a5</td>\n",
              "      <td>c57b93a2-0302-4965-9e2c-713b84e7c24b</td>\n",
              "      <td>430193006</td>\n",
              "      <td>Medication Reconciliation (procedure)</td>\n",
              "    </tr>\n",
              "    <tr>\n",
              "      <th>2</th>\n",
              "      <td>allergy</td>\n",
              "      <td>2017</td>\n",
              "      <td>3575b903-dbd0-1d55-6146-9e8aa4ed52a5</td>\n",
              "      <td>11306017-08e3-1375-fc44-1265a8114949</td>\n",
              "      <td>73761001</td>\n",
              "      <td>Colonoscopy</td>\n",
              "    </tr>\n",
              "    <tr>\n",
              "      <th>3</th>\n",
              "      <td>allergy</td>\n",
              "      <td>2019</td>\n",
              "      <td>3575b903-dbd0-1d55-6146-9e8aa4ed52a5</td>\n",
              "      <td>cd0f83e5-1e70-75ec-1be9-b254e2589e49</td>\n",
              "      <td>23426006</td>\n",
              "      <td>Measurement of respiratory function (procedure)</td>\n",
              "    </tr>\n",
              "    <tr>\n",
              "      <th>4</th>\n",
              "      <td>allergy</td>\n",
              "      <td>2019</td>\n",
              "      <td>3575b903-dbd0-1d55-6146-9e8aa4ed52a5</td>\n",
              "      <td>bdeb0bc4-50bc-5aaa-ab7f-e43535a01bbe</td>\n",
              "      <td>430193006</td>\n",
              "      <td>Medication Reconciliation (procedure)</td>\n",
              "    </tr>\n",
              "  </tbody>\n",
              "</table>\n",
              "</div>\n",
              "      <button class=\"colab-df-convert\" onclick=\"convertToInteractive('df-961d8733-a5a6-4e86-9edc-d134f28dd849')\"\n",
              "              title=\"Convert this dataframe to an interactive table.\"\n",
              "              style=\"display:none;\">\n",
              "        \n",
              "  <svg xmlns=\"http://www.w3.org/2000/svg\" height=\"24px\"viewBox=\"0 0 24 24\"\n",
              "       width=\"24px\">\n",
              "    <path d=\"M0 0h24v24H0V0z\" fill=\"none\"/>\n",
              "    <path d=\"M18.56 5.44l.94 2.06.94-2.06 2.06-.94-2.06-.94-.94-2.06-.94 2.06-2.06.94zm-11 1L8.5 8.5l.94-2.06 2.06-.94-2.06-.94L8.5 2.5l-.94 2.06-2.06.94zm10 10l.94 2.06.94-2.06 2.06-.94-2.06-.94-.94-2.06-.94 2.06-2.06.94z\"/><path d=\"M17.41 7.96l-1.37-1.37c-.4-.4-.92-.59-1.43-.59-.52 0-1.04.2-1.43.59L10.3 9.45l-7.72 7.72c-.78.78-.78 2.05 0 2.83L4 21.41c.39.39.9.59 1.41.59.51 0 1.02-.2 1.41-.59l7.78-7.78 2.81-2.81c.8-.78.8-2.07 0-2.86zM5.41 20L4 18.59l7.72-7.72 1.47 1.35L5.41 20z\"/>\n",
              "  </svg>\n",
              "      </button>\n",
              "      \n",
              "  <style>\n",
              "    .colab-df-container {\n",
              "      display:flex;\n",
              "      flex-wrap:wrap;\n",
              "      gap: 12px;\n",
              "    }\n",
              "\n",
              "    .colab-df-convert {\n",
              "      background-color: #E8F0FE;\n",
              "      border: none;\n",
              "      border-radius: 50%;\n",
              "      cursor: pointer;\n",
              "      display: none;\n",
              "      fill: #1967D2;\n",
              "      height: 32px;\n",
              "      padding: 0 0 0 0;\n",
              "      width: 32px;\n",
              "    }\n",
              "\n",
              "    .colab-df-convert:hover {\n",
              "      background-color: #E2EBFA;\n",
              "      box-shadow: 0px 1px 2px rgba(60, 64, 67, 0.3), 0px 1px 3px 1px rgba(60, 64, 67, 0.15);\n",
              "      fill: #174EA6;\n",
              "    }\n",
              "\n",
              "    [theme=dark] .colab-df-convert {\n",
              "      background-color: #3B4455;\n",
              "      fill: #D2E3FC;\n",
              "    }\n",
              "\n",
              "    [theme=dark] .colab-df-convert:hover {\n",
              "      background-color: #434B5C;\n",
              "      box-shadow: 0px 1px 3px 1px rgba(0, 0, 0, 0.15);\n",
              "      filter: drop-shadow(0px 1px 2px rgba(0, 0, 0, 0.3));\n",
              "      fill: #FFFFFF;\n",
              "    }\n",
              "  </style>\n",
              "\n",
              "      <script>\n",
              "        const buttonEl =\n",
              "          document.querySelector('#df-961d8733-a5a6-4e86-9edc-d134f28dd849 button.colab-df-convert');\n",
              "        buttonEl.style.display =\n",
              "          google.colab.kernel.accessAllowed ? 'block' : 'none';\n",
              "\n",
              "        async function convertToInteractive(key) {\n",
              "          const element = document.querySelector('#df-961d8733-a5a6-4e86-9edc-d134f28dd849');\n",
              "          const dataTable =\n",
              "            await google.colab.kernel.invokeFunction('convertToInteractive',\n",
              "                                                     [key], {});\n",
              "          if (!dataTable) return;\n",
              "\n",
              "          const docLinkHtml = 'Like what you see? Visit the ' +\n",
              "            '<a target=\"_blank\" href=https://colab.research.google.com/notebooks/data_table.ipynb>data table notebook</a>'\n",
              "            + ' to learn more about interactive tables.';\n",
              "          element.innerHTML = '';\n",
              "          dataTable['output_type'] = 'display_data';\n",
              "          await google.colab.output.renderOutput(dataTable, element);\n",
              "          const docLink = document.createElement('div');\n",
              "          docLink.innerHTML = docLinkHtml;\n",
              "          element.appendChild(docLink);\n",
              "        }\n",
              "      </script>\n",
              "    </div>\n",
              "  </div>\n",
              "  "
            ],
            "text/plain": [
              "  DATASET_ORIGIN  ...                                      DESCRIPTION\n",
              "0        allergy  ...                                      Colonoscopy\n",
              "1        allergy  ...            Medication Reconciliation (procedure)\n",
              "2        allergy  ...                                      Colonoscopy\n",
              "3        allergy  ...  Measurement of respiratory function (procedure)\n",
              "4        allergy  ...            Medication Reconciliation (procedure)\n",
              "\n",
              "[5 rows x 6 columns]"
            ]
          },
          "metadata": {},
          "execution_count": 42
        }
      ]
    },
    {
      "cell_type": "code",
      "source": [
        "# number of patients in final_df\n",
        "final_df.groupby([\"PATIENT_ID\"]).size()"
      ],
      "metadata": {
        "colab": {
          "base_uri": "https://localhost:8080/"
        },
        "id": "P9OWC3k_Uheq",
        "outputId": "ac27244b-c16a-4563-d46a-2f6927c45ef8"
      },
      "execution_count": 56,
      "outputs": [
        {
          "output_type": "execute_result",
          "data": {
            "text/plain": [
              "PATIENT_ID\n",
              "003c0d44-9dfc-ca91-6121-373a8e265bd4     13\n",
              "00edcb46-afd4-4687-c16a-f4e20dfc3e92      2\n",
              "01518fe2-bd76-d1e9-a656-1e7eae35dd17      2\n",
              "01581211-2e47-027b-71a0-dcbf0f4e6622      2\n",
              "01a49388-c6c0-1d10-00ee-8360a11941e7      3\n",
              "                                       ... \n",
              "fd4841b4-eb96-de29-c392-71785cbf1650      3\n",
              "fda2e613-dd00-2f49-6e86-0c1e5c281658      2\n",
              "fe55dd2f-bc68-7056-1b29-1d4c4563d30b     10\n",
              "feb25ae2-c154-4c42-3276-bc6c1e337a6c      2\n",
              "ff5c1f25-14da-ba3a-51bb-c5735d406ea8    179\n",
              "Length: 805, dtype: int64"
            ]
          },
          "metadata": {},
          "execution_count": 56
        }
      ]
    },
    {
      "cell_type": "code",
      "source": [
        "final_df.groupby([\"DESCRIPTION\"]).size()"
      ],
      "metadata": {
        "colab": {
          "base_uri": "https://localhost:8080/"
        },
        "id": "LsQgoDgZgkSY",
        "outputId": "68b06199-9cc4-4cb1-f677-1e3d5213967e"
      },
      "execution_count": 57,
      "outputs": [
        {
          "output_type": "execute_result",
          "data": {
            "text/plain": [
              "DESCRIPTION\n",
              "Admission to burn unit                                 1\n",
              "Admission to long stay hospital                        1\n",
              "Admission to orthopedic department                     8\n",
              "Allergy screening test                                 6\n",
              "Alpha-fetoprotein test                                44\n",
              "                                                      ..\n",
              "Urine protein test                                    45\n",
              "Urine screening for glucose                           44\n",
              "Urine screening test for diabetes                     45\n",
              "Vaccination for diphtheria  pertussis  and tetanus    44\n",
              "X-ray or wrist                                         3\n",
              "Length: 135, dtype: int64"
            ]
          },
          "metadata": {},
          "execution_count": 57
        }
      ]
    },
    {
      "cell_type": "code",
      "source": [
        "final_df.shape"
      ],
      "metadata": {
        "colab": {
          "base_uri": "https://localhost:8080/"
        },
        "id": "kVMogQSHU9nj",
        "outputId": "42cc77f8-db91-4273-db89-cbeff3ef5038"
      },
      "execution_count": 44,
      "outputs": [
        {
          "output_type": "execute_result",
          "data": {
            "text/plain": [
              "(9113, 6)"
            ]
          },
          "metadata": {},
          "execution_count": 44
        }
      ]
    },
    {
      "cell_type": "code",
      "source": [
        "final_df.groupby([\"PATIENT_ID\", \"CODE\"]).size()"
      ],
      "metadata": {
        "colab": {
          "base_uri": "https://localhost:8080/"
        },
        "id": "Q1zRACyPVHI7",
        "outputId": "1eae8a99-1920-40ca-cd1c-9584fc8df90b"
      },
      "execution_count": 45,
      "outputs": [
        {
          "output_type": "execute_result",
          "data": {
            "text/plain": [
              "PATIENT_ID                            CODE     \n",
              "003c0d44-9dfc-ca91-6121-373a8e265bd4  180325003    7\n",
              "                                      18286008     2\n",
              "                                      40701008     1\n",
              "                                      433112001    1\n",
              "                                      73761001     2\n",
              "                                                  ..\n",
              "ff5c1f25-14da-ba3a-51bb-c5735d406ea8  65588006     1\n",
              "                                      66348005     2\n",
              "                                      714812005    1\n",
              "                                      85548006     1\n",
              "                                      90226004     3\n",
              "Length: 3052, dtype: int64"
            ]
          },
          "metadata": {},
          "execution_count": 45
        }
      ]
    },
    {
      "cell_type": "code",
      "source": [
        "final_df.groupby([\"DATE\"]).size()"
      ],
      "metadata": {
        "colab": {
          "base_uri": "https://localhost:8080/"
        },
        "id": "r0esLBvHnLMP",
        "outputId": "5e7f96d1-0cdc-4ec1-ee4f-53fe129b650a"
      },
      "execution_count": 74,
      "outputs": [
        {
          "output_type": "execute_result",
          "data": {
            "text/plain": [
              "DATE\n",
              "1941      3\n",
              "1956      3\n",
              "1958      2\n",
              "1962      3\n",
              "1964      2\n",
              "1966      3\n",
              "1967      5\n",
              "1968      9\n",
              "1969      2\n",
              "1970      2\n",
              "1971     10\n",
              "1972      3\n",
              "1973      3\n",
              "1974      5\n",
              "1975     13\n",
              "1976     17\n",
              "1977     12\n",
              "1978      9\n",
              "1979      4\n",
              "1980      3\n",
              "1981      3\n",
              "1982     14\n",
              "1983     13\n",
              "1984      6\n",
              "1985     13\n",
              "1986     13\n",
              "1987     15\n",
              "1988     10\n",
              "1989     32\n",
              "1990     35\n",
              "1991     50\n",
              "1992     30\n",
              "1993     53\n",
              "1994     51\n",
              "1995     55\n",
              "1996     90\n",
              "1997     42\n",
              "1998     73\n",
              "1999    188\n",
              "2000    169\n",
              "2001    167\n",
              "2002    154\n",
              "2003    163\n",
              "2004    169\n",
              "2005    169\n",
              "2006    156\n",
              "2007    139\n",
              "2008    134\n",
              "2009     33\n",
              "2010     73\n",
              "2011    558\n",
              "2012    637\n",
              "2013    755\n",
              "2014    729\n",
              "2015    608\n",
              "2016    599\n",
              "2017    627\n",
              "2018    669\n",
              "2019    641\n",
              "2020    865\n",
              "Freq: A-DEC, dtype: int64"
            ]
          },
          "metadata": {},
          "execution_count": 74
        }
      ]
    },
    {
      "cell_type": "markdown",
      "source": [
        "# Data cleaning"
      ],
      "metadata": {
        "id": "enmfn0tLVSbw"
      }
    },
    {
      "cell_type": "code",
      "source": [
        "# Replace null values\n",
        "final_df = final_df.replace(r'^\\s*$', np.nan, regex=True)"
      ],
      "metadata": {
        "id": "W9Qow2yyVUqg"
      },
      "execution_count": 19,
      "outputs": []
    },
    {
      "cell_type": "code",
      "source": [
        "# number of null values\n",
        "final_df.isnull().sum()"
      ],
      "metadata": {
        "colab": {
          "base_uri": "https://localhost:8080/"
        },
        "id": "MYjvyrcuVdHS",
        "outputId": "0b3ba589-fa14-4ad2-c223-ed0cb167b881"
      },
      "execution_count": 20,
      "outputs": [
        {
          "output_type": "execute_result",
          "data": {
            "text/plain": [
              "DATASET_ORIGIN    0\n",
              "DATE              0\n",
              "PATIENT_ID        0\n",
              "ENCOUNTER_ID      0\n",
              "CODE              0\n",
              "DESCRIPTION       0\n",
              "dtype: int64"
            ]
          },
          "metadata": {},
          "execution_count": 20
        }
      ]
    },
    {
      "cell_type": "code",
      "source": [
        "# dropping duplicate values if exists and keep first one\n",
        "final_df.drop_duplicates(keep=\"first\",inplace=True) \n",
        "print(\"Size of dataset after removinf duplicated rows\", final_df.shape)"
      ],
      "metadata": {
        "colab": {
          "base_uri": "https://localhost:8080/"
        },
        "id": "OAm5SqbbWh64",
        "outputId": "06956e9f-9e3a-4f90-edf1-e0d3b09a9ddd"
      },
      "execution_count": 22,
      "outputs": [
        {
          "output_type": "stream",
          "name": "stdout",
          "text": [
            "Size of dataset after removinf duplicated rows (9113, 6)\n"
          ]
        }
      ]
    },
    {
      "cell_type": "code",
      "source": [
        "# attribute type\n",
        "final_df.info()"
      ],
      "metadata": {
        "colab": {
          "base_uri": "https://localhost:8080/"
        },
        "id": "GZG7NRFwXCZD",
        "outputId": "9a68a28d-d39b-48b3-8d55-69a94c87c345"
      },
      "execution_count": 23,
      "outputs": [
        {
          "output_type": "stream",
          "name": "stdout",
          "text": [
            "<class 'pandas.core.frame.DataFrame'>\n",
            "Int64Index: 9113 entries, 0 to 13569\n",
            "Data columns (total 6 columns):\n",
            " #   Column          Non-Null Count  Dtype \n",
            "---  ------          --------------  ----- \n",
            " 0   DATASET_ORIGIN  9113 non-null   object\n",
            " 1   DATE            9113 non-null   object\n",
            " 2   PATIENT_ID      9113 non-null   object\n",
            " 3   ENCOUNTER_ID    9113 non-null   object\n",
            " 4   CODE            9113 non-null   object\n",
            " 5   DESCRIPTION     9113 non-null   object\n",
            "dtypes: object(6)\n",
            "memory usage: 498.4+ KB\n"
          ]
        }
      ]
    },
    {
      "cell_type": "code",
      "source": [
        "# change attribute type date\n",
        "final_df[\"DATE\"] = pd.to_datetime(final_df[\"DATE\"])"
      ],
      "metadata": {
        "id": "kMWS_sq7XOpC"
      },
      "execution_count": 24,
      "outputs": []
    },
    {
      "cell_type": "code",
      "source": [
        "# change date type to YYYY\n",
        "final_df[\"DATE\"] = final_df[\"DATE\"].dt.to_period('Y')"
      ],
      "metadata": {
        "colab": {
          "base_uri": "https://localhost:8080/"
        },
        "id": "mxF9S-MSXfjG",
        "outputId": "095253f9-c25f-4509-825d-6453e39ce407"
      },
      "execution_count": 25,
      "outputs": [
        {
          "output_type": "stream",
          "name": "stderr",
          "text": [
            "/usr/local/lib/python3.7/dist-packages/pandas/core/arrays/datetimes.py:1146: UserWarning: Converting to PeriodArray/Index representation will drop timezone information.\n",
            "  UserWarning,\n"
          ]
        }
      ]
    },
    {
      "cell_type": "code",
      "source": [
        "final_df.head()"
      ],
      "metadata": {
        "colab": {
          "base_uri": "https://localhost:8080/",
          "height": 206
        },
        "id": "IWQbFJDrYgvi",
        "outputId": "f079b12a-ae50-4229-a343-205ebe04e494"
      },
      "execution_count": 26,
      "outputs": [
        {
          "output_type": "execute_result",
          "data": {
            "text/html": [
              "\n",
              "  <div id=\"df-888c9ded-f419-4ecc-8117-3ec3dec4c074\">\n",
              "    <div class=\"colab-df-container\">\n",
              "      <div>\n",
              "<style scoped>\n",
              "    .dataframe tbody tr th:only-of-type {\n",
              "        vertical-align: middle;\n",
              "    }\n",
              "\n",
              "    .dataframe tbody tr th {\n",
              "        vertical-align: top;\n",
              "    }\n",
              "\n",
              "    .dataframe thead th {\n",
              "        text-align: right;\n",
              "    }\n",
              "</style>\n",
              "<table border=\"1\" class=\"dataframe\">\n",
              "  <thead>\n",
              "    <tr style=\"text-align: right;\">\n",
              "      <th></th>\n",
              "      <th>DATASET_ORIGIN</th>\n",
              "      <th>DATE</th>\n",
              "      <th>PATIENT_ID</th>\n",
              "      <th>ENCOUNTER_ID</th>\n",
              "      <th>CODE</th>\n",
              "      <th>DESCRIPTION</th>\n",
              "    </tr>\n",
              "  </thead>\n",
              "  <tbody>\n",
              "    <tr>\n",
              "      <th>0</th>\n",
              "      <td>allergy</td>\n",
              "      <td>2012</td>\n",
              "      <td>3575b903-dbd0-1d55-6146-9e8aa4ed52a5</td>\n",
              "      <td>f222d3d6-d9f0-3586-70d4-69a77f16b58c</td>\n",
              "      <td>73761001</td>\n",
              "      <td>Colonoscopy</td>\n",
              "    </tr>\n",
              "    <tr>\n",
              "      <th>1</th>\n",
              "      <td>allergy</td>\n",
              "      <td>2015</td>\n",
              "      <td>3575b903-dbd0-1d55-6146-9e8aa4ed52a5</td>\n",
              "      <td>c57b93a2-0302-4965-9e2c-713b84e7c24b</td>\n",
              "      <td>430193006</td>\n",
              "      <td>Medication Reconciliation (procedure)</td>\n",
              "    </tr>\n",
              "    <tr>\n",
              "      <th>2</th>\n",
              "      <td>allergy</td>\n",
              "      <td>2017</td>\n",
              "      <td>3575b903-dbd0-1d55-6146-9e8aa4ed52a5</td>\n",
              "      <td>11306017-08e3-1375-fc44-1265a8114949</td>\n",
              "      <td>73761001</td>\n",
              "      <td>Colonoscopy</td>\n",
              "    </tr>\n",
              "    <tr>\n",
              "      <th>3</th>\n",
              "      <td>allergy</td>\n",
              "      <td>2019</td>\n",
              "      <td>3575b903-dbd0-1d55-6146-9e8aa4ed52a5</td>\n",
              "      <td>cd0f83e5-1e70-75ec-1be9-b254e2589e49</td>\n",
              "      <td>23426006</td>\n",
              "      <td>Measurement of respiratory function (procedure)</td>\n",
              "    </tr>\n",
              "    <tr>\n",
              "      <th>4</th>\n",
              "      <td>allergy</td>\n",
              "      <td>2019</td>\n",
              "      <td>3575b903-dbd0-1d55-6146-9e8aa4ed52a5</td>\n",
              "      <td>bdeb0bc4-50bc-5aaa-ab7f-e43535a01bbe</td>\n",
              "      <td>430193006</td>\n",
              "      <td>Medication Reconciliation (procedure)</td>\n",
              "    </tr>\n",
              "  </tbody>\n",
              "</table>\n",
              "</div>\n",
              "      <button class=\"colab-df-convert\" onclick=\"convertToInteractive('df-888c9ded-f419-4ecc-8117-3ec3dec4c074')\"\n",
              "              title=\"Convert this dataframe to an interactive table.\"\n",
              "              style=\"display:none;\">\n",
              "        \n",
              "  <svg xmlns=\"http://www.w3.org/2000/svg\" height=\"24px\"viewBox=\"0 0 24 24\"\n",
              "       width=\"24px\">\n",
              "    <path d=\"M0 0h24v24H0V0z\" fill=\"none\"/>\n",
              "    <path d=\"M18.56 5.44l.94 2.06.94-2.06 2.06-.94-2.06-.94-.94-2.06-.94 2.06-2.06.94zm-11 1L8.5 8.5l.94-2.06 2.06-.94-2.06-.94L8.5 2.5l-.94 2.06-2.06.94zm10 10l.94 2.06.94-2.06 2.06-.94-2.06-.94-.94-2.06-.94 2.06-2.06.94z\"/><path d=\"M17.41 7.96l-1.37-1.37c-.4-.4-.92-.59-1.43-.59-.52 0-1.04.2-1.43.59L10.3 9.45l-7.72 7.72c-.78.78-.78 2.05 0 2.83L4 21.41c.39.39.9.59 1.41.59.51 0 1.02-.2 1.41-.59l7.78-7.78 2.81-2.81c.8-.78.8-2.07 0-2.86zM5.41 20L4 18.59l7.72-7.72 1.47 1.35L5.41 20z\"/>\n",
              "  </svg>\n",
              "      </button>\n",
              "      \n",
              "  <style>\n",
              "    .colab-df-container {\n",
              "      display:flex;\n",
              "      flex-wrap:wrap;\n",
              "      gap: 12px;\n",
              "    }\n",
              "\n",
              "    .colab-df-convert {\n",
              "      background-color: #E8F0FE;\n",
              "      border: none;\n",
              "      border-radius: 50%;\n",
              "      cursor: pointer;\n",
              "      display: none;\n",
              "      fill: #1967D2;\n",
              "      height: 32px;\n",
              "      padding: 0 0 0 0;\n",
              "      width: 32px;\n",
              "    }\n",
              "\n",
              "    .colab-df-convert:hover {\n",
              "      background-color: #E2EBFA;\n",
              "      box-shadow: 0px 1px 2px rgba(60, 64, 67, 0.3), 0px 1px 3px 1px rgba(60, 64, 67, 0.15);\n",
              "      fill: #174EA6;\n",
              "    }\n",
              "\n",
              "    [theme=dark] .colab-df-convert {\n",
              "      background-color: #3B4455;\n",
              "      fill: #D2E3FC;\n",
              "    }\n",
              "\n",
              "    [theme=dark] .colab-df-convert:hover {\n",
              "      background-color: #434B5C;\n",
              "      box-shadow: 0px 1px 3px 1px rgba(0, 0, 0, 0.15);\n",
              "      filter: drop-shadow(0px 1px 2px rgba(0, 0, 0, 0.3));\n",
              "      fill: #FFFFFF;\n",
              "    }\n",
              "  </style>\n",
              "\n",
              "      <script>\n",
              "        const buttonEl =\n",
              "          document.querySelector('#df-888c9ded-f419-4ecc-8117-3ec3dec4c074 button.colab-df-convert');\n",
              "        buttonEl.style.display =\n",
              "          google.colab.kernel.accessAllowed ? 'block' : 'none';\n",
              "\n",
              "        async function convertToInteractive(key) {\n",
              "          const element = document.querySelector('#df-888c9ded-f419-4ecc-8117-3ec3dec4c074');\n",
              "          const dataTable =\n",
              "            await google.colab.kernel.invokeFunction('convertToInteractive',\n",
              "                                                     [key], {});\n",
              "          if (!dataTable) return;\n",
              "\n",
              "          const docLinkHtml = 'Like what you see? Visit the ' +\n",
              "            '<a target=\"_blank\" href=https://colab.research.google.com/notebooks/data_table.ipynb>data table notebook</a>'\n",
              "            + ' to learn more about interactive tables.';\n",
              "          element.innerHTML = '';\n",
              "          dataTable['output_type'] = 'display_data';\n",
              "          await google.colab.output.renderOutput(dataTable, element);\n",
              "          const docLink = document.createElement('div');\n",
              "          docLink.innerHTML = docLinkHtml;\n",
              "          element.appendChild(docLink);\n",
              "        }\n",
              "      </script>\n",
              "    </div>\n",
              "  </div>\n",
              "  "
            ],
            "text/plain": [
              "  DATASET_ORIGIN  ...                                      DESCRIPTION\n",
              "0        allergy  ...                                      Colonoscopy\n",
              "1        allergy  ...            Medication Reconciliation (procedure)\n",
              "2        allergy  ...                                      Colonoscopy\n",
              "3        allergy  ...  Measurement of respiratory function (procedure)\n",
              "4        allergy  ...            Medication Reconciliation (procedure)\n",
              "\n",
              "[5 rows x 6 columns]"
            ]
          },
          "metadata": {},
          "execution_count": 26
        }
      ]
    },
    {
      "cell_type": "markdown",
      "source": [
        "# Query of procedures broken down by year"
      ],
      "metadata": {
        "id": "kwSSMHGOXAMp"
      }
    },
    {
      "cell_type": "code",
      "source": [
        "# Procedure table during covid19\n",
        "covid_year = final_df[final_df[\"DATE\"] >= \"2020\"]\n",
        "covid_year.head()"
      ],
      "metadata": {
        "colab": {
          "base_uri": "https://localhost:8080/",
          "height": 206
        },
        "id": "D_TuV4biY05I",
        "outputId": "331f7ae0-724c-420d-fc3a-221c88fbc574"
      },
      "execution_count": 58,
      "outputs": [
        {
          "output_type": "execute_result",
          "data": {
            "text/html": [
              "\n",
              "  <div id=\"df-83ce56e3-9681-4517-886b-65c63e66c819\">\n",
              "    <div class=\"colab-df-container\">\n",
              "      <div>\n",
              "<style scoped>\n",
              "    .dataframe tbody tr th:only-of-type {\n",
              "        vertical-align: middle;\n",
              "    }\n",
              "\n",
              "    .dataframe tbody tr th {\n",
              "        vertical-align: top;\n",
              "    }\n",
              "\n",
              "    .dataframe thead th {\n",
              "        text-align: right;\n",
              "    }\n",
              "</style>\n",
              "<table border=\"1\" class=\"dataframe\">\n",
              "  <thead>\n",
              "    <tr style=\"text-align: right;\">\n",
              "      <th></th>\n",
              "      <th>DATASET_ORIGIN</th>\n",
              "      <th>DATE</th>\n",
              "      <th>PATIENT_ID</th>\n",
              "      <th>ENCOUNTER_ID</th>\n",
              "      <th>CODE</th>\n",
              "      <th>DESCRIPTION</th>\n",
              "    </tr>\n",
              "  </thead>\n",
              "  <tbody>\n",
              "    <tr>\n",
              "      <th>5</th>\n",
              "      <td>allergy</td>\n",
              "      <td>2020</td>\n",
              "      <td>3575b903-dbd0-1d55-6146-9e8aa4ed52a5</td>\n",
              "      <td>3c7f472a-2602-bcdd-76d0-53f967923ded</td>\n",
              "      <td>261352009</td>\n",
              "      <td>Face mask (physical object)</td>\n",
              "    </tr>\n",
              "    <tr>\n",
              "      <th>15</th>\n",
              "      <td>allergy</td>\n",
              "      <td>2020</td>\n",
              "      <td>17f0c6d9-8931-8839-66cb-3ca6fb066d3e</td>\n",
              "      <td>dcee0f8b-907d-69cf-c998-5e73711f2276</td>\n",
              "      <td>261352009</td>\n",
              "      <td>Face mask (physical object)</td>\n",
              "    </tr>\n",
              "    <tr>\n",
              "      <th>16</th>\n",
              "      <td>allergy</td>\n",
              "      <td>2020</td>\n",
              "      <td>17f0c6d9-8931-8839-66cb-3ca6fb066d3e</td>\n",
              "      <td>61d084c0-52cc-1b9d-5ed8-505982d8f401</td>\n",
              "      <td>430193006</td>\n",
              "      <td>Medication Reconciliation (procedure)</td>\n",
              "    </tr>\n",
              "    <tr>\n",
              "      <th>26</th>\n",
              "      <td>allergy</td>\n",
              "      <td>2020</td>\n",
              "      <td>e92765c7-1c4b-9ee7-dbc8-5300fcb40a54</td>\n",
              "      <td>621750b5-9dd3-649c-977c-45d6315b546e</td>\n",
              "      <td>430193006</td>\n",
              "      <td>Medication Reconciliation (procedure)</td>\n",
              "    </tr>\n",
              "    <tr>\n",
              "      <th>54</th>\n",
              "      <td>allergy</td>\n",
              "      <td>2020</td>\n",
              "      <td>aff157cc-b6d3-412b-ccbe-bfd5fac1c2d5</td>\n",
              "      <td>61c250a0-1668-e4ce-aefc-77a7842574c2</td>\n",
              "      <td>261352009</td>\n",
              "      <td>Face mask (physical object)</td>\n",
              "    </tr>\n",
              "  </tbody>\n",
              "</table>\n",
              "</div>\n",
              "      <button class=\"colab-df-convert\" onclick=\"convertToInteractive('df-83ce56e3-9681-4517-886b-65c63e66c819')\"\n",
              "              title=\"Convert this dataframe to an interactive table.\"\n",
              "              style=\"display:none;\">\n",
              "        \n",
              "  <svg xmlns=\"http://www.w3.org/2000/svg\" height=\"24px\"viewBox=\"0 0 24 24\"\n",
              "       width=\"24px\">\n",
              "    <path d=\"M0 0h24v24H0V0z\" fill=\"none\"/>\n",
              "    <path d=\"M18.56 5.44l.94 2.06.94-2.06 2.06-.94-2.06-.94-.94-2.06-.94 2.06-2.06.94zm-11 1L8.5 8.5l.94-2.06 2.06-.94-2.06-.94L8.5 2.5l-.94 2.06-2.06.94zm10 10l.94 2.06.94-2.06 2.06-.94-2.06-.94-.94-2.06-.94 2.06-2.06.94z\"/><path d=\"M17.41 7.96l-1.37-1.37c-.4-.4-.92-.59-1.43-.59-.52 0-1.04.2-1.43.59L10.3 9.45l-7.72 7.72c-.78.78-.78 2.05 0 2.83L4 21.41c.39.39.9.59 1.41.59.51 0 1.02-.2 1.41-.59l7.78-7.78 2.81-2.81c.8-.78.8-2.07 0-2.86zM5.41 20L4 18.59l7.72-7.72 1.47 1.35L5.41 20z\"/>\n",
              "  </svg>\n",
              "      </button>\n",
              "      \n",
              "  <style>\n",
              "    .colab-df-container {\n",
              "      display:flex;\n",
              "      flex-wrap:wrap;\n",
              "      gap: 12px;\n",
              "    }\n",
              "\n",
              "    .colab-df-convert {\n",
              "      background-color: #E8F0FE;\n",
              "      border: none;\n",
              "      border-radius: 50%;\n",
              "      cursor: pointer;\n",
              "      display: none;\n",
              "      fill: #1967D2;\n",
              "      height: 32px;\n",
              "      padding: 0 0 0 0;\n",
              "      width: 32px;\n",
              "    }\n",
              "\n",
              "    .colab-df-convert:hover {\n",
              "      background-color: #E2EBFA;\n",
              "      box-shadow: 0px 1px 2px rgba(60, 64, 67, 0.3), 0px 1px 3px 1px rgba(60, 64, 67, 0.15);\n",
              "      fill: #174EA6;\n",
              "    }\n",
              "\n",
              "    [theme=dark] .colab-df-convert {\n",
              "      background-color: #3B4455;\n",
              "      fill: #D2E3FC;\n",
              "    }\n",
              "\n",
              "    [theme=dark] .colab-df-convert:hover {\n",
              "      background-color: #434B5C;\n",
              "      box-shadow: 0px 1px 3px 1px rgba(0, 0, 0, 0.15);\n",
              "      filter: drop-shadow(0px 1px 2px rgba(0, 0, 0, 0.3));\n",
              "      fill: #FFFFFF;\n",
              "    }\n",
              "  </style>\n",
              "\n",
              "      <script>\n",
              "        const buttonEl =\n",
              "          document.querySelector('#df-83ce56e3-9681-4517-886b-65c63e66c819 button.colab-df-convert');\n",
              "        buttonEl.style.display =\n",
              "          google.colab.kernel.accessAllowed ? 'block' : 'none';\n",
              "\n",
              "        async function convertToInteractive(key) {\n",
              "          const element = document.querySelector('#df-83ce56e3-9681-4517-886b-65c63e66c819');\n",
              "          const dataTable =\n",
              "            await google.colab.kernel.invokeFunction('convertToInteractive',\n",
              "                                                     [key], {});\n",
              "          if (!dataTable) return;\n",
              "\n",
              "          const docLinkHtml = 'Like what you see? Visit the ' +\n",
              "            '<a target=\"_blank\" href=https://colab.research.google.com/notebooks/data_table.ipynb>data table notebook</a>'\n",
              "            + ' to learn more about interactive tables.';\n",
              "          element.innerHTML = '';\n",
              "          dataTable['output_type'] = 'display_data';\n",
              "          await google.colab.output.renderOutput(dataTable, element);\n",
              "          const docLink = document.createElement('div');\n",
              "          docLink.innerHTML = docLinkHtml;\n",
              "          element.appendChild(docLink);\n",
              "        }\n",
              "      </script>\n",
              "    </div>\n",
              "  </div>\n",
              "  "
            ],
            "text/plain": [
              "   DATASET_ORIGIN  DATE  ...       CODE                            DESCRIPTION\n",
              "5         allergy  2020  ...  261352009            Face mask (physical object)\n",
              "15        allergy  2020  ...  261352009            Face mask (physical object)\n",
              "16        allergy  2020  ...  430193006  Medication Reconciliation (procedure)\n",
              "26        allergy  2020  ...  430193006  Medication Reconciliation (procedure)\n",
              "54        allergy  2020  ...  261352009            Face mask (physical object)\n",
              "\n",
              "[5 rows x 6 columns]"
            ]
          },
          "metadata": {},
          "execution_count": 58
        }
      ]
    },
    {
      "cell_type": "code",
      "source": [
        "# Procedure table pre covid\n",
        "pre_covid = final_df[final_df[\"DATE\"] < \"2020\"]\n",
        "pre_covid.head()"
      ],
      "metadata": {
        "colab": {
          "base_uri": "https://localhost:8080/",
          "height": 206
        },
        "id": "P9yuhaduZRCc",
        "outputId": "033e835f-4ba2-4924-8fc5-95358236b043"
      },
      "execution_count": 59,
      "outputs": [
        {
          "output_type": "execute_result",
          "data": {
            "text/html": [
              "\n",
              "  <div id=\"df-d99b3db6-ef0d-45fa-b66d-d4578f81625c\">\n",
              "    <div class=\"colab-df-container\">\n",
              "      <div>\n",
              "<style scoped>\n",
              "    .dataframe tbody tr th:only-of-type {\n",
              "        vertical-align: middle;\n",
              "    }\n",
              "\n",
              "    .dataframe tbody tr th {\n",
              "        vertical-align: top;\n",
              "    }\n",
              "\n",
              "    .dataframe thead th {\n",
              "        text-align: right;\n",
              "    }\n",
              "</style>\n",
              "<table border=\"1\" class=\"dataframe\">\n",
              "  <thead>\n",
              "    <tr style=\"text-align: right;\">\n",
              "      <th></th>\n",
              "      <th>DATASET_ORIGIN</th>\n",
              "      <th>DATE</th>\n",
              "      <th>PATIENT_ID</th>\n",
              "      <th>ENCOUNTER_ID</th>\n",
              "      <th>CODE</th>\n",
              "      <th>DESCRIPTION</th>\n",
              "    </tr>\n",
              "  </thead>\n",
              "  <tbody>\n",
              "    <tr>\n",
              "      <th>0</th>\n",
              "      <td>allergy</td>\n",
              "      <td>2012</td>\n",
              "      <td>3575b903-dbd0-1d55-6146-9e8aa4ed52a5</td>\n",
              "      <td>f222d3d6-d9f0-3586-70d4-69a77f16b58c</td>\n",
              "      <td>73761001</td>\n",
              "      <td>Colonoscopy</td>\n",
              "    </tr>\n",
              "    <tr>\n",
              "      <th>1</th>\n",
              "      <td>allergy</td>\n",
              "      <td>2015</td>\n",
              "      <td>3575b903-dbd0-1d55-6146-9e8aa4ed52a5</td>\n",
              "      <td>c57b93a2-0302-4965-9e2c-713b84e7c24b</td>\n",
              "      <td>430193006</td>\n",
              "      <td>Medication Reconciliation (procedure)</td>\n",
              "    </tr>\n",
              "    <tr>\n",
              "      <th>2</th>\n",
              "      <td>allergy</td>\n",
              "      <td>2017</td>\n",
              "      <td>3575b903-dbd0-1d55-6146-9e8aa4ed52a5</td>\n",
              "      <td>11306017-08e3-1375-fc44-1265a8114949</td>\n",
              "      <td>73761001</td>\n",
              "      <td>Colonoscopy</td>\n",
              "    </tr>\n",
              "    <tr>\n",
              "      <th>3</th>\n",
              "      <td>allergy</td>\n",
              "      <td>2019</td>\n",
              "      <td>3575b903-dbd0-1d55-6146-9e8aa4ed52a5</td>\n",
              "      <td>cd0f83e5-1e70-75ec-1be9-b254e2589e49</td>\n",
              "      <td>23426006</td>\n",
              "      <td>Measurement of respiratory function (procedure)</td>\n",
              "    </tr>\n",
              "    <tr>\n",
              "      <th>4</th>\n",
              "      <td>allergy</td>\n",
              "      <td>2019</td>\n",
              "      <td>3575b903-dbd0-1d55-6146-9e8aa4ed52a5</td>\n",
              "      <td>bdeb0bc4-50bc-5aaa-ab7f-e43535a01bbe</td>\n",
              "      <td>430193006</td>\n",
              "      <td>Medication Reconciliation (procedure)</td>\n",
              "    </tr>\n",
              "  </tbody>\n",
              "</table>\n",
              "</div>\n",
              "      <button class=\"colab-df-convert\" onclick=\"convertToInteractive('df-d99b3db6-ef0d-45fa-b66d-d4578f81625c')\"\n",
              "              title=\"Convert this dataframe to an interactive table.\"\n",
              "              style=\"display:none;\">\n",
              "        \n",
              "  <svg xmlns=\"http://www.w3.org/2000/svg\" height=\"24px\"viewBox=\"0 0 24 24\"\n",
              "       width=\"24px\">\n",
              "    <path d=\"M0 0h24v24H0V0z\" fill=\"none\"/>\n",
              "    <path d=\"M18.56 5.44l.94 2.06.94-2.06 2.06-.94-2.06-.94-.94-2.06-.94 2.06-2.06.94zm-11 1L8.5 8.5l.94-2.06 2.06-.94-2.06-.94L8.5 2.5l-.94 2.06-2.06.94zm10 10l.94 2.06.94-2.06 2.06-.94-2.06-.94-.94-2.06-.94 2.06-2.06.94z\"/><path d=\"M17.41 7.96l-1.37-1.37c-.4-.4-.92-.59-1.43-.59-.52 0-1.04.2-1.43.59L10.3 9.45l-7.72 7.72c-.78.78-.78 2.05 0 2.83L4 21.41c.39.39.9.59 1.41.59.51 0 1.02-.2 1.41-.59l7.78-7.78 2.81-2.81c.8-.78.8-2.07 0-2.86zM5.41 20L4 18.59l7.72-7.72 1.47 1.35L5.41 20z\"/>\n",
              "  </svg>\n",
              "      </button>\n",
              "      \n",
              "  <style>\n",
              "    .colab-df-container {\n",
              "      display:flex;\n",
              "      flex-wrap:wrap;\n",
              "      gap: 12px;\n",
              "    }\n",
              "\n",
              "    .colab-df-convert {\n",
              "      background-color: #E8F0FE;\n",
              "      border: none;\n",
              "      border-radius: 50%;\n",
              "      cursor: pointer;\n",
              "      display: none;\n",
              "      fill: #1967D2;\n",
              "      height: 32px;\n",
              "      padding: 0 0 0 0;\n",
              "      width: 32px;\n",
              "    }\n",
              "\n",
              "    .colab-df-convert:hover {\n",
              "      background-color: #E2EBFA;\n",
              "      box-shadow: 0px 1px 2px rgba(60, 64, 67, 0.3), 0px 1px 3px 1px rgba(60, 64, 67, 0.15);\n",
              "      fill: #174EA6;\n",
              "    }\n",
              "\n",
              "    [theme=dark] .colab-df-convert {\n",
              "      background-color: #3B4455;\n",
              "      fill: #D2E3FC;\n",
              "    }\n",
              "\n",
              "    [theme=dark] .colab-df-convert:hover {\n",
              "      background-color: #434B5C;\n",
              "      box-shadow: 0px 1px 3px 1px rgba(0, 0, 0, 0.15);\n",
              "      filter: drop-shadow(0px 1px 2px rgba(0, 0, 0, 0.3));\n",
              "      fill: #FFFFFF;\n",
              "    }\n",
              "  </style>\n",
              "\n",
              "      <script>\n",
              "        const buttonEl =\n",
              "          document.querySelector('#df-d99b3db6-ef0d-45fa-b66d-d4578f81625c button.colab-df-convert');\n",
              "        buttonEl.style.display =\n",
              "          google.colab.kernel.accessAllowed ? 'block' : 'none';\n",
              "\n",
              "        async function convertToInteractive(key) {\n",
              "          const element = document.querySelector('#df-d99b3db6-ef0d-45fa-b66d-d4578f81625c');\n",
              "          const dataTable =\n",
              "            await google.colab.kernel.invokeFunction('convertToInteractive',\n",
              "                                                     [key], {});\n",
              "          if (!dataTable) return;\n",
              "\n",
              "          const docLinkHtml = 'Like what you see? Visit the ' +\n",
              "            '<a target=\"_blank\" href=https://colab.research.google.com/notebooks/data_table.ipynb>data table notebook</a>'\n",
              "            + ' to learn more about interactive tables.';\n",
              "          element.innerHTML = '';\n",
              "          dataTable['output_type'] = 'display_data';\n",
              "          await google.colab.output.renderOutput(dataTable, element);\n",
              "          const docLink = document.createElement('div');\n",
              "          docLink.innerHTML = docLinkHtml;\n",
              "          element.appendChild(docLink);\n",
              "        }\n",
              "      </script>\n",
              "    </div>\n",
              "  </div>\n",
              "  "
            ],
            "text/plain": [
              "  DATASET_ORIGIN  ...                                      DESCRIPTION\n",
              "0        allergy  ...                                      Colonoscopy\n",
              "1        allergy  ...            Medication Reconciliation (procedure)\n",
              "2        allergy  ...                                      Colonoscopy\n",
              "3        allergy  ...  Measurement of respiratory function (procedure)\n",
              "4        allergy  ...            Medication Reconciliation (procedure)\n",
              "\n",
              "[5 rows x 6 columns]"
            ]
          },
          "metadata": {},
          "execution_count": 59
        }
      ]
    },
    {
      "cell_type": "code",
      "source": [
        "# number of procedures during covid19 in our df\n",
        "covid_year.groupby([\"PATIENT_ID\"]).size()"
      ],
      "metadata": {
        "colab": {
          "base_uri": "https://localhost:8080/"
        },
        "id": "Y7f4-dcPZerb",
        "outputId": "2f483203-1ff8-4545-faf3-387168a75bd1"
      },
      "execution_count": 60,
      "outputs": [
        {
          "output_type": "execute_result",
          "data": {
            "text/plain": [
              "PATIENT_ID\n",
              "003c0d44-9dfc-ca91-6121-373a8e265bd4    1\n",
              "00edcb46-afd4-4687-c16a-f4e20dfc3e92    1\n",
              "01d6dc15-6313-5327-8491-49be72f40d59    3\n",
              "0302c3b7-b985-7250-8633-fd6f4c5d3ec0    1\n",
              "03127a78-1c85-5b31-d4d5-14e941262148    1\n",
              "                                       ..\n",
              "f77e7391-8d71-066c-cb5e-a78908d32a17    1\n",
              "fb6e6891-2515-b709-0435-c5fb14cf247a    4\n",
              "fcda0346-ab0a-87e6-42b9-f53c11b06136    3\n",
              "fe55dd2f-bc68-7056-1b29-1d4c4563d30b    1\n",
              "ff5c1f25-14da-ba3a-51bb-c5735d406ea8    1\n",
              "Length: 310, dtype: int64"
            ]
          },
          "metadata": {},
          "execution_count": 60
        }
      ]
    },
    {
      "cell_type": "code",
      "source": [
        "# number of procedures pre covid19 in our df\n",
        "pre_covid.groupby([\"PATIENT_ID\"]).size()"
      ],
      "metadata": {
        "colab": {
          "base_uri": "https://localhost:8080/"
        },
        "id": "6e1CKnSIZs6-",
        "outputId": "e8017deb-82ec-4955-f4a6-96351d19b5fd"
      },
      "execution_count": 61,
      "outputs": [
        {
          "output_type": "execute_result",
          "data": {
            "text/plain": [
              "PATIENT_ID\n",
              "003c0d44-9dfc-ca91-6121-373a8e265bd4     12\n",
              "00edcb46-afd4-4687-c16a-f4e20dfc3e92      1\n",
              "01518fe2-bd76-d1e9-a656-1e7eae35dd17      2\n",
              "01581211-2e47-027b-71a0-dcbf0f4e6622      2\n",
              "01a49388-c6c0-1d10-00ee-8360a11941e7      3\n",
              "                                       ... \n",
              "fd4841b4-eb96-de29-c392-71785cbf1650      3\n",
              "fda2e613-dd00-2f49-6e86-0c1e5c281658      2\n",
              "fe55dd2f-bc68-7056-1b29-1d4c4563d30b      9\n",
              "feb25ae2-c154-4c42-3276-bc6c1e337a6c      2\n",
              "ff5c1f25-14da-ba3a-51bb-c5735d406ea8    178\n",
              "Length: 758, dtype: int64"
            ]
          },
          "metadata": {},
          "execution_count": 61
        }
      ]
    },
    {
      "cell_type": "code",
      "source": [
        "# Most often performed Procedures during covid19\n",
        "covid_year['DESCRIPTION'].value_counts()[:20]"
      ],
      "metadata": {
        "colab": {
          "base_uri": "https://localhost:8080/"
        },
        "id": "M84L9SNOZ3zD",
        "outputId": "0fd399a9-6a0d-40fb-c61f-4ae2d9bd49ef"
      },
      "execution_count": 62,
      "outputs": [
        {
          "output_type": "execute_result",
          "data": {
            "text/plain": [
              "Electrical cardioversion                                                               123\n",
              "Oxygen administration by mask (procedure)                                              123\n",
              "Placing subject in prone position (procedure)                                          122\n",
              "Face mask (physical object)                                                             90\n",
              "Colonoscopy                                                                             55\n",
              "Medication Reconciliation (procedure)                                                   42\n",
              "Catheter ablation of tissue of heart                                                    35\n",
              "Echocardiography (procedure)                                                            25\n",
              "Intramuscular injection                                                                 25\n",
              "Percutaneous mechanical thrombectomy of portal vein using fluoroscopic guidance         16\n",
              "Controlled ventilation procedure and therapy  initiation and management (procedure)     15\n",
              "Plain chest X-ray (procedure)                                                           14\n",
              "Evaluation of uterine fundal height                                                     10\n",
              "Auscultation of the fetal heart                                                         10\n",
              "Hemodialysis (procedure)                                                                 9\n",
              "Mammography (procedure)                                                                  9\n",
              "Rectal polypectomy                                                                       7\n",
              "Cytopathology procedure  preparation of smear  genital source (procedure)                7\n",
              "Manual pelvic examination (procedure)                                                    7\n",
              "Insertion of biventricular implantable cardioverter defibrillator                        6\n",
              "Name: DESCRIPTION, dtype: int64"
            ]
          },
          "metadata": {},
          "execution_count": 62
        }
      ]
    },
    {
      "cell_type": "code",
      "source": [
        "# Most often performed Procedures pre covid19\n",
        "pre_covid['DESCRIPTION'].value_counts()[:20]"
      ],
      "metadata": {
        "colab": {
          "base_uri": "https://localhost:8080/"
        },
        "id": "xV0hzcoRZ-Jr",
        "outputId": "fbf30426-ce09-4a00-dbef-a82ce3a6c2e5"
      },
      "execution_count": 63,
      "outputs": [
        {
          "output_type": "execute_result",
          "data": {
            "text/plain": [
              "Renal dialysis (procedure)                                                         1174\n",
              "Electrical cardioversion                                                            970\n",
              "Medication Reconciliation (procedure)                                               702\n",
              "Colonoscopy                                                                         490\n",
              "Evaluation of uterine fundal height                                                 387\n",
              "Auscultation of the fetal heart                                                     387\n",
              "Echocardiography (procedure)                                                        346\n",
              "Catheter ablation of tissue of heart                                                320\n",
              "Intramuscular injection                                                             191\n",
              "Combined chemotherapy and radiation therapy (procedure)                             160\n",
              "Percutaneous mechanical thrombectomy of portal vein using fluoroscopic guidance     134\n",
              "Subcutaneous immunotherapy                                                          120\n",
              "Mammography (procedure)                                                             111\n",
              "Percutaneous coronary intervention                                                   96\n",
              "Coronary artery bypass grafting                                                      96\n",
              "Rectal polypectomy                                                                   90\n",
              "Cytopathology procedure  preparation of smear  genital source (procedure)            87\n",
              "Manual pelvic examination (procedure)                                                87\n",
              "Hemoglobin / Hematocrit / Platelet count                                             86\n",
              "Insertion of biventricular implantable cardioverter defibrillator                    83\n",
              "Name: DESCRIPTION, dtype: int64"
            ]
          },
          "metadata": {},
          "execution_count": 63
        }
      ]
    },
    {
      "cell_type": "markdown",
      "source": [
        "# Visualization"
      ],
      "metadata": {
        "id": "OdCGtO5daMxE"
      }
    },
    {
      "cell_type": "code",
      "source": [
        "final_df.sort_values(by=['DATE'])"
      ],
      "metadata": {
        "colab": {
          "base_uri": "https://localhost:8080/",
          "height": 424
        },
        "id": "5APf4YZYbEEw",
        "outputId": "ef9593c0-4c45-4ff3-bac4-6e621703d40b"
      },
      "execution_count": 27,
      "outputs": [
        {
          "output_type": "execute_result",
          "data": {
            "text/html": [
              "\n",
              "  <div id=\"df-e404ac43-150a-489b-afc6-f78263daab49\">\n",
              "    <div class=\"colab-df-container\">\n",
              "      <div>\n",
              "<style scoped>\n",
              "    .dataframe tbody tr th:only-of-type {\n",
              "        vertical-align: middle;\n",
              "    }\n",
              "\n",
              "    .dataframe tbody tr th {\n",
              "        vertical-align: top;\n",
              "    }\n",
              "\n",
              "    .dataframe thead th {\n",
              "        text-align: right;\n",
              "    }\n",
              "</style>\n",
              "<table border=\"1\" class=\"dataframe\">\n",
              "  <thead>\n",
              "    <tr style=\"text-align: right;\">\n",
              "      <th></th>\n",
              "      <th>DATASET_ORIGIN</th>\n",
              "      <th>DATE</th>\n",
              "      <th>PATIENT_ID</th>\n",
              "      <th>ENCOUNTER_ID</th>\n",
              "      <th>CODE</th>\n",
              "      <th>DESCRIPTION</th>\n",
              "    </tr>\n",
              "  </thead>\n",
              "  <tbody>\n",
              "    <tr>\n",
              "      <th>12686</th>\n",
              "      <td>dermatitis</td>\n",
              "      <td>1941</td>\n",
              "      <td>1bb843ef-7f81-b5f0-89b6-12112988032b</td>\n",
              "      <td>ad2b46bf-c787-f75c-4544-8656b5dc6550</td>\n",
              "      <td>40701008</td>\n",
              "      <td>Echocardiography (procedure)</td>\n",
              "    </tr>\n",
              "    <tr>\n",
              "      <th>12687</th>\n",
              "      <td>dermatitis</td>\n",
              "      <td>1941</td>\n",
              "      <td>1bb843ef-7f81-b5f0-89b6-12112988032b</td>\n",
              "      <td>ad2b46bf-c787-f75c-4544-8656b5dc6550</td>\n",
              "      <td>415070008</td>\n",
              "      <td>Percutaneous coronary intervention</td>\n",
              "    </tr>\n",
              "    <tr>\n",
              "      <th>12688</th>\n",
              "      <td>dermatitis</td>\n",
              "      <td>1941</td>\n",
              "      <td>1bb843ef-7f81-b5f0-89b6-12112988032b</td>\n",
              "      <td>ad2b46bf-c787-f75c-4544-8656b5dc6550</td>\n",
              "      <td>232717009</td>\n",
              "      <td>Coronary artery bypass grafting</td>\n",
              "    </tr>\n",
              "    <tr>\n",
              "      <th>8008</th>\n",
              "      <td>colorectal_cancer</td>\n",
              "      <td>1956</td>\n",
              "      <td>b7ee5d7e-88cf-11d2-6fce-32c60bdb1fe4</td>\n",
              "      <td>99bd12d9-ec04-229d-4ff2-fc554b876646</td>\n",
              "      <td>40701008</td>\n",
              "      <td>Echocardiography (procedure)</td>\n",
              "    </tr>\n",
              "    <tr>\n",
              "      <th>8009</th>\n",
              "      <td>colorectal_cancer</td>\n",
              "      <td>1956</td>\n",
              "      <td>b7ee5d7e-88cf-11d2-6fce-32c60bdb1fe4</td>\n",
              "      <td>99bd12d9-ec04-229d-4ff2-fc554b876646</td>\n",
              "      <td>415070008</td>\n",
              "      <td>Percutaneous coronary intervention</td>\n",
              "    </tr>\n",
              "    <tr>\n",
              "      <th>...</th>\n",
              "      <td>...</td>\n",
              "      <td>...</td>\n",
              "      <td>...</td>\n",
              "      <td>...</td>\n",
              "      <td>...</td>\n",
              "      <td>...</td>\n",
              "    </tr>\n",
              "    <tr>\n",
              "      <th>1399</th>\n",
              "      <td>allergy</td>\n",
              "      <td>2020</td>\n",
              "      <td>46cdc565-e220-98df-17b2-f9080c8d7f43</td>\n",
              "      <td>ee73b39c-42e7-7920-5f7a-5f6d3bf7de53</td>\n",
              "      <td>76601001</td>\n",
              "      <td>Intramuscular injection</td>\n",
              "    </tr>\n",
              "    <tr>\n",
              "      <th>1398</th>\n",
              "      <td>allergy</td>\n",
              "      <td>2020</td>\n",
              "      <td>46cdc565-e220-98df-17b2-f9080c8d7f43</td>\n",
              "      <td>ed419d11-6002-5e55-962c-f25c119baf2c</td>\n",
              "      <td>430193006</td>\n",
              "      <td>Medication Reconciliation (procedure)</td>\n",
              "    </tr>\n",
              "    <tr>\n",
              "      <th>1397</th>\n",
              "      <td>allergy</td>\n",
              "      <td>2020</td>\n",
              "      <td>46cdc565-e220-98df-17b2-f9080c8d7f43</td>\n",
              "      <td>15e700a4-7216-784a-6dfc-a97b06d663ab</td>\n",
              "      <td>76601001</td>\n",
              "      <td>Intramuscular injection</td>\n",
              "    </tr>\n",
              "    <tr>\n",
              "      <th>1484</th>\n",
              "      <td>allergy</td>\n",
              "      <td>2020</td>\n",
              "      <td>560a4b1a-5d16-3a8d-144a-e5f36f801a4e</td>\n",
              "      <td>56a8eff0-e20d-4ec8-91fd-035fb2df566a</td>\n",
              "      <td>431182000</td>\n",
              "      <td>Placing subject in prone position (procedure)</td>\n",
              "    </tr>\n",
              "    <tr>\n",
              "      <th>778</th>\n",
              "      <td>allergy</td>\n",
              "      <td>2020</td>\n",
              "      <td>6cf1912d-22da-29d6-4469-8d85ac6ba09d</td>\n",
              "      <td>a7151682-62bb-ae68-0213-a9715240a100</td>\n",
              "      <td>431182000</td>\n",
              "      <td>Placing subject in prone position (procedure)</td>\n",
              "    </tr>\n",
              "  </tbody>\n",
              "</table>\n",
              "<p>9113 rows × 6 columns</p>\n",
              "</div>\n",
              "      <button class=\"colab-df-convert\" onclick=\"convertToInteractive('df-e404ac43-150a-489b-afc6-f78263daab49')\"\n",
              "              title=\"Convert this dataframe to an interactive table.\"\n",
              "              style=\"display:none;\">\n",
              "        \n",
              "  <svg xmlns=\"http://www.w3.org/2000/svg\" height=\"24px\"viewBox=\"0 0 24 24\"\n",
              "       width=\"24px\">\n",
              "    <path d=\"M0 0h24v24H0V0z\" fill=\"none\"/>\n",
              "    <path d=\"M18.56 5.44l.94 2.06.94-2.06 2.06-.94-2.06-.94-.94-2.06-.94 2.06-2.06.94zm-11 1L8.5 8.5l.94-2.06 2.06-.94-2.06-.94L8.5 2.5l-.94 2.06-2.06.94zm10 10l.94 2.06.94-2.06 2.06-.94-2.06-.94-.94-2.06-.94 2.06-2.06.94z\"/><path d=\"M17.41 7.96l-1.37-1.37c-.4-.4-.92-.59-1.43-.59-.52 0-1.04.2-1.43.59L10.3 9.45l-7.72 7.72c-.78.78-.78 2.05 0 2.83L4 21.41c.39.39.9.59 1.41.59.51 0 1.02-.2 1.41-.59l7.78-7.78 2.81-2.81c.8-.78.8-2.07 0-2.86zM5.41 20L4 18.59l7.72-7.72 1.47 1.35L5.41 20z\"/>\n",
              "  </svg>\n",
              "      </button>\n",
              "      \n",
              "  <style>\n",
              "    .colab-df-container {\n",
              "      display:flex;\n",
              "      flex-wrap:wrap;\n",
              "      gap: 12px;\n",
              "    }\n",
              "\n",
              "    .colab-df-convert {\n",
              "      background-color: #E8F0FE;\n",
              "      border: none;\n",
              "      border-radius: 50%;\n",
              "      cursor: pointer;\n",
              "      display: none;\n",
              "      fill: #1967D2;\n",
              "      height: 32px;\n",
              "      padding: 0 0 0 0;\n",
              "      width: 32px;\n",
              "    }\n",
              "\n",
              "    .colab-df-convert:hover {\n",
              "      background-color: #E2EBFA;\n",
              "      box-shadow: 0px 1px 2px rgba(60, 64, 67, 0.3), 0px 1px 3px 1px rgba(60, 64, 67, 0.15);\n",
              "      fill: #174EA6;\n",
              "    }\n",
              "\n",
              "    [theme=dark] .colab-df-convert {\n",
              "      background-color: #3B4455;\n",
              "      fill: #D2E3FC;\n",
              "    }\n",
              "\n",
              "    [theme=dark] .colab-df-convert:hover {\n",
              "      background-color: #434B5C;\n",
              "      box-shadow: 0px 1px 3px 1px rgba(0, 0, 0, 0.15);\n",
              "      filter: drop-shadow(0px 1px 2px rgba(0, 0, 0, 0.3));\n",
              "      fill: #FFFFFF;\n",
              "    }\n",
              "  </style>\n",
              "\n",
              "      <script>\n",
              "        const buttonEl =\n",
              "          document.querySelector('#df-e404ac43-150a-489b-afc6-f78263daab49 button.colab-df-convert');\n",
              "        buttonEl.style.display =\n",
              "          google.colab.kernel.accessAllowed ? 'block' : 'none';\n",
              "\n",
              "        async function convertToInteractive(key) {\n",
              "          const element = document.querySelector('#df-e404ac43-150a-489b-afc6-f78263daab49');\n",
              "          const dataTable =\n",
              "            await google.colab.kernel.invokeFunction('convertToInteractive',\n",
              "                                                     [key], {});\n",
              "          if (!dataTable) return;\n",
              "\n",
              "          const docLinkHtml = 'Like what you see? Visit the ' +\n",
              "            '<a target=\"_blank\" href=https://colab.research.google.com/notebooks/data_table.ipynb>data table notebook</a>'\n",
              "            + ' to learn more about interactive tables.';\n",
              "          element.innerHTML = '';\n",
              "          dataTable['output_type'] = 'display_data';\n",
              "          await google.colab.output.renderOutput(dataTable, element);\n",
              "          const docLink = document.createElement('div');\n",
              "          docLink.innerHTML = docLinkHtml;\n",
              "          element.appendChild(docLink);\n",
              "        }\n",
              "      </script>\n",
              "    </div>\n",
              "  </div>\n",
              "  "
            ],
            "text/plain": [
              "          DATASET_ORIGIN  ...                                    DESCRIPTION\n",
              "12686         dermatitis  ...                   Echocardiography (procedure)\n",
              "12687         dermatitis  ...             Percutaneous coronary intervention\n",
              "12688         dermatitis  ...                Coronary artery bypass grafting\n",
              "8008   colorectal_cancer  ...                   Echocardiography (procedure)\n",
              "8009   colorectal_cancer  ...             Percutaneous coronary intervention\n",
              "...                  ...  ...                                            ...\n",
              "1399             allergy  ...                        Intramuscular injection\n",
              "1398             allergy  ...          Medication Reconciliation (procedure)\n",
              "1397             allergy  ...                        Intramuscular injection\n",
              "1484             allergy  ...  Placing subject in prone position (procedure)\n",
              "778              allergy  ...  Placing subject in prone position (procedure)\n",
              "\n",
              "[9113 rows x 6 columns]"
            ]
          },
          "metadata": {},
          "execution_count": 27
        }
      ]
    },
    {
      "cell_type": "code",
      "source": [
        "# Start counting procedures from 2010\n",
        "df_recent = final_df[final_df[\"DATE\"] >= \"2010\"]"
      ],
      "metadata": {
        "id": "OoVh63fglHkG"
      },
      "execution_count": 64,
      "outputs": []
    },
    {
      "cell_type": "code",
      "source": [
        "df_recent = df_recent.sort_values(by='DATE')"
      ],
      "metadata": {
        "id": "-g1FMcqVl3Pw"
      },
      "execution_count": 68,
      "outputs": []
    },
    {
      "cell_type": "code",
      "source": [
        "sns.set(rc={'figure.figsize':(8, 8)})\n",
        "\n",
        "sns.countplot(x='DATE', data=df_recent)"
      ],
      "metadata": {
        "colab": {
          "base_uri": "https://localhost:8080/",
          "height": 521
        },
        "id": "2-2EznMdllNp",
        "outputId": "2112bc66-8bc6-41c3-8d7b-a1c7bfe7819f"
      },
      "execution_count": 70,
      "outputs": [
        {
          "output_type": "execute_result",
          "data": {
            "text/plain": [
              "<matplotlib.axes._subplots.AxesSubplot at 0x7fe93d90aa90>"
            ]
          },
          "metadata": {},
          "execution_count": 70
        },
        {
          "output_type": "display_data",
          "data": {
            "image/png": "[encoded data removed]",
            "text/plain": [
              "<Figure size 576x576 with 1 Axes>"
            ]
          },
          "metadata": {}
        }
      ]
    }
  ]
}