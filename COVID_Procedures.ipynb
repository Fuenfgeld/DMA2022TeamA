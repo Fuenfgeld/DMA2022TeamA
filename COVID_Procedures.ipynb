{
  "nbformat": 4,
  "nbformat_minor": 0,
  "metadata": {
    "colab": {
      "name": "COVID-Procedures",
      "provenance": [],
      "toc_visible": true,
      "authorship_tag": "ABX9TyObdmOddwC5gIG+ROab2QKb",
      "include_colab_link": true
    },
    "kernelspec": {
      "name": "python3",
      "display_name": "Python 3"
    },
    "language_info": {
      "name": "python"
    }
  },
  "cells": [
    {
      "cell_type": "markdown",
      "metadata": {
        "id": "view-in-github",
        "colab_type": "text"
      },
      "source": [
        "<a href=\"https://colab.research.google.com/github/Fuenfgeld/DMA2022TeamA/blob/main/COVID_Procedures.ipynb\" target=\"_parent\"><img src=\"https://colab.research.google.com/assets/colab-badge.svg\" alt=\"Open In Colab\"/></a>"
      ]
    },
    {
      "cell_type": "markdown",
      "source": [
        "# Loading of the Datawarehouse and programs"
      ],
      "metadata": {
        "id": "pjotHUARQooZ"
      }
    },
    {
      "cell_type": "code",
      "execution_count": 1,
      "metadata": {
        "colab": {
          "base_uri": "https://localhost:8080/"
        },
        "id": "xX4dop0oOrQe",
        "outputId": "5bc63a23-8d9c-4a06-d6df-07ebba2f5723"
      },
      "outputs": [
        {
          "output_type": "stream",
          "name": "stdout",
          "text": [
            "Collecting https://github.com/pandas-profiling/pandas-profiling/archive/master.zip\n",
            "  Downloading https://github.com/pandas-profiling/pandas-profiling/archive/master.zip\n",
            "\u001b[K     \\ 25.9 MB 638 kB/s\n",
            "\u001b[?25hRequirement already satisfied: joblib~=1.1.0 in /usr/local/lib/python3.7/dist-packages (from pandas-profiling==3.1.1) (1.1.0)\n",
            "Requirement already satisfied: scipy>=1.4.1 in /usr/local/lib/python3.7/dist-packages (from pandas-profiling==3.1.1) (1.4.1)\n",
            "Requirement already satisfied: pandas!=1.0.0,!=1.0.1,!=1.0.2,!=1.1.0,>=0.25.3 in /usr/local/lib/python3.7/dist-packages (from pandas-profiling==3.1.1) (1.3.5)\n",
            "Requirement already satisfied: matplotlib>=3.2.0 in /usr/local/lib/python3.7/dist-packages (from pandas-profiling==3.1.1) (3.2.2)\n",
            "Collecting pydantic>=1.8.1\n",
            "  Downloading pydantic-1.9.0-cp37-cp37m-manylinux_2_17_x86_64.manylinux2014_x86_64.whl (10.9 MB)\n",
            "\u001b[K     |████████████████████████████████| 10.9 MB 6.1 MB/s \n",
            "\u001b[?25hCollecting PyYAML>=5.0.0\n",
            "  Downloading PyYAML-6.0-cp37-cp37m-manylinux_2_5_x86_64.manylinux1_x86_64.manylinux_2_12_x86_64.manylinux2010_x86_64.whl (596 kB)\n",
            "\u001b[K     |████████████████████████████████| 596 kB 45.8 MB/s \n",
            "\u001b[?25hRequirement already satisfied: jinja2>=2.11.1 in /usr/local/lib/python3.7/dist-packages (from pandas-profiling==3.1.1) (2.11.3)\n",
            "Requirement already satisfied: markupsafe~=2.0.1 in /usr/local/lib/python3.7/dist-packages (from pandas-profiling==3.1.1) (2.0.1)\n",
            "Collecting visions[type_image_path]==0.7.4\n",
            "  Downloading visions-0.7.4-py3-none-any.whl (102 kB)\n",
            "\u001b[K     |████████████████████████████████| 102 kB 8.8 MB/s \n",
            "\u001b[?25hRequirement already satisfied: numpy>=1.16.0 in /usr/local/lib/python3.7/dist-packages (from pandas-profiling==3.1.1) (1.19.5)\n",
            "Collecting htmlmin>=0.1.12\n",
            "  Downloading htmlmin-0.1.12.tar.gz (19 kB)\n",
            "Requirement already satisfied: missingno>=0.4.2 in /usr/local/lib/python3.7/dist-packages (from pandas-profiling==3.1.1) (0.5.0)\n",
            "Collecting phik>=0.11.1\n",
            "  Downloading phik-0.12.0-cp37-cp37m-manylinux2010_x86_64.whl (675 kB)\n",
            "\u001b[K     |████████████████████████████████| 675 kB 57.0 MB/s \n",
            "\u001b[?25hCollecting tangled-up-in-unicode==0.2.0\n",
            "  Downloading tangled_up_in_unicode-0.2.0-py3-none-any.whl (4.7 MB)\n",
            "\u001b[K     |████████████████████████████████| 4.7 MB 57.2 MB/s \n",
            "\u001b[?25hCollecting requests>=2.24.0\n",
            "  Downloading requests-2.27.1-py2.py3-none-any.whl (63 kB)\n",
            "\u001b[K     |████████████████████████████████| 63 kB 1.5 MB/s \n",
            "\u001b[?25hRequirement already satisfied: tqdm>=4.48.2 in /usr/local/lib/python3.7/dist-packages (from pandas-profiling==3.1.1) (4.62.3)\n",
            "Requirement already satisfied: seaborn>=0.10.1 in /usr/local/lib/python3.7/dist-packages (from pandas-profiling==3.1.1) (0.11.2)\n",
            "Collecting multimethod>=1.4\n",
            "  Downloading multimethod-1.7-py3-none-any.whl (9.5 kB)\n",
            "Requirement already satisfied: attrs>=19.3.0 in /usr/local/lib/python3.7/dist-packages (from visions[type_image_path]==0.7.4->pandas-profiling==3.1.1) (21.4.0)\n",
            "Requirement already satisfied: networkx>=2.4 in /usr/local/lib/python3.7/dist-packages (from visions[type_image_path]==0.7.4->pandas-profiling==3.1.1) (2.6.3)\n",
            "Collecting imagehash\n",
            "  Downloading ImageHash-4.2.1.tar.gz (812 kB)\n",
            "\u001b[K     |████████████████████████████████| 812 kB 64.2 MB/s \n",
            "\u001b[?25hRequirement already satisfied: Pillow in /usr/local/lib/python3.7/dist-packages (from visions[type_image_path]==0.7.4->pandas-profiling==3.1.1) (7.1.2)\n",
            "Requirement already satisfied: kiwisolver>=1.0.1 in /usr/local/lib/python3.7/dist-packages (from matplotlib>=3.2.0->pandas-profiling==3.1.1) (1.3.2)\n",
            "Requirement already satisfied: python-dateutil>=2.1 in /usr/local/lib/python3.7/dist-packages (from matplotlib>=3.2.0->pandas-profiling==3.1.1) (2.8.2)\n",
            "Requirement already satisfied: pyparsing!=2.0.4,!=2.1.2,!=2.1.6,>=2.0.1 in /usr/local/lib/python3.7/dist-packages (from matplotlib>=3.2.0->pandas-profiling==3.1.1) (3.0.7)\n",
            "Requirement already satisfied: cycler>=0.10 in /usr/local/lib/python3.7/dist-packages (from matplotlib>=3.2.0->pandas-profiling==3.1.1) (0.11.0)\n",
            "Requirement already satisfied: pytz>=2017.3 in /usr/local/lib/python3.7/dist-packages (from pandas!=1.0.0,!=1.0.1,!=1.0.2,!=1.1.0,>=0.25.3->pandas-profiling==3.1.1) (2018.9)\n",
            "Collecting scipy>=1.4.1\n",
            "  Downloading scipy-1.7.3-cp37-cp37m-manylinux_2_12_x86_64.manylinux2010_x86_64.whl (38.1 MB)\n",
            "\u001b[K     |████████████████████████████████| 38.1 MB 1.2 MB/s \n",
            "\u001b[?25hRequirement already satisfied: typing-extensions>=3.7.4.3 in /usr/local/lib/python3.7/dist-packages (from pydantic>=1.8.1->pandas-profiling==3.1.1) (3.10.0.2)\n",
            "Requirement already satisfied: six>=1.5 in /usr/local/lib/python3.7/dist-packages (from python-dateutil>=2.1->matplotlib>=3.2.0->pandas-profiling==3.1.1) (1.15.0)\n",
            "Requirement already satisfied: urllib3<1.27,>=1.21.1 in /usr/local/lib/python3.7/dist-packages (from requests>=2.24.0->pandas-profiling==3.1.1) (1.24.3)\n",
            "Requirement already satisfied: charset-normalizer~=2.0.0 in /usr/local/lib/python3.7/dist-packages (from requests>=2.24.0->pandas-profiling==3.1.1) (2.0.11)\n",
            "Requirement already satisfied: idna<4,>=2.5 in /usr/local/lib/python3.7/dist-packages (from requests>=2.24.0->pandas-profiling==3.1.1) (2.10)\n",
            "Requirement already satisfied: certifi>=2017.4.17 in /usr/local/lib/python3.7/dist-packages (from requests>=2.24.0->pandas-profiling==3.1.1) (2021.10.8)\n",
            "Requirement already satisfied: PyWavelets in /usr/local/lib/python3.7/dist-packages (from imagehash->visions[type_image_path]==0.7.4->pandas-profiling==3.1.1) (1.2.0)\n",
            "Building wheels for collected packages: pandas-profiling, htmlmin, imagehash\n",
            "  Building wheel for pandas-profiling (setup.py) ... \u001b[?25l\u001b[?25hdone\n",
            "  Created wheel for pandas-profiling: filename=pandas_profiling-3.1.1-py2.py3-none-any.whl size=261287 sha256=f76545a9de9784a9425fb954c28a447b313c3305262bd083838a678399b46ab4\n",
            "  Stored in directory: /tmp/pip-ephem-wheel-cache-kfij3jpd/wheels/cc/d5/09/083fb07c9363a2f45854b0e3a7de7d7c560f07da74b9e9769d\n",
            "  Building wheel for htmlmin (setup.py) ... \u001b[?25l\u001b[?25hdone\n",
            "  Created wheel for htmlmin: filename=htmlmin-0.1.12-py3-none-any.whl size=27098 sha256=a666498c88bdf325fd293023145aed34da30bd53519b01302a54fe8e4dcee199\n",
            "  Stored in directory: /root/.cache/pip/wheels/70/e1/52/5b14d250ba868768823940c3229e9950d201a26d0bd3ee8655\n",
            "  Building wheel for imagehash (setup.py) ... \u001b[?25l\u001b[?25hdone\n",
            "  Created wheel for imagehash: filename=ImageHash-4.2.1-py2.py3-none-any.whl size=295206 sha256=20a18c9172b962c623abfe13e71cef80ee0ac0ef6b982d320c51c7d420222472\n",
            "  Stored in directory: /root/.cache/pip/wheels/4c/d5/59/5e3e297533ddb09407769762985d134135064c6831e29a914e\n",
            "Successfully built pandas-profiling htmlmin imagehash\n",
            "Installing collected packages: tangled-up-in-unicode, scipy, multimethod, visions, imagehash, requests, PyYAML, pydantic, phik, htmlmin, pandas-profiling\n",
            "  Attempting uninstall: scipy\n",
            "    Found existing installation: scipy 1.4.1\n",
            "    Uninstalling scipy-1.4.1:\n",
            "      Successfully uninstalled scipy-1.4.1\n",
            "  Attempting uninstall: requests\n",
            "    Found existing installation: requests 2.23.0\n",
            "    Uninstalling requests-2.23.0:\n",
            "      Successfully uninstalled requests-2.23.0\n",
            "  Attempting uninstall: PyYAML\n",
            "    Found existing installation: PyYAML 3.13\n",
            "    Uninstalling PyYAML-3.13:\n",
            "      Successfully uninstalled PyYAML-3.13\n",
            "  Attempting uninstall: pandas-profiling\n",
            "    Found existing installation: pandas-profiling 1.4.1\n",
            "    Uninstalling pandas-profiling-1.4.1:\n",
            "      Successfully uninstalled pandas-profiling-1.4.1\n",
            "\u001b[31mERROR: pip's dependency resolver does not currently take into account all the packages that are installed. This behaviour is the source of the following dependency conflicts.\n",
            "google-colab 1.0.0 requires requests~=2.23.0, but you have requests 2.27.1 which is incompatible.\n",
            "datascience 0.10.6 requires folium==0.2.1, but you have folium 0.8.3 which is incompatible.\n",
            "albumentations 0.1.12 requires imgaug<0.2.7,>=0.2.5, but you have imgaug 0.2.9 which is incompatible.\u001b[0m\n",
            "Successfully installed PyYAML-6.0 htmlmin-0.1.12 imagehash-4.2.1 multimethod-1.7 pandas-profiling-3.1.1 phik-0.12.0 pydantic-1.9.0 requests-2.27.1 scipy-1.7.3 tangled-up-in-unicode-0.2.0 visions-0.7.4\n"
          ]
        }
      ],
      "source": [
        "# install the newest version \n",
        "!pip3 install https://github.com/pandas-profiling/pandas-profiling/archive/master.zip"
      ]
    },
    {
      "cell_type": "code",
      "source": [
        "import pandas as pd\n",
        "import sqlite3\n",
        "import seaborn as sns\n",
        "import matplotlib.pyplot as plt\n",
        "import numpy as np\n",
        "from pandas_profiling import ProfileReport"
      ],
      "metadata": {
        "id": "Wvn0IeH4OzkF"
      },
      "execution_count": 2,
      "outputs": []
    },
    {
      "cell_type": "code",
      "source": [
        "%matplotlib inline"
      ],
      "metadata": {
        "id": "IRl9Y5lEO4Og"
      },
      "execution_count": 3,
      "outputs": []
    },
    {
      "cell_type": "code",
      "source": [
        "from google.colab import drive\n",
        "# mount drive to access database\n",
        "drive.mount(\"/content/gdrive\")"
      ],
      "metadata": {
        "colab": {
          "base_uri": "https://localhost:8080/"
        },
        "id": "t7oZpI7VO7My",
        "outputId": "d7d44274-6f43-4beb-b1e5-c3fa725211fb"
      },
      "execution_count": 4,
      "outputs": [
        {
          "output_type": "stream",
          "name": "stdout",
          "text": [
            "Mounted at /content/gdrive\n"
          ]
        }
      ]
    },
    {
      "cell_type": "code",
      "source": [
        "material_path = \"/gdrive/Shareddrives/Gruppe A\""
      ],
      "metadata": {
        "id": "6-P6-FnsO9ZV"
      },
      "execution_count": 5,
      "outputs": []
    },
    {
      "cell_type": "code",
      "source": [
        "!ls \"/content/gdrive/Shareddrives/Gruppe A/Datawarehouse.db\""
      ],
      "metadata": {
        "colab": {
          "base_uri": "https://localhost:8080/"
        },
        "id": "FV9R3J8jO_fw",
        "outputId": "c99b6358-a1b6-4610-cd32-ae7bbc95f5ac"
      },
      "execution_count": 6,
      "outputs": [
        {
          "output_type": "stream",
          "name": "stdout",
          "text": [
            "'/content/gdrive/Shareddrives/Gruppe A/Datawarehouse.db'\n"
          ]
        }
      ]
    },
    {
      "cell_type": "code",
      "source": [
        "# datawarehouse path\n",
        "DB_DWH_PATH = f\"/content/gdrive/Shareddrives/Gruppe A/Datawarehouse.db\"\n",
        "print(\"Datawarehouse: \", DB_DWH_PATH)\n",
        "# connect to db\n",
        "dwh_conn = sqlite3.connect(DB_DWH_PATH)"
      ],
      "metadata": {
        "colab": {
          "base_uri": "https://localhost:8080/"
        },
        "id": "G8AgIEB-PBNb",
        "outputId": "7cdf0300-3194-482b-8c46-56463f564172"
      },
      "execution_count": 7,
      "outputs": [
        {
          "output_type": "stream",
          "name": "stdout",
          "text": [
            "Datawarehouse:  /content/gdrive/Shareddrives/Gruppe A/Datawarehouse.db\n"
          ]
        }
      ]
    },
    {
      "cell_type": "code",
      "source": [
        "# list of tables in db\n",
        "if dwh_conn is not None:\n",
        "  dwh_cursor = dwh_conn.cursor()\n",
        "  dwh_cursor.execute(\"SELECT name FROM sqlite_master WHERE type='table';\")\n",
        "  print(\"List of Tables\", dwh_cursor.fetchall())"
      ],
      "metadata": {
        "colab": {
          "base_uri": "https://localhost:8080/"
        },
        "id": "ATe9znh3PD21",
        "outputId": "e42e9131-35b0-41b3-8bb3-a53e48b9c289"
      },
      "execution_count": 8,
      "outputs": [
        {
          "output_type": "stream",
          "name": "stdout",
          "text": [
            "List of Tables [('Zentrum',), ('dimObservations',), ('dimEncounters',), ('dimProcedures',), ('dimConditions',), ('dimPatients',)]\n"
          ]
        }
      ]
    },
    {
      "cell_type": "code",
      "source": [
        "# Read sqlite query results into a pandas DataFrame\n",
        "\n",
        "# Zentrum Tabelle\n",
        "df_Zentrum = pd.read_sql_query(\"SELECT * FROM Zentrum\", dwh_conn)\n",
        "\n",
        "# demographic data\n",
        "df_patients = pd.read_sql_query(\"SELECT * FROM dimPatients\", dwh_conn)\n",
        "# diagnoses data\n",
        "df_conditions = pd.read_sql_query(\"select * from dimConditions\", dwh_conn)\n",
        "\n",
        "# procedure data\n",
        "# df_careplans = pd.read_sql_query(\"select * from careplans_info\", dwh_conn)\n",
        "df_procedures = pd.read_sql_query(\"SELECT * FROM dimProcedures\", dwh_conn)\n",
        "\n",
        "# observations\n",
        "df_observations = pd.read_sql_query(\"SELECT * FROM dimObservations\", dwh_conn)\n",
        "\n",
        "# encounters\n",
        "df_encounters = pd.read_sql_query(\"SELECT * FROM dimEncounters\", dwh_conn)"
      ],
      "metadata": {
        "id": "um7GY7CIPGvY"
      },
      "execution_count": 9,
      "outputs": []
    },
    {
      "cell_type": "code",
      "source": [
        "# Join zwischen dimPatients und dimProcedures\n",
        "covid_procedures = pd.read_sql_query(\"SELECT dimPatients.dataset_origin, dimProcedures.* FROM dimProcedures LEFT JOIN dimPatients ON dimPatients.id=dimProcedures.patient_id\", dwh_conn)"
      ],
      "metadata": {
        "id": "fYHz0dioPbAq"
      },
      "execution_count": 12,
      "outputs": []
    },
    {
      "cell_type": "code",
      "source": [
        "covid_procedures.head()"
      ],
      "metadata": {
        "colab": {
          "base_uri": "https://localhost:8080/",
          "height": 206
        },
        "id": "Il6fMgEBQgdL",
        "outputId": "944cb4f4-6b68-4332-bcf9-db2cb8ef509b"
      },
      "execution_count": 13,
      "outputs": [
        {
          "output_type": "execute_result",
          "data": {
            "text/html": [
              "\n",
              "  <div id=\"df-f83da172-fc26-4007-a59a-268391b4492b\">\n",
              "    <div class=\"colab-df-container\">\n",
              "      <div>\n",
              "<style scoped>\n",
              "    .dataframe tbody tr th:only-of-type {\n",
              "        vertical-align: middle;\n",
              "    }\n",
              "\n",
              "    .dataframe tbody tr th {\n",
              "        vertical-align: top;\n",
              "    }\n",
              "\n",
              "    .dataframe thead th {\n",
              "        text-align: right;\n",
              "    }\n",
              "</style>\n",
              "<table border=\"1\" class=\"dataframe\">\n",
              "  <thead>\n",
              "    <tr style=\"text-align: right;\">\n",
              "      <th></th>\n",
              "      <th>DATASET_ORIGIN</th>\n",
              "      <th>DATE</th>\n",
              "      <th>PATIENT_ID</th>\n",
              "      <th>ENCOUNTER_ID</th>\n",
              "      <th>CODE</th>\n",
              "      <th>DESCRIPTION</th>\n",
              "    </tr>\n",
              "  </thead>\n",
              "  <tbody>\n",
              "    <tr>\n",
              "      <th>0</th>\n",
              "      <td>allergy</td>\n",
              "      <td>2012-12-12T14:56:19Z</td>\n",
              "      <td>3575b903-dbd0-1d55-6146-9e8aa4ed52a5</td>\n",
              "      <td>f222d3d6-d9f0-3586-70d4-69a77f16b58c</td>\n",
              "      <td>73761001</td>\n",
              "      <td>Colonoscopy</td>\n",
              "    </tr>\n",
              "    <tr>\n",
              "      <th>1</th>\n",
              "      <td>allergy</td>\n",
              "      <td>2015-05-04T11:40:19Z</td>\n",
              "      <td>3575b903-dbd0-1d55-6146-9e8aa4ed52a5</td>\n",
              "      <td>c57b93a2-0302-4965-9e2c-713b84e7c24b</td>\n",
              "      <td>430193006</td>\n",
              "      <td>Medication Reconciliation (procedure)</td>\n",
              "    </tr>\n",
              "    <tr>\n",
              "      <th>2</th>\n",
              "      <td>allergy</td>\n",
              "      <td>2017-12-11T15:25:19Z</td>\n",
              "      <td>3575b903-dbd0-1d55-6146-9e8aa4ed52a5</td>\n",
              "      <td>11306017-08e3-1375-fc44-1265a8114949</td>\n",
              "      <td>73761001</td>\n",
              "      <td>Colonoscopy</td>\n",
              "    </tr>\n",
              "    <tr>\n",
              "      <th>3</th>\n",
              "      <td>allergy</td>\n",
              "      <td>2019-01-30T11:40:19Z</td>\n",
              "      <td>3575b903-dbd0-1d55-6146-9e8aa4ed52a5</td>\n",
              "      <td>cd0f83e5-1e70-75ec-1be9-b254e2589e49</td>\n",
              "      <td>23426006</td>\n",
              "      <td>Measurement of respiratory function (procedure)</td>\n",
              "    </tr>\n",
              "    <tr>\n",
              "      <th>4</th>\n",
              "      <td>allergy</td>\n",
              "      <td>2019-05-27T11:40:19Z</td>\n",
              "      <td>3575b903-dbd0-1d55-6146-9e8aa4ed52a5</td>\n",
              "      <td>bdeb0bc4-50bc-5aaa-ab7f-e43535a01bbe</td>\n",
              "      <td>430193006</td>\n",
              "      <td>Medication Reconciliation (procedure)</td>\n",
              "    </tr>\n",
              "  </tbody>\n",
              "</table>\n",
              "</div>\n",
              "      <button class=\"colab-df-convert\" onclick=\"convertToInteractive('df-f83da172-fc26-4007-a59a-268391b4492b')\"\n",
              "              title=\"Convert this dataframe to an interactive table.\"\n",
              "              style=\"display:none;\">\n",
              "        \n",
              "  <svg xmlns=\"http://www.w3.org/2000/svg\" height=\"24px\"viewBox=\"0 0 24 24\"\n",
              "       width=\"24px\">\n",
              "    <path d=\"M0 0h24v24H0V0z\" fill=\"none\"/>\n",
              "    <path d=\"M18.56 5.44l.94 2.06.94-2.06 2.06-.94-2.06-.94-.94-2.06-.94 2.06-2.06.94zm-11 1L8.5 8.5l.94-2.06 2.06-.94-2.06-.94L8.5 2.5l-.94 2.06-2.06.94zm10 10l.94 2.06.94-2.06 2.06-.94-2.06-.94-.94-2.06-.94 2.06-2.06.94z\"/><path d=\"M17.41 7.96l-1.37-1.37c-.4-.4-.92-.59-1.43-.59-.52 0-1.04.2-1.43.59L10.3 9.45l-7.72 7.72c-.78.78-.78 2.05 0 2.83L4 21.41c.39.39.9.59 1.41.59.51 0 1.02-.2 1.41-.59l7.78-7.78 2.81-2.81c.8-.78.8-2.07 0-2.86zM5.41 20L4 18.59l7.72-7.72 1.47 1.35L5.41 20z\"/>\n",
              "  </svg>\n",
              "      </button>\n",
              "      \n",
              "  <style>\n",
              "    .colab-df-container {\n",
              "      display:flex;\n",
              "      flex-wrap:wrap;\n",
              "      gap: 12px;\n",
              "    }\n",
              "\n",
              "    .colab-df-convert {\n",
              "      background-color: #E8F0FE;\n",
              "      border: none;\n",
              "      border-radius: 50%;\n",
              "      cursor: pointer;\n",
              "      display: none;\n",
              "      fill: #1967D2;\n",
              "      height: 32px;\n",
              "      padding: 0 0 0 0;\n",
              "      width: 32px;\n",
              "    }\n",
              "\n",
              "    .colab-df-convert:hover {\n",
              "      background-color: #E2EBFA;\n",
              "      box-shadow: 0px 1px 2px rgba(60, 64, 67, 0.3), 0px 1px 3px 1px rgba(60, 64, 67, 0.15);\n",
              "      fill: #174EA6;\n",
              "    }\n",
              "\n",
              "    [theme=dark] .colab-df-convert {\n",
              "      background-color: #3B4455;\n",
              "      fill: #D2E3FC;\n",
              "    }\n",
              "\n",
              "    [theme=dark] .colab-df-convert:hover {\n",
              "      background-color: #434B5C;\n",
              "      box-shadow: 0px 1px 3px 1px rgba(0, 0, 0, 0.15);\n",
              "      filter: drop-shadow(0px 1px 2px rgba(0, 0, 0, 0.3));\n",
              "      fill: #FFFFFF;\n",
              "    }\n",
              "  </style>\n",
              "\n",
              "      <script>\n",
              "        const buttonEl =\n",
              "          document.querySelector('#df-f83da172-fc26-4007-a59a-268391b4492b button.colab-df-convert');\n",
              "        buttonEl.style.display =\n",
              "          google.colab.kernel.accessAllowed ? 'block' : 'none';\n",
              "\n",
              "        async function convertToInteractive(key) {\n",
              "          const element = document.querySelector('#df-f83da172-fc26-4007-a59a-268391b4492b');\n",
              "          const dataTable =\n",
              "            await google.colab.kernel.invokeFunction('convertToInteractive',\n",
              "                                                     [key], {});\n",
              "          if (!dataTable) return;\n",
              "\n",
              "          const docLinkHtml = 'Like what you see? Visit the ' +\n",
              "            '<a target=\"_blank\" href=https://colab.research.google.com/notebooks/data_table.ipynb>data table notebook</a>'\n",
              "            + ' to learn more about interactive tables.';\n",
              "          element.innerHTML = '';\n",
              "          dataTable['output_type'] = 'display_data';\n",
              "          await google.colab.output.renderOutput(dataTable, element);\n",
              "          const docLink = document.createElement('div');\n",
              "          docLink.innerHTML = docLinkHtml;\n",
              "          element.appendChild(docLink);\n",
              "        }\n",
              "      </script>\n",
              "    </div>\n",
              "  </div>\n",
              "  "
            ],
            "text/plain": [
              "  DATASET_ORIGIN  ...                                      DESCRIPTION\n",
              "0        allergy  ...                                      Colonoscopy\n",
              "1        allergy  ...            Medication Reconciliation (procedure)\n",
              "2        allergy  ...                                      Colonoscopy\n",
              "3        allergy  ...  Measurement of respiratory function (procedure)\n",
              "4        allergy  ...            Medication Reconciliation (procedure)\n",
              "\n",
              "[5 rows x 6 columns]"
            ]
          },
          "metadata": {},
          "execution_count": 13
        }
      ]
    },
    {
      "cell_type": "code",
      "source": [
        "# number of patients in procedure table\n",
        "covid_procedures.groupby([\"PATIENT_ID\"]).size()"
      ],
      "metadata": {
        "colab": {
          "base_uri": "https://localhost:8080/"
        },
        "id": "_X3cFnmjSrUu",
        "outputId": "914d3282-164f-475e-95a8-7b96a17d2065"
      },
      "execution_count": 14,
      "outputs": [
        {
          "output_type": "execute_result",
          "data": {
            "text/plain": [
              "PATIENT_ID\n",
              "0033cec2-67d3-39ec-b0f4-29f91a2918d6      1\n",
              "003c0d44-9dfc-ca91-6121-373a8e265bd4     13\n",
              "00680fcd-0ef2-99c5-f69d-59463206750f     26\n",
              "00edcb46-afd4-4687-c16a-f4e20dfc3e92      2\n",
              "00f4a426-4746-6513-1775-1e8650e2f6b5      1\n",
              "                                       ... \n",
              "ff2d586c-f770-a795-c9eb-0b0d39447e48      1\n",
              "ff5c1f25-14da-ba3a-51bb-c5735d406ea8    179\n",
              "ff9e749b-0abc-22f8-0d62-6912b87781b1      1\n",
              "ffd905f3-45fb-b2a7-7429-bf864ef29d81     28\n",
              "ffe52b9f-cdf1-d315-9286-e64d370edde4      1\n",
              "Length: 1740, dtype: int64"
            ]
          },
          "metadata": {},
          "execution_count": 14
        }
      ]
    },
    {
      "cell_type": "code",
      "source": [
        "# removing covid19 dataset from covid_procedures\n",
        "final_df = covid_procedures[~covid_procedures['DATASET_ORIGIN'].isin(['covid19'])]"
      ],
      "metadata": {
        "id": "rC8UflEzT9rf"
      },
      "execution_count": 23,
      "outputs": []
    },
    {
      "cell_type": "markdown",
      "source": [
        "# Basic data exploration"
      ],
      "metadata": {
        "id": "V40R-pCCQ3JL"
      }
    },
    {
      "cell_type": "code",
      "source": [
        "final_df.head()"
      ],
      "metadata": {
        "colab": {
          "base_uri": "https://localhost:8080/",
          "height": 206
        },
        "id": "dlCUgwOuU0pg",
        "outputId": "0ce8227c-dac2-4900-b47b-73aae366f186"
      },
      "execution_count": 25,
      "outputs": [
        {
          "output_type": "execute_result",
          "data": {
            "text/html": [
              "\n",
              "  <div id=\"df-535114fe-142c-43bf-8c37-ed5d76bc9028\">\n",
              "    <div class=\"colab-df-container\">\n",
              "      <div>\n",
              "<style scoped>\n",
              "    .dataframe tbody tr th:only-of-type {\n",
              "        vertical-align: middle;\n",
              "    }\n",
              "\n",
              "    .dataframe tbody tr th {\n",
              "        vertical-align: top;\n",
              "    }\n",
              "\n",
              "    .dataframe thead th {\n",
              "        text-align: right;\n",
              "    }\n",
              "</style>\n",
              "<table border=\"1\" class=\"dataframe\">\n",
              "  <thead>\n",
              "    <tr style=\"text-align: right;\">\n",
              "      <th></th>\n",
              "      <th>DATASET_ORIGIN</th>\n",
              "      <th>DATE</th>\n",
              "      <th>PATIENT_ID</th>\n",
              "      <th>ENCOUNTER_ID</th>\n",
              "      <th>CODE</th>\n",
              "      <th>DESCRIPTION</th>\n",
              "    </tr>\n",
              "  </thead>\n",
              "  <tbody>\n",
              "    <tr>\n",
              "      <th>0</th>\n",
              "      <td>allergy</td>\n",
              "      <td>2012-12-12T14:56:19Z</td>\n",
              "      <td>3575b903-dbd0-1d55-6146-9e8aa4ed52a5</td>\n",
              "      <td>f222d3d6-d9f0-3586-70d4-69a77f16b58c</td>\n",
              "      <td>73761001</td>\n",
              "      <td>Colonoscopy</td>\n",
              "    </tr>\n",
              "    <tr>\n",
              "      <th>1</th>\n",
              "      <td>allergy</td>\n",
              "      <td>2015-05-04T11:40:19Z</td>\n",
              "      <td>3575b903-dbd0-1d55-6146-9e8aa4ed52a5</td>\n",
              "      <td>c57b93a2-0302-4965-9e2c-713b84e7c24b</td>\n",
              "      <td>430193006</td>\n",
              "      <td>Medication Reconciliation (procedure)</td>\n",
              "    </tr>\n",
              "    <tr>\n",
              "      <th>2</th>\n",
              "      <td>allergy</td>\n",
              "      <td>2017-12-11T15:25:19Z</td>\n",
              "      <td>3575b903-dbd0-1d55-6146-9e8aa4ed52a5</td>\n",
              "      <td>11306017-08e3-1375-fc44-1265a8114949</td>\n",
              "      <td>73761001</td>\n",
              "      <td>Colonoscopy</td>\n",
              "    </tr>\n",
              "    <tr>\n",
              "      <th>3</th>\n",
              "      <td>allergy</td>\n",
              "      <td>2019-01-30T11:40:19Z</td>\n",
              "      <td>3575b903-dbd0-1d55-6146-9e8aa4ed52a5</td>\n",
              "      <td>cd0f83e5-1e70-75ec-1be9-b254e2589e49</td>\n",
              "      <td>23426006</td>\n",
              "      <td>Measurement of respiratory function (procedure)</td>\n",
              "    </tr>\n",
              "    <tr>\n",
              "      <th>4</th>\n",
              "      <td>allergy</td>\n",
              "      <td>2019-05-27T11:40:19Z</td>\n",
              "      <td>3575b903-dbd0-1d55-6146-9e8aa4ed52a5</td>\n",
              "      <td>bdeb0bc4-50bc-5aaa-ab7f-e43535a01bbe</td>\n",
              "      <td>430193006</td>\n",
              "      <td>Medication Reconciliation (procedure)</td>\n",
              "    </tr>\n",
              "  </tbody>\n",
              "</table>\n",
              "</div>\n",
              "      <button class=\"colab-df-convert\" onclick=\"convertToInteractive('df-535114fe-142c-43bf-8c37-ed5d76bc9028')\"\n",
              "              title=\"Convert this dataframe to an interactive table.\"\n",
              "              style=\"display:none;\">\n",
              "        \n",
              "  <svg xmlns=\"http://www.w3.org/2000/svg\" height=\"24px\"viewBox=\"0 0 24 24\"\n",
              "       width=\"24px\">\n",
              "    <path d=\"M0 0h24v24H0V0z\" fill=\"none\"/>\n",
              "    <path d=\"M18.56 5.44l.94 2.06.94-2.06 2.06-.94-2.06-.94-.94-2.06-.94 2.06-2.06.94zm-11 1L8.5 8.5l.94-2.06 2.06-.94-2.06-.94L8.5 2.5l-.94 2.06-2.06.94zm10 10l.94 2.06.94-2.06 2.06-.94-2.06-.94-.94-2.06-.94 2.06-2.06.94z\"/><path d=\"M17.41 7.96l-1.37-1.37c-.4-.4-.92-.59-1.43-.59-.52 0-1.04.2-1.43.59L10.3 9.45l-7.72 7.72c-.78.78-.78 2.05 0 2.83L4 21.41c.39.39.9.59 1.41.59.51 0 1.02-.2 1.41-.59l7.78-7.78 2.81-2.81c.8-.78.8-2.07 0-2.86zM5.41 20L4 18.59l7.72-7.72 1.47 1.35L5.41 20z\"/>\n",
              "  </svg>\n",
              "      </button>\n",
              "      \n",
              "  <style>\n",
              "    .colab-df-container {\n",
              "      display:flex;\n",
              "      flex-wrap:wrap;\n",
              "      gap: 12px;\n",
              "    }\n",
              "\n",
              "    .colab-df-convert {\n",
              "      background-color: #E8F0FE;\n",
              "      border: none;\n",
              "      border-radius: 50%;\n",
              "      cursor: pointer;\n",
              "      display: none;\n",
              "      fill: #1967D2;\n",
              "      height: 32px;\n",
              "      padding: 0 0 0 0;\n",
              "      width: 32px;\n",
              "    }\n",
              "\n",
              "    .colab-df-convert:hover {\n",
              "      background-color: #E2EBFA;\n",
              "      box-shadow: 0px 1px 2px rgba(60, 64, 67, 0.3), 0px 1px 3px 1px rgba(60, 64, 67, 0.15);\n",
              "      fill: #174EA6;\n",
              "    }\n",
              "\n",
              "    [theme=dark] .colab-df-convert {\n",
              "      background-color: #3B4455;\n",
              "      fill: #D2E3FC;\n",
              "    }\n",
              "\n",
              "    [theme=dark] .colab-df-convert:hover {\n",
              "      background-color: #434B5C;\n",
              "      box-shadow: 0px 1px 3px 1px rgba(0, 0, 0, 0.15);\n",
              "      filter: drop-shadow(0px 1px 2px rgba(0, 0, 0, 0.3));\n",
              "      fill: #FFFFFF;\n",
              "    }\n",
              "  </style>\n",
              "\n",
              "      <script>\n",
              "        const buttonEl =\n",
              "          document.querySelector('#df-535114fe-142c-43bf-8c37-ed5d76bc9028 button.colab-df-convert');\n",
              "        buttonEl.style.display =\n",
              "          google.colab.kernel.accessAllowed ? 'block' : 'none';\n",
              "\n",
              "        async function convertToInteractive(key) {\n",
              "          const element = document.querySelector('#df-535114fe-142c-43bf-8c37-ed5d76bc9028');\n",
              "          const dataTable =\n",
              "            await google.colab.kernel.invokeFunction('convertToInteractive',\n",
              "                                                     [key], {});\n",
              "          if (!dataTable) return;\n",
              "\n",
              "          const docLinkHtml = 'Like what you see? Visit the ' +\n",
              "            '<a target=\"_blank\" href=https://colab.research.google.com/notebooks/data_table.ipynb>data table notebook</a>'\n",
              "            + ' to learn more about interactive tables.';\n",
              "          element.innerHTML = '';\n",
              "          dataTable['output_type'] = 'display_data';\n",
              "          await google.colab.output.renderOutput(dataTable, element);\n",
              "          const docLink = document.createElement('div');\n",
              "          docLink.innerHTML = docLinkHtml;\n",
              "          element.appendChild(docLink);\n",
              "        }\n",
              "      </script>\n",
              "    </div>\n",
              "  </div>\n",
              "  "
            ],
            "text/plain": [
              "  DATASET_ORIGIN  ...                                      DESCRIPTION\n",
              "0        allergy  ...                                      Colonoscopy\n",
              "1        allergy  ...            Medication Reconciliation (procedure)\n",
              "2        allergy  ...                                      Colonoscopy\n",
              "3        allergy  ...  Measurement of respiratory function (procedure)\n",
              "4        allergy  ...            Medication Reconciliation (procedure)\n",
              "\n",
              "[5 rows x 6 columns]"
            ]
          },
          "metadata": {},
          "execution_count": 25
        }
      ]
    },
    {
      "cell_type": "code",
      "source": [
        "# number of patients in final_df\n",
        "final_df.groupby([\"PATIENT_ID\"]).size()"
      ],
      "metadata": {
        "colab": {
          "base_uri": "https://localhost:8080/"
        },
        "id": "P9OWC3k_Uheq",
        "outputId": "29abdfe5-b22f-42e5-9483-a09293d00d88"
      },
      "execution_count": 24,
      "outputs": [
        {
          "output_type": "execute_result",
          "data": {
            "text/plain": [
              "PATIENT_ID\n",
              "003c0d44-9dfc-ca91-6121-373a8e265bd4     13\n",
              "00edcb46-afd4-4687-c16a-f4e20dfc3e92      2\n",
              "01518fe2-bd76-d1e9-a656-1e7eae35dd17      2\n",
              "01581211-2e47-027b-71a0-dcbf0f4e6622      2\n",
              "01a49388-c6c0-1d10-00ee-8360a11941e7      3\n",
              "                                       ... \n",
              "fd4841b4-eb96-de29-c392-71785cbf1650      3\n",
              "fda2e613-dd00-2f49-6e86-0c1e5c281658      2\n",
              "fe55dd2f-bc68-7056-1b29-1d4c4563d30b     10\n",
              "feb25ae2-c154-4c42-3276-bc6c1e337a6c      2\n",
              "ff5c1f25-14da-ba3a-51bb-c5735d406ea8    179\n",
              "Length: 805, dtype: int64"
            ]
          },
          "metadata": {},
          "execution_count": 24
        }
      ]
    },
    {
      "cell_type": "code",
      "source": [
        "final_df.shape"
      ],
      "metadata": {
        "colab": {
          "base_uri": "https://localhost:8080/"
        },
        "id": "kVMogQSHU9nj",
        "outputId": "ff0f20db-acd1-4ad4-dba5-5dc41304cad2"
      },
      "execution_count": 26,
      "outputs": [
        {
          "output_type": "execute_result",
          "data": {
            "text/plain": [
              "(9113, 6)"
            ]
          },
          "metadata": {},
          "execution_count": 26
        }
      ]
    },
    {
      "cell_type": "code",
      "source": [
        "final_df.groupby([\"PATIENT_ID\", \"CODE\"]).size()"
      ],
      "metadata": {
        "colab": {
          "base_uri": "https://localhost:8080/"
        },
        "id": "Q1zRACyPVHI7",
        "outputId": "820692cd-bcc3-483f-95a3-02b68af9398b"
      },
      "execution_count": 28,
      "outputs": [
        {
          "output_type": "execute_result",
          "data": {
            "text/plain": [
              "PATIENT_ID                            CODE     \n",
              "003c0d44-9dfc-ca91-6121-373a8e265bd4  180325003    7\n",
              "                                      18286008     2\n",
              "                                      40701008     1\n",
              "                                      433112001    1\n",
              "                                      73761001     2\n",
              "                                                  ..\n",
              "ff5c1f25-14da-ba3a-51bb-c5735d406ea8  65588006     1\n",
              "                                      66348005     2\n",
              "                                      714812005    1\n",
              "                                      85548006     1\n",
              "                                      90226004     3\n",
              "Length: 3052, dtype: int64"
            ]
          },
          "metadata": {},
          "execution_count": 28
        }
      ]
    },
    {
      "cell_type": "markdown",
      "source": [
        "# Data cleaning"
      ],
      "metadata": {
        "id": "enmfn0tLVSbw"
      }
    },
    {
      "cell_type": "code",
      "source": [
        "# Replace null values\n",
        "final_df = final_df.replace(r'^\\s*$', np.nan, regex=True)"
      ],
      "metadata": {
        "id": "W9Qow2yyVUqg"
      },
      "execution_count": 29,
      "outputs": []
    },
    {
      "cell_type": "code",
      "source": [
        "# number of null values\n",
        "final_df.isnull().sum()"
      ],
      "metadata": {
        "colab": {
          "base_uri": "https://localhost:8080/"
        },
        "id": "MYjvyrcuVdHS",
        "outputId": "ebbb32be-3026-4932-edac-2a771f361580"
      },
      "execution_count": 30,
      "outputs": [
        {
          "output_type": "execute_result",
          "data": {
            "text/plain": [
              "DATASET_ORIGIN    0\n",
              "DATE              0\n",
              "PATIENT_ID        0\n",
              "ENCOUNTER_ID      0\n",
              "CODE              0\n",
              "DESCRIPTION       0\n",
              "dtype: int64"
            ]
          },
          "metadata": {},
          "execution_count": 30
        }
      ]
    },
    {
      "cell_type": "code",
      "source": [
        "# number of duplicated rows\n",
        "print(\"Number of Duplicated Rows\", final_df.duplicated(final_df).sum())"
      ],
      "metadata": {
        "colab": {
          "base_uri": "https://localhost:8080/",
          "height": 1000
        },
        "id": "HvlxLyWfVmA2",
        "outputId": "c07c5aa1-f6b7-47a7-d566-d72e735361ff"
      },
      "execution_count": 31,
      "outputs": [
        {
          "output_type": "error",
          "ename": "KeyError",
          "evalue": "ignored",
          "traceback": [
            "\u001b[0;31m---------------------------------------------------------------------------\u001b[0m",
            "\u001b[0;31mKeyError\u001b[0m                                  Traceback (most recent call last)",
            "\u001b[0;32m<ipython-input-31-d4e2c5eb17be>\u001b[0m in \u001b[0;36m<module>\u001b[0;34m()\u001b[0m\n\u001b[1;32m      1\u001b[0m \u001b[0;31m# number of duplicated rows\u001b[0m\u001b[0;34m\u001b[0m\u001b[0;34m\u001b[0m\u001b[0;34m\u001b[0m\u001b[0m\n\u001b[0;32m----> 2\u001b[0;31m \u001b[0mprint\u001b[0m\u001b[0;34m(\u001b[0m\u001b[0;34m\"Number of Duplicated Rows\"\u001b[0m\u001b[0;34m,\u001b[0m \u001b[0mfinal_df\u001b[0m\u001b[0;34m.\u001b[0m\u001b[0mduplicated\u001b[0m\u001b[0;34m(\u001b[0m\u001b[0mfinal_df\u001b[0m\u001b[0;34m)\u001b[0m\u001b[0;34m.\u001b[0m\u001b[0msum\u001b[0m\u001b[0;34m(\u001b[0m\u001b[0;34m)\u001b[0m\u001b[0;34m)\u001b[0m\u001b[0;34m\u001b[0m\u001b[0;34m\u001b[0m\u001b[0m\n\u001b[0m",
            "\u001b[0;32m/usr/local/lib/python3.7/dist-packages/pandas/core/frame.py\u001b[0m in \u001b[0;36mduplicated\u001b[0;34m(self, subset, keep)\u001b[0m\n\u001b[1;32m   6195\u001b[0m         \u001b[0mdiff\u001b[0m \u001b[0;34m=\u001b[0m \u001b[0mIndex\u001b[0m\u001b[0;34m(\u001b[0m\u001b[0msubset\u001b[0m\u001b[0;34m)\u001b[0m\u001b[0;34m.\u001b[0m\u001b[0mdifference\u001b[0m\u001b[0;34m(\u001b[0m\u001b[0mself\u001b[0m\u001b[0;34m.\u001b[0m\u001b[0mcolumns\u001b[0m\u001b[0;34m)\u001b[0m\u001b[0;34m\u001b[0m\u001b[0;34m\u001b[0m\u001b[0m\n\u001b[1;32m   6196\u001b[0m         \u001b[0;32mif\u001b[0m \u001b[0;32mnot\u001b[0m \u001b[0mdiff\u001b[0m\u001b[0;34m.\u001b[0m\u001b[0mempty\u001b[0m\u001b[0;34m:\u001b[0m\u001b[0;34m\u001b[0m\u001b[0;34m\u001b[0m\u001b[0m\n\u001b[0;32m-> 6197\u001b[0;31m             \u001b[0;32mraise\u001b[0m \u001b[0mKeyError\u001b[0m\u001b[0;34m(\u001b[0m\u001b[0mdiff\u001b[0m\u001b[0;34m)\u001b[0m\u001b[0;34m\u001b[0m\u001b[0;34m\u001b[0m\u001b[0m\n\u001b[0m\u001b[1;32m   6198\u001b[0m \u001b[0;34m\u001b[0m\u001b[0m\n\u001b[1;32m   6199\u001b[0m         \u001b[0mvals\u001b[0m \u001b[0;34m=\u001b[0m \u001b[0;34m(\u001b[0m\u001b[0mcol\u001b[0m\u001b[0;34m.\u001b[0m\u001b[0mvalues\u001b[0m \u001b[0;32mfor\u001b[0m \u001b[0mname\u001b[0m\u001b[0;34m,\u001b[0m \u001b[0mcol\u001b[0m \u001b[0;32min\u001b[0m \u001b[0mself\u001b[0m\u001b[0;34m.\u001b[0m\u001b[0mitems\u001b[0m\u001b[0;34m(\u001b[0m\u001b[0;34m)\u001b[0m \u001b[0;32mif\u001b[0m \u001b[0mname\u001b[0m \u001b[0;32min\u001b[0m \u001b[0msubset\u001b[0m\u001b[0;34m)\u001b[0m\u001b[0;34m\u001b[0m\u001b[0;34m\u001b[0m\u001b[0m\n",
            "\u001b[0;31mKeyError\u001b[0m: Index([                 ('allergy', '1968-03-19T00:12:45Z', '1d2f25af-f252-4554-31e3-dc511c2c6977', '3bba41b3-5b35-7180-ffa2-030b8deea715', '430193006', 'Medication Reconciliation (procedure)'),\n                        ('allergy', '1968-04-23T00:12:45Z', '1d2f25af-f252-4554-31e3-dc511c2c6977', '0a57748f-156d-3567-135a-424bf280d1eb', '430193006', 'Medication Reconciliation (procedure)'),\n               ('allergy', '1968-06-03T00:12:45Z', '1d2f25af-f252-4554-31e3-dc511c2c6977', 'a93c8ab1-9bd6-9ef3-0352-932043299697', '23426006', 'Measurement of respiratory function (procedure)'),\n                        ('allergy', '1968-12-24T00:12:45Z', '1d2f25af-f252-4554-31e3-dc511c2c6977', 'f4e81956-1bce-3d4b-ddfa-b533f882527f', '430193006', 'Medication Reconciliation (procedure)'),\n                        ('allergy', '1969-05-06T00:12:45Z', '7ab86dc8-19e7-7948-78a7-b3c7d93fabf7', 'aac6212b-11f4-93cb-4be2-8b9dbbb0731f', '430193006', 'Medication Reconciliation (procedure)'),\n                        ('allergy', '1969-11-25T00:12:45Z', '7ab86dc8-19e7-7948-78a7-b3c7d93fabf7', '9379ad6a-2a40-af8f-4f61-df9270862c86', '430193006', 'Medication Reconciliation (procedure)'),\n                        ('allergy', '1970-03-10T00:12:45Z', '1d2f25af-f252-4554-31e3-dc511c2c6977', '361bcb64-6a79-6a04-f971-e06468b0bd58', '430193006', 'Medication Reconciliation (procedure)'),\n                        ('allergy', '1970-05-12T00:12:45Z', '7ab86dc8-19e7-7948-78a7-b3c7d93fabf7', '99c91ca0-41b0-b616-2272-2aa9fa7e7ed1', '430193006', 'Medication Reconciliation (procedure)'),\n                        ('allergy', '1971-01-05T00:12:45Z', '1d2f25af-f252-4554-31e3-dc511c2c6977', '5abadc44-6e41-0c3c-3e0c-2b77bb7d3f79', '430193006', 'Medication Reconciliation (procedure)'),\n                        ('allergy', '1971-04-06T00:12:45Z', '1d2f25af-f252-4554-31e3-dc511c2c6977', 'aaeeacd9-dede-e696-a84e-d0ebf830c91c', '430193006', 'Medication Reconciliation (procedure)'),\n       ...\n       ('metabolic_syndrome_disease', '2020-08-26T04:21:48Z', '54a3da5a-75db-d588-ec24-0dfa809adb20', '90bfc058-b257-e836-758c-1a48fc1054eb', '18286008', 'Catheter ablation of tissue of heart'),\n                  ('metabolic_syndrome_disease', '2020-08-29T00:41:34Z', '5f6b785f-e0a1-907d-df55-2aa4275d5c88', '6ac0f8c0-5e44-3825-a557-bf4230aab7a4', '180325003', 'Electrical cardioversion'),\n                  ('metabolic_syndrome_disease', '2020-10-08T01:45:52Z', 'd65328a8-5697-0d58-a39c-77fcc8cea530', '937cfb3b-9d14-5cdd-1d71-729533356ce0', '180325003', 'Electrical cardioversion'),\n                  ('metabolic_syndrome_disease', '2020-10-13T16:34:46Z', '8e5c17d2-6d48-462f-84e8-5abcf4b731e1', '553a01c2-2c84-4829-4db7-d725780705f7', '180325003', 'Electrical cardioversion'),\n                  ('metabolic_syndrome_disease', '2020-10-16T22:06:57Z', '794dee2f-bd32-83af-7d81-8a2842b3beda', '6904ded9-8b4f-f69e-0160-6cc4acb524d6', '180325003', 'Electrical cardioversion'),\n                  ('metabolic_syndrome_disease', '2020-10-24T00:41:34Z', '5f6b785f-e0a1-907d-df55-2aa4275d5c88', '95455d15-080e-75dc-07ce-60943ec7da9f', '180325003', 'Electrical cardioversion'),\n                  ('metabolic_syndrome_disease', '2020-10-24T12:30:17Z', 'c00d9407-e120-5ff1-322e-913fc59c6717', '13398aaa-4baa-8b6d-3fac-ac707c596f75', '180325003', 'Electrical cardioversion'),\n       ('metabolic_syndrome_disease', '2020-10-25T01:42:56Z', 'c15896d0-6eed-e954-c7d4-7550e36edd7e', '777ead3a-d100-f809-c657-24448dd57bf2', '18286008', 'Catheter ablation of tissue of heart'),\n                  ('metabolic_syndrome_disease', '2020-11-21T00:41:34Z', '5f6b785f-e0a1-907d-df55-2aa4275d5c88', 'e758b7da-d618-f2ee-50d1-9ec26367bd21', '180325003', 'Electrical cardioversion'),\n                  ('metabolic_syndrome_disease', '2020-11-28T00:41:34Z', '5f6b785f-e0a1-907d-df55-2aa4275d5c88', 'af23e5a5-584d-3f83-dc3b-233ec5b3944a', '180325003', 'Electrical cardioversion')],\n      dtype='object', length=9113)"
          ]
        }
      ]
    },
    {
      "cell_type": "code",
      "source": [
        "# dropping duplicate values if exists and keep first one\n",
        "final_df.drop_duplicates(keep=\"first\",inplace=True) \n",
        "print(\"Size of dataset after removinf duplicated rows\", final_df.shape)"
      ],
      "metadata": {
        "colab": {
          "base_uri": "https://localhost:8080/"
        },
        "id": "OAm5SqbbWh64",
        "outputId": "755e53c7-51fc-489b-f8c8-aa8f28161586"
      },
      "execution_count": 32,
      "outputs": [
        {
          "output_type": "stream",
          "name": "stdout",
          "text": [
            "Size of dataset after removinf duplicated rows (9113, 6)\n"
          ]
        }
      ]
    },
    {
      "cell_type": "code",
      "source": [
        "# attribute type\n",
        "final_df.info()"
      ],
      "metadata": {
        "colab": {
          "base_uri": "https://localhost:8080/"
        },
        "id": "GZG7NRFwXCZD",
        "outputId": "51c1adde-ae2c-4a2b-ac0f-ba5715328a71"
      },
      "execution_count": 33,
      "outputs": [
        {
          "output_type": "stream",
          "name": "stdout",
          "text": [
            "<class 'pandas.core.frame.DataFrame'>\n",
            "Int64Index: 9113 entries, 0 to 13569\n",
            "Data columns (total 6 columns):\n",
            " #   Column          Non-Null Count  Dtype \n",
            "---  ------          --------------  ----- \n",
            " 0   DATASET_ORIGIN  9113 non-null   object\n",
            " 1   DATE            9113 non-null   object\n",
            " 2   PATIENT_ID      9113 non-null   object\n",
            " 3   ENCOUNTER_ID    9113 non-null   object\n",
            " 4   CODE            9113 non-null   object\n",
            " 5   DESCRIPTION     9113 non-null   object\n",
            "dtypes: object(6)\n",
            "memory usage: 498.4+ KB\n"
          ]
        }
      ]
    },
    {
      "cell_type": "code",
      "source": [
        "# change attribute type date\n",
        "final_df[\"DATE\"] = pd.to_datetime(final_df[\"DATE\"])"
      ],
      "metadata": {
        "id": "kMWS_sq7XOpC"
      },
      "execution_count": 34,
      "outputs": []
    },
    {
      "cell_type": "code",
      "source": [
        "# change date type to YYYY\n",
        "final_df[\"DATE\"] = final_df[\"DATE\"].dt.to_period('Y')"
      ],
      "metadata": {
        "colab": {
          "base_uri": "https://localhost:8080/"
        },
        "id": "mxF9S-MSXfjG",
        "outputId": "070f7ec5-2405-4b5a-e4da-6c19417558f4"
      },
      "execution_count": 35,
      "outputs": [
        {
          "output_type": "stream",
          "name": "stderr",
          "text": [
            "/usr/local/lib/python3.7/dist-packages/pandas/core/arrays/datetimes.py:1146: UserWarning: Converting to PeriodArray/Index representation will drop timezone information.\n",
            "  UserWarning,\n"
          ]
        }
      ]
    },
    {
      "cell_type": "code",
      "source": [
        "final_df.head()"
      ],
      "metadata": {
        "colab": {
          "base_uri": "https://localhost:8080/",
          "height": 206
        },
        "id": "IWQbFJDrYgvi",
        "outputId": "e447c958-8256-4d83-abb9-1c10da4a171c"
      },
      "execution_count": 36,
      "outputs": [
        {
          "output_type": "execute_result",
          "data": {
            "text/html": [
              "\n",
              "  <div id=\"df-f0386409-4bb8-49b0-9833-90cb9b33af39\">\n",
              "    <div class=\"colab-df-container\">\n",
              "      <div>\n",
              "<style scoped>\n",
              "    .dataframe tbody tr th:only-of-type {\n",
              "        vertical-align: middle;\n",
              "    }\n",
              "\n",
              "    .dataframe tbody tr th {\n",
              "        vertical-align: top;\n",
              "    }\n",
              "\n",
              "    .dataframe thead th {\n",
              "        text-align: right;\n",
              "    }\n",
              "</style>\n",
              "<table border=\"1\" class=\"dataframe\">\n",
              "  <thead>\n",
              "    <tr style=\"text-align: right;\">\n",
              "      <th></th>\n",
              "      <th>DATASET_ORIGIN</th>\n",
              "      <th>DATE</th>\n",
              "      <th>PATIENT_ID</th>\n",
              "      <th>ENCOUNTER_ID</th>\n",
              "      <th>CODE</th>\n",
              "      <th>DESCRIPTION</th>\n",
              "    </tr>\n",
              "  </thead>\n",
              "  <tbody>\n",
              "    <tr>\n",
              "      <th>0</th>\n",
              "      <td>allergy</td>\n",
              "      <td>2012</td>\n",
              "      <td>3575b903-dbd0-1d55-6146-9e8aa4ed52a5</td>\n",
              "      <td>f222d3d6-d9f0-3586-70d4-69a77f16b58c</td>\n",
              "      <td>73761001</td>\n",
              "      <td>Colonoscopy</td>\n",
              "    </tr>\n",
              "    <tr>\n",
              "      <th>1</th>\n",
              "      <td>allergy</td>\n",
              "      <td>2015</td>\n",
              "      <td>3575b903-dbd0-1d55-6146-9e8aa4ed52a5</td>\n",
              "      <td>c57b93a2-0302-4965-9e2c-713b84e7c24b</td>\n",
              "      <td>430193006</td>\n",
              "      <td>Medication Reconciliation (procedure)</td>\n",
              "    </tr>\n",
              "    <tr>\n",
              "      <th>2</th>\n",
              "      <td>allergy</td>\n",
              "      <td>2017</td>\n",
              "      <td>3575b903-dbd0-1d55-6146-9e8aa4ed52a5</td>\n",
              "      <td>11306017-08e3-1375-fc44-1265a8114949</td>\n",
              "      <td>73761001</td>\n",
              "      <td>Colonoscopy</td>\n",
              "    </tr>\n",
              "    <tr>\n",
              "      <th>3</th>\n",
              "      <td>allergy</td>\n",
              "      <td>2019</td>\n",
              "      <td>3575b903-dbd0-1d55-6146-9e8aa4ed52a5</td>\n",
              "      <td>cd0f83e5-1e70-75ec-1be9-b254e2589e49</td>\n",
              "      <td>23426006</td>\n",
              "      <td>Measurement of respiratory function (procedure)</td>\n",
              "    </tr>\n",
              "    <tr>\n",
              "      <th>4</th>\n",
              "      <td>allergy</td>\n",
              "      <td>2019</td>\n",
              "      <td>3575b903-dbd0-1d55-6146-9e8aa4ed52a5</td>\n",
              "      <td>bdeb0bc4-50bc-5aaa-ab7f-e43535a01bbe</td>\n",
              "      <td>430193006</td>\n",
              "      <td>Medication Reconciliation (procedure)</td>\n",
              "    </tr>\n",
              "  </tbody>\n",
              "</table>\n",
              "</div>\n",
              "      <button class=\"colab-df-convert\" onclick=\"convertToInteractive('df-f0386409-4bb8-49b0-9833-90cb9b33af39')\"\n",
              "              title=\"Convert this dataframe to an interactive table.\"\n",
              "              style=\"display:none;\">\n",
              "        \n",
              "  <svg xmlns=\"http://www.w3.org/2000/svg\" height=\"24px\"viewBox=\"0 0 24 24\"\n",
              "       width=\"24px\">\n",
              "    <path d=\"M0 0h24v24H0V0z\" fill=\"none\"/>\n",
              "    <path d=\"M18.56 5.44l.94 2.06.94-2.06 2.06-.94-2.06-.94-.94-2.06-.94 2.06-2.06.94zm-11 1L8.5 8.5l.94-2.06 2.06-.94-2.06-.94L8.5 2.5l-.94 2.06-2.06.94zm10 10l.94 2.06.94-2.06 2.06-.94-2.06-.94-.94-2.06-.94 2.06-2.06.94z\"/><path d=\"M17.41 7.96l-1.37-1.37c-.4-.4-.92-.59-1.43-.59-.52 0-1.04.2-1.43.59L10.3 9.45l-7.72 7.72c-.78.78-.78 2.05 0 2.83L4 21.41c.39.39.9.59 1.41.59.51 0 1.02-.2 1.41-.59l7.78-7.78 2.81-2.81c.8-.78.8-2.07 0-2.86zM5.41 20L4 18.59l7.72-7.72 1.47 1.35L5.41 20z\"/>\n",
              "  </svg>\n",
              "      </button>\n",
              "      \n",
              "  <style>\n",
              "    .colab-df-container {\n",
              "      display:flex;\n",
              "      flex-wrap:wrap;\n",
              "      gap: 12px;\n",
              "    }\n",
              "\n",
              "    .colab-df-convert {\n",
              "      background-color: #E8F0FE;\n",
              "      border: none;\n",
              "      border-radius: 50%;\n",
              "      cursor: pointer;\n",
              "      display: none;\n",
              "      fill: #1967D2;\n",
              "      height: 32px;\n",
              "      padding: 0 0 0 0;\n",
              "      width: 32px;\n",
              "    }\n",
              "\n",
              "    .colab-df-convert:hover {\n",
              "      background-color: #E2EBFA;\n",
              "      box-shadow: 0px 1px 2px rgba(60, 64, 67, 0.3), 0px 1px 3px 1px rgba(60, 64, 67, 0.15);\n",
              "      fill: #174EA6;\n",
              "    }\n",
              "\n",
              "    [theme=dark] .colab-df-convert {\n",
              "      background-color: #3B4455;\n",
              "      fill: #D2E3FC;\n",
              "    }\n",
              "\n",
              "    [theme=dark] .colab-df-convert:hover {\n",
              "      background-color: #434B5C;\n",
              "      box-shadow: 0px 1px 3px 1px rgba(0, 0, 0, 0.15);\n",
              "      filter: drop-shadow(0px 1px 2px rgba(0, 0, 0, 0.3));\n",
              "      fill: #FFFFFF;\n",
              "    }\n",
              "  </style>\n",
              "\n",
              "      <script>\n",
              "        const buttonEl =\n",
              "          document.querySelector('#df-f0386409-4bb8-49b0-9833-90cb9b33af39 button.colab-df-convert');\n",
              "        buttonEl.style.display =\n",
              "          google.colab.kernel.accessAllowed ? 'block' : 'none';\n",
              "\n",
              "        async function convertToInteractive(key) {\n",
              "          const element = document.querySelector('#df-f0386409-4bb8-49b0-9833-90cb9b33af39');\n",
              "          const dataTable =\n",
              "            await google.colab.kernel.invokeFunction('convertToInteractive',\n",
              "                                                     [key], {});\n",
              "          if (!dataTable) return;\n",
              "\n",
              "          const docLinkHtml = 'Like what you see? Visit the ' +\n",
              "            '<a target=\"_blank\" href=https://colab.research.google.com/notebooks/data_table.ipynb>data table notebook</a>'\n",
              "            + ' to learn more about interactive tables.';\n",
              "          element.innerHTML = '';\n",
              "          dataTable['output_type'] = 'display_data';\n",
              "          await google.colab.output.renderOutput(dataTable, element);\n",
              "          const docLink = document.createElement('div');\n",
              "          docLink.innerHTML = docLinkHtml;\n",
              "          element.appendChild(docLink);\n",
              "        }\n",
              "      </script>\n",
              "    </div>\n",
              "  </div>\n",
              "  "
            ],
            "text/plain": [
              "  DATASET_ORIGIN  ...                                      DESCRIPTION\n",
              "0        allergy  ...                                      Colonoscopy\n",
              "1        allergy  ...            Medication Reconciliation (procedure)\n",
              "2        allergy  ...                                      Colonoscopy\n",
              "3        allergy  ...  Measurement of respiratory function (procedure)\n",
              "4        allergy  ...            Medication Reconciliation (procedure)\n",
              "\n",
              "[5 rows x 6 columns]"
            ]
          },
          "metadata": {},
          "execution_count": 36
        }
      ]
    },
    {
      "cell_type": "markdown",
      "source": [
        "# Query of procedures broken down by year"
      ],
      "metadata": {
        "id": "kwSSMHGOXAMp"
      }
    },
    {
      "cell_type": "code",
      "source": [
        "# Procedure table during covid19\n",
        "covid_year = final_df[final_df[\"DATE\"] >= \"2020\"]\n",
        "covid_year.head()"
      ],
      "metadata": {
        "colab": {
          "base_uri": "https://localhost:8080/",
          "height": 206
        },
        "id": "D_TuV4biY05I",
        "outputId": "336ea294-6573-4a2f-8b97-58062805884c"
      },
      "execution_count": 37,
      "outputs": [
        {
          "output_type": "execute_result",
          "data": {
            "text/html": [
              "\n",
              "  <div id=\"df-818f4013-7631-4aa5-9f6b-4c48c239947a\">\n",
              "    <div class=\"colab-df-container\">\n",
              "      <div>\n",
              "<style scoped>\n",
              "    .dataframe tbody tr th:only-of-type {\n",
              "        vertical-align: middle;\n",
              "    }\n",
              "\n",
              "    .dataframe tbody tr th {\n",
              "        vertical-align: top;\n",
              "    }\n",
              "\n",
              "    .dataframe thead th {\n",
              "        text-align: right;\n",
              "    }\n",
              "</style>\n",
              "<table border=\"1\" class=\"dataframe\">\n",
              "  <thead>\n",
              "    <tr style=\"text-align: right;\">\n",
              "      <th></th>\n",
              "      <th>DATASET_ORIGIN</th>\n",
              "      <th>DATE</th>\n",
              "      <th>PATIENT_ID</th>\n",
              "      <th>ENCOUNTER_ID</th>\n",
              "      <th>CODE</th>\n",
              "      <th>DESCRIPTION</th>\n",
              "    </tr>\n",
              "  </thead>\n",
              "  <tbody>\n",
              "    <tr>\n",
              "      <th>5</th>\n",
              "      <td>allergy</td>\n",
              "      <td>2020</td>\n",
              "      <td>3575b903-dbd0-1d55-6146-9e8aa4ed52a5</td>\n",
              "      <td>3c7f472a-2602-bcdd-76d0-53f967923ded</td>\n",
              "      <td>261352009</td>\n",
              "      <td>Face mask (physical object)</td>\n",
              "    </tr>\n",
              "    <tr>\n",
              "      <th>15</th>\n",
              "      <td>allergy</td>\n",
              "      <td>2020</td>\n",
              "      <td>17f0c6d9-8931-8839-66cb-3ca6fb066d3e</td>\n",
              "      <td>dcee0f8b-907d-69cf-c998-5e73711f2276</td>\n",
              "      <td>261352009</td>\n",
              "      <td>Face mask (physical object)</td>\n",
              "    </tr>\n",
              "    <tr>\n",
              "      <th>16</th>\n",
              "      <td>allergy</td>\n",
              "      <td>2020</td>\n",
              "      <td>17f0c6d9-8931-8839-66cb-3ca6fb066d3e</td>\n",
              "      <td>61d084c0-52cc-1b9d-5ed8-505982d8f401</td>\n",
              "      <td>430193006</td>\n",
              "      <td>Medication Reconciliation (procedure)</td>\n",
              "    </tr>\n",
              "    <tr>\n",
              "      <th>26</th>\n",
              "      <td>allergy</td>\n",
              "      <td>2020</td>\n",
              "      <td>e92765c7-1c4b-9ee7-dbc8-5300fcb40a54</td>\n",
              "      <td>621750b5-9dd3-649c-977c-45d6315b546e</td>\n",
              "      <td>430193006</td>\n",
              "      <td>Medication Reconciliation (procedure)</td>\n",
              "    </tr>\n",
              "    <tr>\n",
              "      <th>54</th>\n",
              "      <td>allergy</td>\n",
              "      <td>2020</td>\n",
              "      <td>aff157cc-b6d3-412b-ccbe-bfd5fac1c2d5</td>\n",
              "      <td>61c250a0-1668-e4ce-aefc-77a7842574c2</td>\n",
              "      <td>261352009</td>\n",
              "      <td>Face mask (physical object)</td>\n",
              "    </tr>\n",
              "  </tbody>\n",
              "</table>\n",
              "</div>\n",
              "      <button class=\"colab-df-convert\" onclick=\"convertToInteractive('df-818f4013-7631-4aa5-9f6b-4c48c239947a')\"\n",
              "              title=\"Convert this dataframe to an interactive table.\"\n",
              "              style=\"display:none;\">\n",
              "        \n",
              "  <svg xmlns=\"http://www.w3.org/2000/svg\" height=\"24px\"viewBox=\"0 0 24 24\"\n",
              "       width=\"24px\">\n",
              "    <path d=\"M0 0h24v24H0V0z\" fill=\"none\"/>\n",
              "    <path d=\"M18.56 5.44l.94 2.06.94-2.06 2.06-.94-2.06-.94-.94-2.06-.94 2.06-2.06.94zm-11 1L8.5 8.5l.94-2.06 2.06-.94-2.06-.94L8.5 2.5l-.94 2.06-2.06.94zm10 10l.94 2.06.94-2.06 2.06-.94-2.06-.94-.94-2.06-.94 2.06-2.06.94z\"/><path d=\"M17.41 7.96l-1.37-1.37c-.4-.4-.92-.59-1.43-.59-.52 0-1.04.2-1.43.59L10.3 9.45l-7.72 7.72c-.78.78-.78 2.05 0 2.83L4 21.41c.39.39.9.59 1.41.59.51 0 1.02-.2 1.41-.59l7.78-7.78 2.81-2.81c.8-.78.8-2.07 0-2.86zM5.41 20L4 18.59l7.72-7.72 1.47 1.35L5.41 20z\"/>\n",
              "  </svg>\n",
              "      </button>\n",
              "      \n",
              "  <style>\n",
              "    .colab-df-container {\n",
              "      display:flex;\n",
              "      flex-wrap:wrap;\n",
              "      gap: 12px;\n",
              "    }\n",
              "\n",
              "    .colab-df-convert {\n",
              "      background-color: #E8F0FE;\n",
              "      border: none;\n",
              "      border-radius: 50%;\n",
              "      cursor: pointer;\n",
              "      display: none;\n",
              "      fill: #1967D2;\n",
              "      height: 32px;\n",
              "      padding: 0 0 0 0;\n",
              "      width: 32px;\n",
              "    }\n",
              "\n",
              "    .colab-df-convert:hover {\n",
              "      background-color: #E2EBFA;\n",
              "      box-shadow: 0px 1px 2px rgba(60, 64, 67, 0.3), 0px 1px 3px 1px rgba(60, 64, 67, 0.15);\n",
              "      fill: #174EA6;\n",
              "    }\n",
              "\n",
              "    [theme=dark] .colab-df-convert {\n",
              "      background-color: #3B4455;\n",
              "      fill: #D2E3FC;\n",
              "    }\n",
              "\n",
              "    [theme=dark] .colab-df-convert:hover {\n",
              "      background-color: #434B5C;\n",
              "      box-shadow: 0px 1px 3px 1px rgba(0, 0, 0, 0.15);\n",
              "      filter: drop-shadow(0px 1px 2px rgba(0, 0, 0, 0.3));\n",
              "      fill: #FFFFFF;\n",
              "    }\n",
              "  </style>\n",
              "\n",
              "      <script>\n",
              "        const buttonEl =\n",
              "          document.querySelector('#df-818f4013-7631-4aa5-9f6b-4c48c239947a button.colab-df-convert');\n",
              "        buttonEl.style.display =\n",
              "          google.colab.kernel.accessAllowed ? 'block' : 'none';\n",
              "\n",
              "        async function convertToInteractive(key) {\n",
              "          const element = document.querySelector('#df-818f4013-7631-4aa5-9f6b-4c48c239947a');\n",
              "          const dataTable =\n",
              "            await google.colab.kernel.invokeFunction('convertToInteractive',\n",
              "                                                     [key], {});\n",
              "          if (!dataTable) return;\n",
              "\n",
              "          const docLinkHtml = 'Like what you see? Visit the ' +\n",
              "            '<a target=\"_blank\" href=https://colab.research.google.com/notebooks/data_table.ipynb>data table notebook</a>'\n",
              "            + ' to learn more about interactive tables.';\n",
              "          element.innerHTML = '';\n",
              "          dataTable['output_type'] = 'display_data';\n",
              "          await google.colab.output.renderOutput(dataTable, element);\n",
              "          const docLink = document.createElement('div');\n",
              "          docLink.innerHTML = docLinkHtml;\n",
              "          element.appendChild(docLink);\n",
              "        }\n",
              "      </script>\n",
              "    </div>\n",
              "  </div>\n",
              "  "
            ],
            "text/plain": [
              "   DATASET_ORIGIN  DATE  ...       CODE                            DESCRIPTION\n",
              "5         allergy  2020  ...  261352009            Face mask (physical object)\n",
              "15        allergy  2020  ...  261352009            Face mask (physical object)\n",
              "16        allergy  2020  ...  430193006  Medication Reconciliation (procedure)\n",
              "26        allergy  2020  ...  430193006  Medication Reconciliation (procedure)\n",
              "54        allergy  2020  ...  261352009            Face mask (physical object)\n",
              "\n",
              "[5 rows x 6 columns]"
            ]
          },
          "metadata": {},
          "execution_count": 37
        }
      ]
    },
    {
      "cell_type": "code",
      "source": [
        "# Procedure table pre covid\n",
        "pre_covid = final_df[final_df[\"DATE\"] < \"2020\"]\n",
        "pre_covid.head()"
      ],
      "metadata": {
        "colab": {
          "base_uri": "https://localhost:8080/",
          "height": 206
        },
        "id": "P9yuhaduZRCc",
        "outputId": "ec773db3-2a9f-4f42-d1e3-25a572933b12"
      },
      "execution_count": 39,
      "outputs": [
        {
          "output_type": "execute_result",
          "data": {
            "text/html": [
              "\n",
              "  <div id=\"df-ec86873d-a3d7-40b7-9176-95d73214de9a\">\n",
              "    <div class=\"colab-df-container\">\n",
              "      <div>\n",
              "<style scoped>\n",
              "    .dataframe tbody tr th:only-of-type {\n",
              "        vertical-align: middle;\n",
              "    }\n",
              "\n",
              "    .dataframe tbody tr th {\n",
              "        vertical-align: top;\n",
              "    }\n",
              "\n",
              "    .dataframe thead th {\n",
              "        text-align: right;\n",
              "    }\n",
              "</style>\n",
              "<table border=\"1\" class=\"dataframe\">\n",
              "  <thead>\n",
              "    <tr style=\"text-align: right;\">\n",
              "      <th></th>\n",
              "      <th>DATASET_ORIGIN</th>\n",
              "      <th>DATE</th>\n",
              "      <th>PATIENT_ID</th>\n",
              "      <th>ENCOUNTER_ID</th>\n",
              "      <th>CODE</th>\n",
              "      <th>DESCRIPTION</th>\n",
              "    </tr>\n",
              "  </thead>\n",
              "  <tbody>\n",
              "    <tr>\n",
              "      <th>0</th>\n",
              "      <td>allergy</td>\n",
              "      <td>2012</td>\n",
              "      <td>3575b903-dbd0-1d55-6146-9e8aa4ed52a5</td>\n",
              "      <td>f222d3d6-d9f0-3586-70d4-69a77f16b58c</td>\n",
              "      <td>73761001</td>\n",
              "      <td>Colonoscopy</td>\n",
              "    </tr>\n",
              "    <tr>\n",
              "      <th>1</th>\n",
              "      <td>allergy</td>\n",
              "      <td>2015</td>\n",
              "      <td>3575b903-dbd0-1d55-6146-9e8aa4ed52a5</td>\n",
              "      <td>c57b93a2-0302-4965-9e2c-713b84e7c24b</td>\n",
              "      <td>430193006</td>\n",
              "      <td>Medication Reconciliation (procedure)</td>\n",
              "    </tr>\n",
              "    <tr>\n",
              "      <th>2</th>\n",
              "      <td>allergy</td>\n",
              "      <td>2017</td>\n",
              "      <td>3575b903-dbd0-1d55-6146-9e8aa4ed52a5</td>\n",
              "      <td>11306017-08e3-1375-fc44-1265a8114949</td>\n",
              "      <td>73761001</td>\n",
              "      <td>Colonoscopy</td>\n",
              "    </tr>\n",
              "    <tr>\n",
              "      <th>3</th>\n",
              "      <td>allergy</td>\n",
              "      <td>2019</td>\n",
              "      <td>3575b903-dbd0-1d55-6146-9e8aa4ed52a5</td>\n",
              "      <td>cd0f83e5-1e70-75ec-1be9-b254e2589e49</td>\n",
              "      <td>23426006</td>\n",
              "      <td>Measurement of respiratory function (procedure)</td>\n",
              "    </tr>\n",
              "    <tr>\n",
              "      <th>4</th>\n",
              "      <td>allergy</td>\n",
              "      <td>2019</td>\n",
              "      <td>3575b903-dbd0-1d55-6146-9e8aa4ed52a5</td>\n",
              "      <td>bdeb0bc4-50bc-5aaa-ab7f-e43535a01bbe</td>\n",
              "      <td>430193006</td>\n",
              "      <td>Medication Reconciliation (procedure)</td>\n",
              "    </tr>\n",
              "  </tbody>\n",
              "</table>\n",
              "</div>\n",
              "      <button class=\"colab-df-convert\" onclick=\"convertToInteractive('df-ec86873d-a3d7-40b7-9176-95d73214de9a')\"\n",
              "              title=\"Convert this dataframe to an interactive table.\"\n",
              "              style=\"display:none;\">\n",
              "        \n",
              "  <svg xmlns=\"http://www.w3.org/2000/svg\" height=\"24px\"viewBox=\"0 0 24 24\"\n",
              "       width=\"24px\">\n",
              "    <path d=\"M0 0h24v24H0V0z\" fill=\"none\"/>\n",
              "    <path d=\"M18.56 5.44l.94 2.06.94-2.06 2.06-.94-2.06-.94-.94-2.06-.94 2.06-2.06.94zm-11 1L8.5 8.5l.94-2.06 2.06-.94-2.06-.94L8.5 2.5l-.94 2.06-2.06.94zm10 10l.94 2.06.94-2.06 2.06-.94-2.06-.94-.94-2.06-.94 2.06-2.06.94z\"/><path d=\"M17.41 7.96l-1.37-1.37c-.4-.4-.92-.59-1.43-.59-.52 0-1.04.2-1.43.59L10.3 9.45l-7.72 7.72c-.78.78-.78 2.05 0 2.83L4 21.41c.39.39.9.59 1.41.59.51 0 1.02-.2 1.41-.59l7.78-7.78 2.81-2.81c.8-.78.8-2.07 0-2.86zM5.41 20L4 18.59l7.72-7.72 1.47 1.35L5.41 20z\"/>\n",
              "  </svg>\n",
              "      </button>\n",
              "      \n",
              "  <style>\n",
              "    .colab-df-container {\n",
              "      display:flex;\n",
              "      flex-wrap:wrap;\n",
              "      gap: 12px;\n",
              "    }\n",
              "\n",
              "    .colab-df-convert {\n",
              "      background-color: #E8F0FE;\n",
              "      border: none;\n",
              "      border-radius: 50%;\n",
              "      cursor: pointer;\n",
              "      display: none;\n",
              "      fill: #1967D2;\n",
              "      height: 32px;\n",
              "      padding: 0 0 0 0;\n",
              "      width: 32px;\n",
              "    }\n",
              "\n",
              "    .colab-df-convert:hover {\n",
              "      background-color: #E2EBFA;\n",
              "      box-shadow: 0px 1px 2px rgba(60, 64, 67, 0.3), 0px 1px 3px 1px rgba(60, 64, 67, 0.15);\n",
              "      fill: #174EA6;\n",
              "    }\n",
              "\n",
              "    [theme=dark] .colab-df-convert {\n",
              "      background-color: #3B4455;\n",
              "      fill: #D2E3FC;\n",
              "    }\n",
              "\n",
              "    [theme=dark] .colab-df-convert:hover {\n",
              "      background-color: #434B5C;\n",
              "      box-shadow: 0px 1px 3px 1px rgba(0, 0, 0, 0.15);\n",
              "      filter: drop-shadow(0px 1px 2px rgba(0, 0, 0, 0.3));\n",
              "      fill: #FFFFFF;\n",
              "    }\n",
              "  </style>\n",
              "\n",
              "      <script>\n",
              "        const buttonEl =\n",
              "          document.querySelector('#df-ec86873d-a3d7-40b7-9176-95d73214de9a button.colab-df-convert');\n",
              "        buttonEl.style.display =\n",
              "          google.colab.kernel.accessAllowed ? 'block' : 'none';\n",
              "\n",
              "        async function convertToInteractive(key) {\n",
              "          const element = document.querySelector('#df-ec86873d-a3d7-40b7-9176-95d73214de9a');\n",
              "          const dataTable =\n",
              "            await google.colab.kernel.invokeFunction('convertToInteractive',\n",
              "                                                     [key], {});\n",
              "          if (!dataTable) return;\n",
              "\n",
              "          const docLinkHtml = 'Like what you see? Visit the ' +\n",
              "            '<a target=\"_blank\" href=https://colab.research.google.com/notebooks/data_table.ipynb>data table notebook</a>'\n",
              "            + ' to learn more about interactive tables.';\n",
              "          element.innerHTML = '';\n",
              "          dataTable['output_type'] = 'display_data';\n",
              "          await google.colab.output.renderOutput(dataTable, element);\n",
              "          const docLink = document.createElement('div');\n",
              "          docLink.innerHTML = docLinkHtml;\n",
              "          element.appendChild(docLink);\n",
              "        }\n",
              "      </script>\n",
              "    </div>\n",
              "  </div>\n",
              "  "
            ],
            "text/plain": [
              "  DATASET_ORIGIN  ...                                      DESCRIPTION\n",
              "0        allergy  ...                                      Colonoscopy\n",
              "1        allergy  ...            Medication Reconciliation (procedure)\n",
              "2        allergy  ...                                      Colonoscopy\n",
              "3        allergy  ...  Measurement of respiratory function (procedure)\n",
              "4        allergy  ...            Medication Reconciliation (procedure)\n",
              "\n",
              "[5 rows x 6 columns]"
            ]
          },
          "metadata": {},
          "execution_count": 39
        }
      ]
    },
    {
      "cell_type": "code",
      "source": [
        "# number of procedures during covid19 in our df\n",
        "covid_year.groupby([\"PATIENT_ID\"]).size()"
      ],
      "metadata": {
        "colab": {
          "base_uri": "https://localhost:8080/"
        },
        "id": "Y7f4-dcPZerb",
        "outputId": "9a2fe6d8-9293-4374-f1e0-f62c02fa70de"
      },
      "execution_count": 40,
      "outputs": [
        {
          "output_type": "execute_result",
          "data": {
            "text/plain": [
              "PATIENT_ID\n",
              "003c0d44-9dfc-ca91-6121-373a8e265bd4    1\n",
              "00edcb46-afd4-4687-c16a-f4e20dfc3e92    1\n",
              "01d6dc15-6313-5327-8491-49be72f40d59    3\n",
              "0302c3b7-b985-7250-8633-fd6f4c5d3ec0    1\n",
              "03127a78-1c85-5b31-d4d5-14e941262148    1\n",
              "                                       ..\n",
              "f77e7391-8d71-066c-cb5e-a78908d32a17    1\n",
              "fb6e6891-2515-b709-0435-c5fb14cf247a    4\n",
              "fcda0346-ab0a-87e6-42b9-f53c11b06136    3\n",
              "fe55dd2f-bc68-7056-1b29-1d4c4563d30b    1\n",
              "ff5c1f25-14da-ba3a-51bb-c5735d406ea8    1\n",
              "Length: 310, dtype: int64"
            ]
          },
          "metadata": {},
          "execution_count": 40
        }
      ]
    },
    {
      "cell_type": "code",
      "source": [
        "# number of procedures pre covid19 in our df\n",
        "pre_covid.groupby([\"PATIENT_ID\"]).size()"
      ],
      "metadata": {
        "colab": {
          "base_uri": "https://localhost:8080/"
        },
        "id": "6e1CKnSIZs6-",
        "outputId": "5eee5e3a-9caf-4890-be8d-2c384cdc82bf"
      },
      "execution_count": 41,
      "outputs": [
        {
          "output_type": "execute_result",
          "data": {
            "text/plain": [
              "PATIENT_ID\n",
              "003c0d44-9dfc-ca91-6121-373a8e265bd4     12\n",
              "00edcb46-afd4-4687-c16a-f4e20dfc3e92      1\n",
              "01518fe2-bd76-d1e9-a656-1e7eae35dd17      2\n",
              "01581211-2e47-027b-71a0-dcbf0f4e6622      2\n",
              "01a49388-c6c0-1d10-00ee-8360a11941e7      3\n",
              "                                       ... \n",
              "fd4841b4-eb96-de29-c392-71785cbf1650      3\n",
              "fda2e613-dd00-2f49-6e86-0c1e5c281658      2\n",
              "fe55dd2f-bc68-7056-1b29-1d4c4563d30b      9\n",
              "feb25ae2-c154-4c42-3276-bc6c1e337a6c      2\n",
              "ff5c1f25-14da-ba3a-51bb-c5735d406ea8    178\n",
              "Length: 758, dtype: int64"
            ]
          },
          "metadata": {},
          "execution_count": 41
        }
      ]
    },
    {
      "cell_type": "code",
      "source": [
        "# Most often performed Procedures during covid19\n",
        "covid_year['DESCRIPTION'].value_counts()[:20]"
      ],
      "metadata": {
        "colab": {
          "base_uri": "https://localhost:8080/"
        },
        "id": "M84L9SNOZ3zD",
        "outputId": "d9a655f5-ae0a-4b74-ed51-30d8c83f4997"
      },
      "execution_count": 43,
      "outputs": [
        {
          "output_type": "execute_result",
          "data": {
            "text/plain": [
              "Electrical cardioversion                                                               123\n",
              "Oxygen administration by mask (procedure)                                              123\n",
              "Placing subject in prone position (procedure)                                          122\n",
              "Face mask (physical object)                                                             90\n",
              "Colonoscopy                                                                             55\n",
              "Medication Reconciliation (procedure)                                                   42\n",
              "Catheter ablation of tissue of heart                                                    35\n",
              "Echocardiography (procedure)                                                            25\n",
              "Intramuscular injection                                                                 25\n",
              "Percutaneous mechanical thrombectomy of portal vein using fluoroscopic guidance         16\n",
              "Controlled ventilation procedure and therapy  initiation and management (procedure)     15\n",
              "Plain chest X-ray (procedure)                                                           14\n",
              "Evaluation of uterine fundal height                                                     10\n",
              "Auscultation of the fetal heart                                                         10\n",
              "Hemodialysis (procedure)                                                                 9\n",
              "Mammography (procedure)                                                                  9\n",
              "Rectal polypectomy                                                                       7\n",
              "Cytopathology procedure  preparation of smear  genital source (procedure)                7\n",
              "Manual pelvic examination (procedure)                                                    7\n",
              "Insertion of biventricular implantable cardioverter defibrillator                        6\n",
              "Name: DESCRIPTION, dtype: int64"
            ]
          },
          "metadata": {},
          "execution_count": 43
        }
      ]
    },
    {
      "cell_type": "code",
      "source": [
        "# Most often performed Procedures pre covid19\n",
        "pre_covid['DESCRIPTION'].value_counts()[:20]"
      ],
      "metadata": {
        "colab": {
          "base_uri": "https://localhost:8080/"
        },
        "id": "xV0hzcoRZ-Jr",
        "outputId": "bc4e0bb0-bcfa-459a-f18e-f74482074445"
      },
      "execution_count": 44,
      "outputs": [
        {
          "output_type": "execute_result",
          "data": {
            "text/plain": [
              "Renal dialysis (procedure)                                                         1174\n",
              "Electrical cardioversion                                                            970\n",
              "Medication Reconciliation (procedure)                                               702\n",
              "Colonoscopy                                                                         490\n",
              "Evaluation of uterine fundal height                                                 387\n",
              "Auscultation of the fetal heart                                                     387\n",
              "Echocardiography (procedure)                                                        346\n",
              "Catheter ablation of tissue of heart                                                320\n",
              "Intramuscular injection                                                             191\n",
              "Combined chemotherapy and radiation therapy (procedure)                             160\n",
              "Percutaneous mechanical thrombectomy of portal vein using fluoroscopic guidance     134\n",
              "Subcutaneous immunotherapy                                                          120\n",
              "Mammography (procedure)                                                             111\n",
              "Percutaneous coronary intervention                                                   96\n",
              "Coronary artery bypass grafting                                                      96\n",
              "Rectal polypectomy                                                                   90\n",
              "Cytopathology procedure  preparation of smear  genital source (procedure)            87\n",
              "Manual pelvic examination (procedure)                                                87\n",
              "Hemoglobin / Hematocrit / Platelet count                                             86\n",
              "Insertion of biventricular implantable cardioverter defibrillator                    83\n",
              "Name: DESCRIPTION, dtype: int64"
            ]
          },
          "metadata": {},
          "execution_count": 44
        }
      ]
    },
    {
      "cell_type": "markdown",
      "source": [
        "# Visualization"
      ],
      "metadata": {
        "id": "OdCGtO5daMxE"
      }
    },
    {
      "cell_type": "code",
      "source": [
        "final_df.sort_values(by=['DATE'])"
      ],
      "metadata": {
        "colab": {
          "base_uri": "https://localhost:8080/",
          "height": 424
        },
        "id": "5APf4YZYbEEw",
        "outputId": "b4445725-e22a-4773-cff4-7a3ec494b104"
      },
      "execution_count": 47,
      "outputs": [
        {
          "output_type": "execute_result",
          "data": {
            "text/html": [
              "\n",
              "  <div id=\"df-17747f3a-76a3-4c0e-98cd-223c43db3940\">\n",
              "    <div class=\"colab-df-container\">\n",
              "      <div>\n",
              "<style scoped>\n",
              "    .dataframe tbody tr th:only-of-type {\n",
              "        vertical-align: middle;\n",
              "    }\n",
              "\n",
              "    .dataframe tbody tr th {\n",
              "        vertical-align: top;\n",
              "    }\n",
              "\n",
              "    .dataframe thead th {\n",
              "        text-align: right;\n",
              "    }\n",
              "</style>\n",
              "<table border=\"1\" class=\"dataframe\">\n",
              "  <thead>\n",
              "    <tr style=\"text-align: right;\">\n",
              "      <th></th>\n",
              "      <th>DATASET_ORIGIN</th>\n",
              "      <th>DATE</th>\n",
              "      <th>PATIENT_ID</th>\n",
              "      <th>ENCOUNTER_ID</th>\n",
              "      <th>CODE</th>\n",
              "      <th>DESCRIPTION</th>\n",
              "    </tr>\n",
              "  </thead>\n",
              "  <tbody>\n",
              "    <tr>\n",
              "      <th>12686</th>\n",
              "      <td>dermatitis</td>\n",
              "      <td>1941</td>\n",
              "      <td>1bb843ef-7f81-b5f0-89b6-12112988032b</td>\n",
              "      <td>ad2b46bf-c787-f75c-4544-8656b5dc6550</td>\n",
              "      <td>40701008</td>\n",
              "      <td>Echocardiography (procedure)</td>\n",
              "    </tr>\n",
              "    <tr>\n",
              "      <th>12687</th>\n",
              "      <td>dermatitis</td>\n",
              "      <td>1941</td>\n",
              "      <td>1bb843ef-7f81-b5f0-89b6-12112988032b</td>\n",
              "      <td>ad2b46bf-c787-f75c-4544-8656b5dc6550</td>\n",
              "      <td>415070008</td>\n",
              "      <td>Percutaneous coronary intervention</td>\n",
              "    </tr>\n",
              "    <tr>\n",
              "      <th>12688</th>\n",
              "      <td>dermatitis</td>\n",
              "      <td>1941</td>\n",
              "      <td>1bb843ef-7f81-b5f0-89b6-12112988032b</td>\n",
              "      <td>ad2b46bf-c787-f75c-4544-8656b5dc6550</td>\n",
              "      <td>232717009</td>\n",
              "      <td>Coronary artery bypass grafting</td>\n",
              "    </tr>\n",
              "    <tr>\n",
              "      <th>8008</th>\n",
              "      <td>colorectal_cancer</td>\n",
              "      <td>1956</td>\n",
              "      <td>b7ee5d7e-88cf-11d2-6fce-32c60bdb1fe4</td>\n",
              "      <td>99bd12d9-ec04-229d-4ff2-fc554b876646</td>\n",
              "      <td>40701008</td>\n",
              "      <td>Echocardiography (procedure)</td>\n",
              "    </tr>\n",
              "    <tr>\n",
              "      <th>8009</th>\n",
              "      <td>colorectal_cancer</td>\n",
              "      <td>1956</td>\n",
              "      <td>b7ee5d7e-88cf-11d2-6fce-32c60bdb1fe4</td>\n",
              "      <td>99bd12d9-ec04-229d-4ff2-fc554b876646</td>\n",
              "      <td>415070008</td>\n",
              "      <td>Percutaneous coronary intervention</td>\n",
              "    </tr>\n",
              "    <tr>\n",
              "      <th>...</th>\n",
              "      <td>...</td>\n",
              "      <td>...</td>\n",
              "      <td>...</td>\n",
              "      <td>...</td>\n",
              "      <td>...</td>\n",
              "      <td>...</td>\n",
              "    </tr>\n",
              "    <tr>\n",
              "      <th>1399</th>\n",
              "      <td>allergy</td>\n",
              "      <td>2020</td>\n",
              "      <td>46cdc565-e220-98df-17b2-f9080c8d7f43</td>\n",
              "      <td>ee73b39c-42e7-7920-5f7a-5f6d3bf7de53</td>\n",
              "      <td>76601001</td>\n",
              "      <td>Intramuscular injection</td>\n",
              "    </tr>\n",
              "    <tr>\n",
              "      <th>1398</th>\n",
              "      <td>allergy</td>\n",
              "      <td>2020</td>\n",
              "      <td>46cdc565-e220-98df-17b2-f9080c8d7f43</td>\n",
              "      <td>ed419d11-6002-5e55-962c-f25c119baf2c</td>\n",
              "      <td>430193006</td>\n",
              "      <td>Medication Reconciliation (procedure)</td>\n",
              "    </tr>\n",
              "    <tr>\n",
              "      <th>1397</th>\n",
              "      <td>allergy</td>\n",
              "      <td>2020</td>\n",
              "      <td>46cdc565-e220-98df-17b2-f9080c8d7f43</td>\n",
              "      <td>15e700a4-7216-784a-6dfc-a97b06d663ab</td>\n",
              "      <td>76601001</td>\n",
              "      <td>Intramuscular injection</td>\n",
              "    </tr>\n",
              "    <tr>\n",
              "      <th>1484</th>\n",
              "      <td>allergy</td>\n",
              "      <td>2020</td>\n",
              "      <td>560a4b1a-5d16-3a8d-144a-e5f36f801a4e</td>\n",
              "      <td>56a8eff0-e20d-4ec8-91fd-035fb2df566a</td>\n",
              "      <td>431182000</td>\n",
              "      <td>Placing subject in prone position (procedure)</td>\n",
              "    </tr>\n",
              "    <tr>\n",
              "      <th>778</th>\n",
              "      <td>allergy</td>\n",
              "      <td>2020</td>\n",
              "      <td>6cf1912d-22da-29d6-4469-8d85ac6ba09d</td>\n",
              "      <td>a7151682-62bb-ae68-0213-a9715240a100</td>\n",
              "      <td>431182000</td>\n",
              "      <td>Placing subject in prone position (procedure)</td>\n",
              "    </tr>\n",
              "  </tbody>\n",
              "</table>\n",
              "<p>9113 rows × 6 columns</p>\n",
              "</div>\n",
              "      <button class=\"colab-df-convert\" onclick=\"convertToInteractive('df-17747f3a-76a3-4c0e-98cd-223c43db3940')\"\n",
              "              title=\"Convert this dataframe to an interactive table.\"\n",
              "              style=\"display:none;\">\n",
              "        \n",
              "  <svg xmlns=\"http://www.w3.org/2000/svg\" height=\"24px\"viewBox=\"0 0 24 24\"\n",
              "       width=\"24px\">\n",
              "    <path d=\"M0 0h24v24H0V0z\" fill=\"none\"/>\n",
              "    <path d=\"M18.56 5.44l.94 2.06.94-2.06 2.06-.94-2.06-.94-.94-2.06-.94 2.06-2.06.94zm-11 1L8.5 8.5l.94-2.06 2.06-.94-2.06-.94L8.5 2.5l-.94 2.06-2.06.94zm10 10l.94 2.06.94-2.06 2.06-.94-2.06-.94-.94-2.06-.94 2.06-2.06.94z\"/><path d=\"M17.41 7.96l-1.37-1.37c-.4-.4-.92-.59-1.43-.59-.52 0-1.04.2-1.43.59L10.3 9.45l-7.72 7.72c-.78.78-.78 2.05 0 2.83L4 21.41c.39.39.9.59 1.41.59.51 0 1.02-.2 1.41-.59l7.78-7.78 2.81-2.81c.8-.78.8-2.07 0-2.86zM5.41 20L4 18.59l7.72-7.72 1.47 1.35L5.41 20z\"/>\n",
              "  </svg>\n",
              "      </button>\n",
              "      \n",
              "  <style>\n",
              "    .colab-df-container {\n",
              "      display:flex;\n",
              "      flex-wrap:wrap;\n",
              "      gap: 12px;\n",
              "    }\n",
              "\n",
              "    .colab-df-convert {\n",
              "      background-color: #E8F0FE;\n",
              "      border: none;\n",
              "      border-radius: 50%;\n",
              "      cursor: pointer;\n",
              "      display: none;\n",
              "      fill: #1967D2;\n",
              "      height: 32px;\n",
              "      padding: 0 0 0 0;\n",
              "      width: 32px;\n",
              "    }\n",
              "\n",
              "    .colab-df-convert:hover {\n",
              "      background-color: #E2EBFA;\n",
              "      box-shadow: 0px 1px 2px rgba(60, 64, 67, 0.3), 0px 1px 3px 1px rgba(60, 64, 67, 0.15);\n",
              "      fill: #174EA6;\n",
              "    }\n",
              "\n",
              "    [theme=dark] .colab-df-convert {\n",
              "      background-color: #3B4455;\n",
              "      fill: #D2E3FC;\n",
              "    }\n",
              "\n",
              "    [theme=dark] .colab-df-convert:hover {\n",
              "      background-color: #434B5C;\n",
              "      box-shadow: 0px 1px 3px 1px rgba(0, 0, 0, 0.15);\n",
              "      filter: drop-shadow(0px 1px 2px rgba(0, 0, 0, 0.3));\n",
              "      fill: #FFFFFF;\n",
              "    }\n",
              "  </style>\n",
              "\n",
              "      <script>\n",
              "        const buttonEl =\n",
              "          document.querySelector('#df-17747f3a-76a3-4c0e-98cd-223c43db3940 button.colab-df-convert');\n",
              "        buttonEl.style.display =\n",
              "          google.colab.kernel.accessAllowed ? 'block' : 'none';\n",
              "\n",
              "        async function convertToInteractive(key) {\n",
              "          const element = document.querySelector('#df-17747f3a-76a3-4c0e-98cd-223c43db3940');\n",
              "          const dataTable =\n",
              "            await google.colab.kernel.invokeFunction('convertToInteractive',\n",
              "                                                     [key], {});\n",
              "          if (!dataTable) return;\n",
              "\n",
              "          const docLinkHtml = 'Like what you see? Visit the ' +\n",
              "            '<a target=\"_blank\" href=https://colab.research.google.com/notebooks/data_table.ipynb>data table notebook</a>'\n",
              "            + ' to learn more about interactive tables.';\n",
              "          element.innerHTML = '';\n",
              "          dataTable['output_type'] = 'display_data';\n",
              "          await google.colab.output.renderOutput(dataTable, element);\n",
              "          const docLink = document.createElement('div');\n",
              "          docLink.innerHTML = docLinkHtml;\n",
              "          element.appendChild(docLink);\n",
              "        }\n",
              "      </script>\n",
              "    </div>\n",
              "  </div>\n",
              "  "
            ],
            "text/plain": [
              "          DATASET_ORIGIN  ...                                    DESCRIPTION\n",
              "12686         dermatitis  ...                   Echocardiography (procedure)\n",
              "12687         dermatitis  ...             Percutaneous coronary intervention\n",
              "12688         dermatitis  ...                Coronary artery bypass grafting\n",
              "8008   colorectal_cancer  ...                   Echocardiography (procedure)\n",
              "8009   colorectal_cancer  ...             Percutaneous coronary intervention\n",
              "...                  ...  ...                                            ...\n",
              "1399             allergy  ...                        Intramuscular injection\n",
              "1398             allergy  ...          Medication Reconciliation (procedure)\n",
              "1397             allergy  ...                        Intramuscular injection\n",
              "1484             allergy  ...  Placing subject in prone position (procedure)\n",
              "778              allergy  ...  Placing subject in prone position (procedure)\n",
              "\n",
              "[9113 rows x 6 columns]"
            ]
          },
          "metadata": {},
          "execution_count": 47
        }
      ]
    },
    {
      "cell_type": "code",
      "source": [
        "final_df['DATE'].value_counts().plot(kind=\"bar\")\n",
        "\n",
        "plt.show()"
      ],
      "metadata": {
        "colab": {
          "base_uri": "https://localhost:8080/",
          "height": 759
        },
        "id": "oUTfYyc7aZUd",
        "outputId": "ca4ac2fd-e225-45d4-d619-9cd44bddb614"
      },
      "execution_count": 51,
      "outputs": [
        {
          "output_type": "display_data",
          "data": {
            "image/png": "[encoded data removed]",
            "text/plain": [
              "<Figure size 3600x1800 with 1 Axes>"
            ]
          },
          "metadata": {}
        }
      ]
    }
  ]
}