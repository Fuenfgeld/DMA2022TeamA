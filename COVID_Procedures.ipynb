{
  "nbformat": 4,
  "nbformat_minor": 0,
  "metadata": {
    "colab": {
      "name": "COVID Impact",
      "provenance": [],
      "collapsed_sections": [],
      "toc_visible": true,
      "authorship_tag": "ABX9TyMyOhqwxeStG7S7bfkkzlwR",
      "include_colab_link": true
    },
    "kernelspec": {
      "name": "python3",
      "display_name": "Python 3"
    },
    "language_info": {
      "name": "python"
    }
  },
  "cells": [
    {
      "cell_type": "markdown",
      "metadata": {
        "id": "view-in-github",
        "colab_type": "text"
      },
      "source": [
        "<a href=\"https://colab.research.google.com/github/Fuenfgeld/DMA2022TeamA/blob/Konrad/COVID_Procedures.ipynb\" target=\"_parent\"><img src=\"https://colab.research.google.com/assets/colab-badge.svg\" alt=\"Open In Colab\"/></a>"
      ]
    },
    {
      "cell_type": "code",
      "source": [
        "# install the newest version \n",
        "!pip3 install https://github.com/pandas-profiling/pandas-profiling/archive/master.zip"
      ],
      "metadata": {
        "colab": {
          "base_uri": "https://localhost:8080/"
        },
        "id": "HXfew70kV49b",
        "outputId": "0df952af-dc82-41ab-f7d8-42c8ee15fb65"
      },
      "execution_count": 92,
      "outputs": [
        {
          "output_type": "stream",
          "name": "stdout",
          "text": [
            "Collecting https://github.com/pandas-profiling/pandas-profiling/archive/master.zip\n",
            "  Using cached https://github.com/pandas-profiling/pandas-profiling/archive/master.zip\n",
            "Requirement already satisfied: joblib~=1.1.0 in /usr/local/lib/python3.7/dist-packages (from pandas-profiling==3.1.1) (1.1.0)\n",
            "Requirement already satisfied: scipy>=1.4.1 in /usr/local/lib/python3.7/dist-packages (from pandas-profiling==3.1.1) (1.7.3)\n",
            "Requirement already satisfied: pandas!=1.0.0,!=1.0.1,!=1.0.2,!=1.1.0,>=0.25.3 in /usr/local/lib/python3.7/dist-packages (from pandas-profiling==3.1.1) (1.1.5)\n",
            "Requirement already satisfied: matplotlib>=3.2.0 in /usr/local/lib/python3.7/dist-packages (from pandas-profiling==3.1.1) (3.2.2)\n",
            "Requirement already satisfied: pydantic>=1.8.1 in /usr/local/lib/python3.7/dist-packages (from pandas-profiling==3.1.1) (1.9.0)\n",
            "Requirement already satisfied: PyYAML>=5.0.0 in /usr/local/lib/python3.7/dist-packages (from pandas-profiling==3.1.1) (6.0)\n",
            "Requirement already satisfied: jinja2>=2.11.1 in /usr/local/lib/python3.7/dist-packages (from pandas-profiling==3.1.1) (2.11.3)\n",
            "Requirement already satisfied: markupsafe~=2.0.1 in /usr/local/lib/python3.7/dist-packages (from pandas-profiling==3.1.1) (2.0.1)\n",
            "Requirement already satisfied: visions[type_image_path]==0.7.4 in /usr/local/lib/python3.7/dist-packages (from pandas-profiling==3.1.1) (0.7.4)\n",
            "Requirement already satisfied: numpy>=1.16.0 in /usr/local/lib/python3.7/dist-packages (from pandas-profiling==3.1.1) (1.19.5)\n",
            "Requirement already satisfied: htmlmin>=0.1.12 in /usr/local/lib/python3.7/dist-packages (from pandas-profiling==3.1.1) (0.1.12)\n",
            "Requirement already satisfied: missingno>=0.4.2 in /usr/local/lib/python3.7/dist-packages (from pandas-profiling==3.1.1) (0.5.0)\n",
            "Requirement already satisfied: phik>=0.11.1 in /usr/local/lib/python3.7/dist-packages (from pandas-profiling==3.1.1) (0.12.0)\n",
            "Requirement already satisfied: tangled-up-in-unicode==0.2.0 in /usr/local/lib/python3.7/dist-packages (from pandas-profiling==3.1.1) (0.2.0)\n",
            "Requirement already satisfied: requests>=2.24.0 in /usr/local/lib/python3.7/dist-packages (from pandas-profiling==3.1.1) (2.27.1)\n",
            "Requirement already satisfied: tqdm>=4.48.2 in /usr/local/lib/python3.7/dist-packages (from pandas-profiling==3.1.1) (4.62.3)\n",
            "Requirement already satisfied: seaborn>=0.10.1 in /usr/local/lib/python3.7/dist-packages (from pandas-profiling==3.1.1) (0.11.2)\n",
            "Requirement already satisfied: multimethod>=1.4 in /usr/local/lib/python3.7/dist-packages (from pandas-profiling==3.1.1) (1.7)\n",
            "Requirement already satisfied: networkx>=2.4 in /usr/local/lib/python3.7/dist-packages (from visions[type_image_path]==0.7.4->pandas-profiling==3.1.1) (2.6.3)\n",
            "Requirement already satisfied: attrs>=19.3.0 in /usr/local/lib/python3.7/dist-packages (from visions[type_image_path]==0.7.4->pandas-profiling==3.1.1) (21.4.0)\n",
            "Requirement already satisfied: Pillow in /usr/local/lib/python3.7/dist-packages (from visions[type_image_path]==0.7.4->pandas-profiling==3.1.1) (7.1.2)\n",
            "Requirement already satisfied: imagehash in /usr/local/lib/python3.7/dist-packages (from visions[type_image_path]==0.7.4->pandas-profiling==3.1.1) (4.2.1)\n",
            "Requirement already satisfied: kiwisolver>=1.0.1 in /usr/local/lib/python3.7/dist-packages (from matplotlib>=3.2.0->pandas-profiling==3.1.1) (1.3.2)\n",
            "Requirement already satisfied: pyparsing!=2.0.4,!=2.1.2,!=2.1.6,>=2.0.1 in /usr/local/lib/python3.7/dist-packages (from matplotlib>=3.2.0->pandas-profiling==3.1.1) (3.0.7)\n",
            "Requirement already satisfied: python-dateutil>=2.1 in /usr/local/lib/python3.7/dist-packages (from matplotlib>=3.2.0->pandas-profiling==3.1.1) (2.8.2)\n",
            "Requirement already satisfied: cycler>=0.10 in /usr/local/lib/python3.7/dist-packages (from matplotlib>=3.2.0->pandas-profiling==3.1.1) (0.11.0)\n",
            "Requirement already satisfied: pytz>=2017.2 in /usr/local/lib/python3.7/dist-packages (from pandas!=1.0.0,!=1.0.1,!=1.0.2,!=1.1.0,>=0.25.3->pandas-profiling==3.1.1) (2018.9)\n",
            "Requirement already satisfied: typing-extensions>=3.7.4.3 in /usr/local/lib/python3.7/dist-packages (from pydantic>=1.8.1->pandas-profiling==3.1.1) (3.10.0.2)\n",
            "Requirement already satisfied: six>=1.5 in /usr/local/lib/python3.7/dist-packages (from python-dateutil>=2.1->matplotlib>=3.2.0->pandas-profiling==3.1.1) (1.15.0)\n",
            "Requirement already satisfied: certifi>=2017.4.17 in /usr/local/lib/python3.7/dist-packages (from requests>=2.24.0->pandas-profiling==3.1.1) (2021.10.8)\n",
            "Requirement already satisfied: idna<4,>=2.5 in /usr/local/lib/python3.7/dist-packages (from requests>=2.24.0->pandas-profiling==3.1.1) (2.10)\n",
            "Requirement already satisfied: urllib3<1.27,>=1.21.1 in /usr/local/lib/python3.7/dist-packages (from requests>=2.24.0->pandas-profiling==3.1.1) (1.24.3)\n",
            "Requirement already satisfied: charset-normalizer~=2.0.0 in /usr/local/lib/python3.7/dist-packages (from requests>=2.24.0->pandas-profiling==3.1.1) (2.0.10)\n",
            "Requirement already satisfied: PyWavelets in /usr/local/lib/python3.7/dist-packages (from imagehash->visions[type_image_path]==0.7.4->pandas-profiling==3.1.1) (1.2.0)\n"
          ]
        }
      ]
    },
    {
      "cell_type": "code",
      "source": [
        "import pandas as pd\n",
        "import sqlite3\n",
        "import seaborn as sns\n",
        "import matplotlib.pyplot as plt\n",
        "import numpy as np\n",
        "from pandas_profiling import ProfileReport"
      ],
      "metadata": {
        "id": "q0CPI2BXV86n"
      },
      "execution_count": 93,
      "outputs": []
    },
    {
      "cell_type": "code",
      "execution_count": 94,
      "metadata": {
        "colab": {
          "base_uri": "https://localhost:8080/"
        },
        "id": "FDiOPuHKU1Hu",
        "outputId": "487aba73-2507-435c-e612-683cd53bc698"
      },
      "outputs": [
        {
          "output_type": "stream",
          "name": "stdout",
          "text": [
            "Drive already mounted at /content/gdrive; to attempt to forcibly remount, call drive.mount(\"/content/gdrive\", force_remount=True).\n"
          ]
        }
      ],
      "source": [
        "from google.colab import drive\n",
        "# mount drive to access database\n",
        "drive.mount(\"/content/gdrive\")"
      ]
    },
    {
      "cell_type": "code",
      "source": [
        "material_path = \"/gdrive/Shareddrives/Gruppe A\""
      ],
      "metadata": {
        "id": "F8AiyrXFVTm8"
      },
      "execution_count": 95,
      "outputs": []
    },
    {
      "cell_type": "code",
      "source": [
        "!ls \"/content/gdrive/Shareddrives/Gruppe A/Datawarehouse.db\""
      ],
      "metadata": {
        "colab": {
          "base_uri": "https://localhost:8080/"
        },
        "id": "OnnP9YruVbw9",
        "outputId": "2bdc42cd-1f1e-4bd4-d390-c6f9a58bc449"
      },
      "execution_count": 96,
      "outputs": [
        {
          "output_type": "stream",
          "name": "stdout",
          "text": [
            "'/content/gdrive/Shareddrives/Gruppe A/Datawarehouse.db'\n"
          ]
        }
      ]
    },
    {
      "cell_type": "code",
      "source": [
        "# datawarehouse path\n",
        "DB_DWH_PATH = f\"/content/gdrive/Shareddrives/Gruppe A/Datawarehouse.db\"\n",
        "print(\"Datawarehouse: \", DB_DWH_PATH)\n",
        "# connect to db\n",
        "dwh_conn = sqlite3.connect(DB_DWH_PATH)"
      ],
      "metadata": {
        "colab": {
          "base_uri": "https://localhost:8080/"
        },
        "id": "CsF3jHhLVtlq",
        "outputId": "991ab8b0-17f5-4b2d-c82f-ac46385fda3d"
      },
      "execution_count": 97,
      "outputs": [
        {
          "output_type": "stream",
          "name": "stdout",
          "text": [
            "Datawarehouse:  /content/gdrive/Shareddrives/Gruppe A/Datawarehouse.db\n"
          ]
        }
      ]
    },
    {
      "cell_type": "code",
      "source": [
        "# list of tables in db\n",
        "if dwh_conn is not None:\n",
        "  dwh_cursor = dwh_conn.cursor()\n",
        "  dwh_cursor.execute(\"SELECT name FROM sqlite_master WHERE type='table';\")\n",
        "  print(\"List of Tables\", dwh_cursor.fetchall())"
      ],
      "metadata": {
        "colab": {
          "base_uri": "https://localhost:8080/"
        },
        "id": "GqMVI27FWIdw",
        "outputId": "9f5dd796-6cfb-4646-d609-57b2540ef001"
      },
      "execution_count": 98,
      "outputs": [
        {
          "output_type": "stream",
          "name": "stdout",
          "text": [
            "List of Tables [('Zentrum',), ('dimObservations',), ('dimEncounters',), ('dimProcedures',), ('dimConditions',), ('dimPatients',)]\n"
          ]
        }
      ]
    },
    {
      "cell_type": "code",
      "source": [
        "# Read sqlite query results into a pandas DataFrame\n",
        "\n",
        "# Zentrum Tabelle\n",
        "df_Zentrum = pd.read_sql_query(\"SELECT * FROM Zentrum\", dwh_conn)\n",
        "\n",
        "# demographic data\n",
        "df_patients = pd.read_sql_query(\"SELECT * FROM dimPatients\", dwh_conn)\n",
        "# diagnoses data\n",
        "df_conditions = pd.read_sql_query(\"select * from dimConditions\", dwh_conn)\n",
        "\n",
        "# procedure data\n",
        "# df_careplans = pd.read_sql_query(\"select * from careplans_info\", dwh_conn)\n",
        "df_procedures = pd.read_sql_query(\"SELECT * FROM dimProcedures\", dwh_conn)\n",
        "\n",
        "# observations\n",
        "df_observations = pd.read_sql_query(\"SELECT * FROM dimObservations\", dwh_conn)\n",
        "\n",
        "# encounters\n",
        "df_encounters = pd.read_sql_query(\"SELECT * FROM dimEncounters\", dwh_conn)"
      ],
      "metadata": {
        "id": "SdIMkHybWpNX"
      },
      "execution_count": 99,
      "outputs": []
    },
    {
      "cell_type": "markdown",
      "source": [
        "Basic Data Exploration"
      ],
      "metadata": {
        "id": "YdukIq74Cevf"
      }
    },
    {
      "cell_type": "code",
      "source": [
        "df_procedures.head()"
      ],
      "metadata": {
        "colab": {
          "base_uri": "https://localhost:8080/",
          "height": 337
        },
        "id": "u2H8r5FnXviF",
        "outputId": "de17fd55-5810-4a34-87d5-defaba3a6782"
      },
      "execution_count": 100,
      "outputs": [
        {
          "output_type": "execute_result",
          "data": {
            "text/html": [
              "\n",
              "  <div id=\"df-4653a50c-8769-4a8b-b864-8eb99ef31d42\">\n",
              "    <div class=\"colab-df-container\">\n",
              "      <div>\n",
              "<style scoped>\n",
              "    .dataframe tbody tr th:only-of-type {\n",
              "        vertical-align: middle;\n",
              "    }\n",
              "\n",
              "    .dataframe tbody tr th {\n",
              "        vertical-align: top;\n",
              "    }\n",
              "\n",
              "    .dataframe thead th {\n",
              "        text-align: right;\n",
              "    }\n",
              "</style>\n",
              "<table border=\"1\" class=\"dataframe\">\n",
              "  <thead>\n",
              "    <tr style=\"text-align: right;\">\n",
              "      <th></th>\n",
              "      <th>DATE</th>\n",
              "      <th>PATIENT_ID</th>\n",
              "      <th>ENCOUNTER_ID</th>\n",
              "      <th>CODE</th>\n",
              "      <th>DESCRIPTION</th>\n",
              "    </tr>\n",
              "  </thead>\n",
              "  <tbody>\n",
              "    <tr>\n",
              "      <th>0</th>\n",
              "      <td>2012-12-12T14:56:19Z</td>\n",
              "      <td>3575b903-dbd0-1d55-6146-9e8aa4ed52a5</td>\n",
              "      <td>f222d3d6-d9f0-3586-70d4-69a77f16b58c</td>\n",
              "      <td>73761001</td>\n",
              "      <td>Colonoscopy</td>\n",
              "    </tr>\n",
              "    <tr>\n",
              "      <th>1</th>\n",
              "      <td>2015-05-04T11:40:19Z</td>\n",
              "      <td>3575b903-dbd0-1d55-6146-9e8aa4ed52a5</td>\n",
              "      <td>c57b93a2-0302-4965-9e2c-713b84e7c24b</td>\n",
              "      <td>430193006</td>\n",
              "      <td>Medication Reconciliation (procedure)</td>\n",
              "    </tr>\n",
              "    <tr>\n",
              "      <th>2</th>\n",
              "      <td>2017-12-11T15:25:19Z</td>\n",
              "      <td>3575b903-dbd0-1d55-6146-9e8aa4ed52a5</td>\n",
              "      <td>11306017-08e3-1375-fc44-1265a8114949</td>\n",
              "      <td>73761001</td>\n",
              "      <td>Colonoscopy</td>\n",
              "    </tr>\n",
              "    <tr>\n",
              "      <th>3</th>\n",
              "      <td>2019-01-30T11:40:19Z</td>\n",
              "      <td>3575b903-dbd0-1d55-6146-9e8aa4ed52a5</td>\n",
              "      <td>cd0f83e5-1e70-75ec-1be9-b254e2589e49</td>\n",
              "      <td>23426006</td>\n",
              "      <td>Measurement of respiratory function (procedure)</td>\n",
              "    </tr>\n",
              "    <tr>\n",
              "      <th>4</th>\n",
              "      <td>2019-05-27T11:40:19Z</td>\n",
              "      <td>3575b903-dbd0-1d55-6146-9e8aa4ed52a5</td>\n",
              "      <td>bdeb0bc4-50bc-5aaa-ab7f-e43535a01bbe</td>\n",
              "      <td>430193006</td>\n",
              "      <td>Medication Reconciliation (procedure)</td>\n",
              "    </tr>\n",
              "  </tbody>\n",
              "</table>\n",
              "</div>\n",
              "      <button class=\"colab-df-convert\" onclick=\"convertToInteractive('df-4653a50c-8769-4a8b-b864-8eb99ef31d42')\"\n",
              "              title=\"Convert this dataframe to an interactive table.\"\n",
              "              style=\"display:none;\">\n",
              "        \n",
              "  <svg xmlns=\"http://www.w3.org/2000/svg\" height=\"24px\"viewBox=\"0 0 24 24\"\n",
              "       width=\"24px\">\n",
              "    <path d=\"M0 0h24v24H0V0z\" fill=\"none\"/>\n",
              "    <path d=\"M18.56 5.44l.94 2.06.94-2.06 2.06-.94-2.06-.94-.94-2.06-.94 2.06-2.06.94zm-11 1L8.5 8.5l.94-2.06 2.06-.94-2.06-.94L8.5 2.5l-.94 2.06-2.06.94zm10 10l.94 2.06.94-2.06 2.06-.94-2.06-.94-.94-2.06-.94 2.06-2.06.94z\"/><path d=\"M17.41 7.96l-1.37-1.37c-.4-.4-.92-.59-1.43-.59-.52 0-1.04.2-1.43.59L10.3 9.45l-7.72 7.72c-.78.78-.78 2.05 0 2.83L4 21.41c.39.39.9.59 1.41.59.51 0 1.02-.2 1.41-.59l7.78-7.78 2.81-2.81c.8-.78.8-2.07 0-2.86zM5.41 20L4 18.59l7.72-7.72 1.47 1.35L5.41 20z\"/>\n",
              "  </svg>\n",
              "      </button>\n",
              "      \n",
              "  <style>\n",
              "    .colab-df-container {\n",
              "      display:flex;\n",
              "      flex-wrap:wrap;\n",
              "      gap: 12px;\n",
              "    }\n",
              "\n",
              "    .colab-df-convert {\n",
              "      background-color: #E8F0FE;\n",
              "      border: none;\n",
              "      border-radius: 50%;\n",
              "      cursor: pointer;\n",
              "      display: none;\n",
              "      fill: #1967D2;\n",
              "      height: 32px;\n",
              "      padding: 0 0 0 0;\n",
              "      width: 32px;\n",
              "    }\n",
              "\n",
              "    .colab-df-convert:hover {\n",
              "      background-color: #E2EBFA;\n",
              "      box-shadow: 0px 1px 2px rgba(60, 64, 67, 0.3), 0px 1px 3px 1px rgba(60, 64, 67, 0.15);\n",
              "      fill: #174EA6;\n",
              "    }\n",
              "\n",
              "    [theme=dark] .colab-df-convert {\n",
              "      background-color: #3B4455;\n",
              "      fill: #D2E3FC;\n",
              "    }\n",
              "\n",
              "    [theme=dark] .colab-df-convert:hover {\n",
              "      background-color: #434B5C;\n",
              "      box-shadow: 0px 1px 3px 1px rgba(0, 0, 0, 0.15);\n",
              "      filter: drop-shadow(0px 1px 2px rgba(0, 0, 0, 0.3));\n",
              "      fill: #FFFFFF;\n",
              "    }\n",
              "  </style>\n",
              "\n",
              "      <script>\n",
              "        const buttonEl =\n",
              "          document.querySelector('#df-4653a50c-8769-4a8b-b864-8eb99ef31d42 button.colab-df-convert');\n",
              "        buttonEl.style.display =\n",
              "          google.colab.kernel.accessAllowed ? 'block' : 'none';\n",
              "\n",
              "        async function convertToInteractive(key) {\n",
              "          const element = document.querySelector('#df-4653a50c-8769-4a8b-b864-8eb99ef31d42');\n",
              "          const dataTable =\n",
              "            await google.colab.kernel.invokeFunction('convertToInteractive',\n",
              "                                                     [key], {});\n",
              "          if (!dataTable) return;\n",
              "\n",
              "          const docLinkHtml = 'Like what you see? Visit the ' +\n",
              "            '<a target=\"_blank\" href=https://colab.research.google.com/notebooks/data_table.ipynb>data table notebook</a>'\n",
              "            + ' to learn more about interactive tables.';\n",
              "          element.innerHTML = '';\n",
              "          dataTable['output_type'] = 'display_data';\n",
              "          await google.colab.output.renderOutput(dataTable, element);\n",
              "          const docLink = document.createElement('div');\n",
              "          docLink.innerHTML = docLinkHtml;\n",
              "          element.appendChild(docLink);\n",
              "        }\n",
              "      </script>\n",
              "    </div>\n",
              "  </div>\n",
              "  "
            ],
            "text/plain": [
              "                   DATE  ...                                      DESCRIPTION\n",
              "0  2012-12-12T14:56:19Z  ...                                      Colonoscopy\n",
              "1  2015-05-04T11:40:19Z  ...            Medication Reconciliation (procedure)\n",
              "2  2017-12-11T15:25:19Z  ...                                      Colonoscopy\n",
              "3  2019-01-30T11:40:19Z  ...  Measurement of respiratory function (procedure)\n",
              "4  2019-05-27T11:40:19Z  ...            Medication Reconciliation (procedure)\n",
              "\n",
              "[5 rows x 5 columns]"
            ]
          },
          "metadata": {},
          "execution_count": 100
        }
      ]
    },
    {
      "cell_type": "code",
      "source": [
        "df_procedures.columns"
      ],
      "metadata": {
        "colab": {
          "base_uri": "https://localhost:8080/"
        },
        "id": "rYJt1DmGX1J6",
        "outputId": "e103ad99-64b9-472b-f47f-0a9a3e5741f0"
      },
      "execution_count": 101,
      "outputs": [
        {
          "output_type": "execute_result",
          "data": {
            "text/plain": [
              "Index(['DATE', 'PATIENT_ID', 'ENCOUNTER_ID', 'CODE', 'DESCRIPTION'], dtype='object')"
            ]
          },
          "metadata": {},
          "execution_count": 101
        }
      ]
    },
    {
      "cell_type": "code",
      "source": [
        "df_procedures.shape"
      ],
      "metadata": {
        "colab": {
          "base_uri": "https://localhost:8080/"
        },
        "id": "81hEbbn3X3Pv",
        "outputId": "f1790358-2524-4c7b-bd5c-5fa56535a2e4"
      },
      "execution_count": 102,
      "outputs": [
        {
          "output_type": "execute_result",
          "data": {
            "text/plain": [
              "(13570, 5)"
            ]
          },
          "metadata": {},
          "execution_count": 102
        }
      ]
    },
    {
      "cell_type": "code",
      "source": [
        "# number of patients in procedure table\n",
        "df_procedures.groupby([\"PATIENT_ID\"]).size()"
      ],
      "metadata": {
        "colab": {
          "base_uri": "https://localhost:8080/"
        },
        "id": "TSR8yBxtNvlk",
        "outputId": "3ebac884-75f2-450a-be00-fc6f10e0f45b"
      },
      "execution_count": 103,
      "outputs": [
        {
          "output_type": "execute_result",
          "data": {
            "text/plain": [
              "PATIENT_ID\n",
              "0033cec2-67d3-39ec-b0f4-29f91a2918d6      1\n",
              "003c0d44-9dfc-ca91-6121-373a8e265bd4     13\n",
              "00680fcd-0ef2-99c5-f69d-59463206750f     26\n",
              "00edcb46-afd4-4687-c16a-f4e20dfc3e92      2\n",
              "00f4a426-4746-6513-1775-1e8650e2f6b5      1\n",
              "                                       ... \n",
              "ff2d586c-f770-a795-c9eb-0b0d39447e48      1\n",
              "ff5c1f25-14da-ba3a-51bb-c5735d406ea8    179\n",
              "ff9e749b-0abc-22f8-0d62-6912b87781b1      1\n",
              "ffd905f3-45fb-b2a7-7429-bf864ef29d81     28\n",
              "ffe52b9f-cdf1-d315-9286-e64d370edde4      1\n",
              "Length: 1740, dtype: int64"
            ]
          },
          "metadata": {},
          "execution_count": 103
        }
      ]
    },
    {
      "cell_type": "code",
      "source": [
        "df_procedures.groupby([\"PATIENT_ID\", \"CODE\"]).size()"
      ],
      "metadata": {
        "colab": {
          "base_uri": "https://localhost:8080/"
        },
        "id": "ircRxm3iOKOj",
        "outputId": "1b10040e-b82e-416a-81aa-fd801009ecff"
      },
      "execution_count": 104,
      "outputs": [
        {
          "output_type": "execute_result",
          "data": {
            "text/plain": [
              "PATIENT_ID                            CODE     \n",
              "0033cec2-67d3-39ec-b0f4-29f91a2918d6  261352009    1\n",
              "003c0d44-9dfc-ca91-6121-373a8e265bd4  180325003    7\n",
              "                                      18286008     2\n",
              "                                      40701008     1\n",
              "                                      433112001    1\n",
              "                                                  ..\n",
              "ffd905f3-45fb-b2a7-7429-bf864ef29d81  261352009    1\n",
              "                                      371908008    9\n",
              "                                      399208008    1\n",
              "                                      431182000    9\n",
              "ffe52b9f-cdf1-d315-9286-e64d370edde4  261352009    1\n",
              "Length: 4591, dtype: int64"
            ]
          },
          "metadata": {},
          "execution_count": 104
        }
      ]
    },
    {
      "cell_type": "markdown",
      "source": [
        "Data Cleaning"
      ],
      "metadata": {
        "id": "8c4pHWQCCnuy"
      }
    },
    {
      "cell_type": "code",
      "source": [
        "# Nullwerte durch nan ersetzen\n",
        "df_procedures = df_procedures.replace(r'^\\s*$', np.nan, regex=True)"
      ],
      "metadata": {
        "id": "LVQC2-nfX6YF"
      },
      "execution_count": 105,
      "outputs": []
    },
    {
      "cell_type": "code",
      "source": [
        "# Anzahl an Nullwerten im df_Procedures\n",
        "df_procedures.isnull().sum()"
      ],
      "metadata": {
        "colab": {
          "base_uri": "https://localhost:8080/"
        },
        "id": "sflNJKawX85h",
        "outputId": "02272d9b-e121-4741-9748-92a424f96b2f"
      },
      "execution_count": 106,
      "outputs": [
        {
          "output_type": "execute_result",
          "data": {
            "text/plain": [
              "DATE            0\n",
              "PATIENT_ID      0\n",
              "ENCOUNTER_ID    0\n",
              "CODE            0\n",
              "DESCRIPTION     0\n",
              "dtype: int64"
            ]
          },
          "metadata": {},
          "execution_count": 106
        }
      ]
    },
    {
      "cell_type": "code",
      "source": [
        ""
      ],
      "metadata": {
        "id": "4PV-WPGxYrhb"
      },
      "execution_count": 106,
      "outputs": []
    },
    {
      "cell_type": "code",
      "source": [
        "print(\"Number of Duplicated Rows\", df_Zentrum.duplicated(df_Zentrum.columns).sum())"
      ],
      "metadata": {
        "colab": {
          "base_uri": "https://localhost:8080/"
        },
        "id": "xlShMbOVWVaJ",
        "outputId": "b1a64bc5-f422-4796-e5ff-03e89f13693b"
      },
      "execution_count": 107,
      "outputs": [
        {
          "output_type": "stream",
          "name": "stdout",
          "text": [
            "Number of Duplicated Rows 0\n"
          ]
        }
      ]
    },
    {
      "cell_type": "code",
      "source": [
        "df_procedures.nunique(axis=0)"
      ],
      "metadata": {
        "colab": {
          "base_uri": "https://localhost:8080/"
        },
        "id": "RGDKO2n6EqqN",
        "outputId": "e4112b1b-7f51-4dab-fe5d-8baaabe2912c"
      },
      "execution_count": 108,
      "outputs": [
        {
          "output_type": "execute_result",
          "data": {
            "text/plain": [
              "DATE            9296\n",
              "PATIENT_ID      1740\n",
              "ENCOUNTER_ID    7317\n",
              "CODE             132\n",
              "DESCRIPTION      137\n",
              "dtype: int64"
            ]
          },
          "metadata": {},
          "execution_count": 108
        }
      ]
    },
    {
      "cell_type": "code",
      "source": [
        "df_procedures.iloc[0]"
      ],
      "metadata": {
        "colab": {
          "base_uri": "https://localhost:8080/"
        },
        "id": "wdQa4KqAE3B3",
        "outputId": "32728bf6-dac3-43b4-cc36-99983a45088b"
      },
      "execution_count": 109,
      "outputs": [
        {
          "output_type": "execute_result",
          "data": {
            "text/plain": [
              "DATE                            2012-12-12T14:56:19Z\n",
              "PATIENT_ID      3575b903-dbd0-1d55-6146-9e8aa4ed52a5\n",
              "ENCOUNTER_ID    f222d3d6-d9f0-3586-70d4-69a77f16b58c\n",
              "CODE                                        73761001\n",
              "DESCRIPTION                              Colonoscopy\n",
              "Name: 0, dtype: object"
            ]
          },
          "metadata": {},
          "execution_count": 109
        }
      ]
    },
    {
      "cell_type": "code",
      "source": [
        "entry=df_procedures.iloc[0]\n",
        "print(type(entry))"
      ],
      "metadata": {
        "colab": {
          "base_uri": "https://localhost:8080/"
        },
        "id": "IvwirujaGXc4",
        "outputId": "bab1c78b-cd3a-4b31-9662-9079e7b81dd6"
      },
      "execution_count": 110,
      "outputs": [
        {
          "output_type": "stream",
          "name": "stdout",
          "text": [
            "<class 'pandas.core.series.Series'>\n"
          ]
        }
      ]
    },
    {
      "cell_type": "markdown",
      "source": [
        "# Umwandlung des Datums in YYYY"
      ],
      "metadata": {
        "id": "Pcg0x-UPMYaX"
      }
    },
    {
      "cell_type": "code",
      "source": [
        "# Abfrage des aktuellen Datumformats\n",
        "\n",
        "from datetime import datetime\n",
        "curr= datetime.now()\n",
        "print(curr)"
      ],
      "metadata": {
        "colab": {
          "base_uri": "https://localhost:8080/"
        },
        "id": "ZI2gj06kMR_l",
        "outputId": "06b316ac-7fd7-4580-c1d5-b4fc6744e8b1"
      },
      "execution_count": 111,
      "outputs": [
        {
          "output_type": "stream",
          "name": "stdout",
          "text": [
            "2022-01-30 10:39:14.711565\n"
          ]
        }
      ]
    },
    {
      "cell_type": "code",
      "source": [
        "# Formatierung zu YYYY\n",
        "req_format = datetime.strftime(curr, \"%Y\")\n",
        "print(req_format)"
      ],
      "metadata": {
        "colab": {
          "base_uri": "https://localhost:8080/"
        },
        "id": "nU8d1buEMsQO",
        "outputId": "c5c23a6c-ad8b-4c56-98f3-1c8e65d74533"
      },
      "execution_count": 112,
      "outputs": [
        {
          "output_type": "stream",
          "name": "stdout",
          "text": [
            "2022\n"
          ]
        }
      ]
    },
    {
      "cell_type": "code",
      "source": [
        "df_procedures[\"DATE\"] = pd.to_datetime(df_procedures[\"DATE\"])"
      ],
      "metadata": {
        "id": "tUkHrqOTP0iy"
      },
      "execution_count": 113,
      "outputs": []
    },
    {
      "cell_type": "code",
      "source": [
        "df_procedures[\"DATE\"] = df_procedures[\"DATE\"].dt.to_period('Y')"
      ],
      "metadata": {
        "colab": {
          "base_uri": "https://localhost:8080/"
        },
        "id": "kPsjaqesP363",
        "outputId": "c16bfb9d-7a29-4211-aeeb-0cb3b2359e37"
      },
      "execution_count": 114,
      "outputs": [
        {
          "output_type": "stream",
          "name": "stderr",
          "text": [
            "/usr/local/lib/python3.7/dist-packages/pandas/core/arrays/datetimes.py:1092: UserWarning: Converting to PeriodArray/Index representation will drop timezone information.\n",
            "  UserWarning,\n"
          ]
        }
      ]
    },
    {
      "cell_type": "code",
      "source": [
        "df_procedures.iloc[0]"
      ],
      "metadata": {
        "colab": {
          "base_uri": "https://localhost:8080/"
        },
        "id": "tFSRnEKcNTZG",
        "outputId": "af92d1a9-674f-4eed-9037-6c65c05f1464"
      },
      "execution_count": 115,
      "outputs": [
        {
          "output_type": "execute_result",
          "data": {
            "text/plain": [
              "DATE                                            2012\n",
              "PATIENT_ID      3575b903-dbd0-1d55-6146-9e8aa4ed52a5\n",
              "ENCOUNTER_ID    f222d3d6-d9f0-3586-70d4-69a77f16b58c\n",
              "CODE                                        73761001\n",
              "DESCRIPTION                              Colonoscopy\n",
              "Name: 0, dtype: object"
            ]
          },
          "metadata": {},
          "execution_count": 115
        }
      ]
    },
    {
      "cell_type": "code",
      "source": [
        "df_procedures.head"
      ],
      "metadata": {
        "colab": {
          "base_uri": "https://localhost:8080/"
        },
        "id": "cZJoT8Mhbqr8",
        "outputId": "e84e285f-9d5a-4ef7-9ddf-a4e905920a80"
      },
      "execution_count": 116,
      "outputs": [
        {
          "output_type": "execute_result",
          "data": {
            "text/plain": [
              "<bound method NDFrame.head of        DATE  ...                                        DESCRIPTION\n",
              "0      2012  ...                                        Colonoscopy\n",
              "1      2015  ...              Medication Reconciliation (procedure)\n",
              "2      2017  ...                                        Colonoscopy\n",
              "3      2019  ...    Measurement of respiratory function (procedure)\n",
              "4      2019  ...              Medication Reconciliation (procedure)\n",
              "...     ...  ...                                                ...\n",
              "13565  1984  ...                 Percutaneous coronary intervention\n",
              "13566  1984  ...                    Coronary artery bypass grafting\n",
              "13567  2017  ...                       Echocardiography (procedure)\n",
              "13568  2017  ...  Insertion of biventricular implantable cardiov...\n",
              "13569  2017  ...               Catheter ablation of tissue of heart\n",
              "\n",
              "[13570 rows x 5 columns]>"
            ]
          },
          "metadata": {},
          "execution_count": 116
        }
      ]
    },
    {
      "cell_type": "markdown",
      "source": [
        "# Abfrage der Proceduren nach Jahren aufgeschlüsselt"
      ],
      "metadata": {
        "id": "eAVWtKetcLPX"
      }
    },
    {
      "cell_type": "code",
      "source": [
        "# Erstellung mit einer Tabelle aus dem Corona-Jahr\n",
        "covid_procedures = df_procedures[df_procedures[\"DATE\"] >= \"2020\"]\n",
        "covid_procedures.head()"
      ],
      "metadata": {
        "colab": {
          "base_uri": "https://localhost:8080/",
          "height": 320
        },
        "id": "1yvKTyYtdoEf",
        "outputId": "c5285729-a228-45f3-b3da-83efaf567781"
      },
      "execution_count": 117,
      "outputs": [
        {
          "output_type": "execute_result",
          "data": {
            "text/html": [
              "\n",
              "  <div id=\"df-c0ac09c6-5df2-4015-9cd4-be1979b83532\">\n",
              "    <div class=\"colab-df-container\">\n",
              "      <div>\n",
              "<style scoped>\n",
              "    .dataframe tbody tr th:only-of-type {\n",
              "        vertical-align: middle;\n",
              "    }\n",
              "\n",
              "    .dataframe tbody tr th {\n",
              "        vertical-align: top;\n",
              "    }\n",
              "\n",
              "    .dataframe thead th {\n",
              "        text-align: right;\n",
              "    }\n",
              "</style>\n",
              "<table border=\"1\" class=\"dataframe\">\n",
              "  <thead>\n",
              "    <tr style=\"text-align: right;\">\n",
              "      <th></th>\n",
              "      <th>DATE</th>\n",
              "      <th>PATIENT_ID</th>\n",
              "      <th>ENCOUNTER_ID</th>\n",
              "      <th>CODE</th>\n",
              "      <th>DESCRIPTION</th>\n",
              "    </tr>\n",
              "  </thead>\n",
              "  <tbody>\n",
              "    <tr>\n",
              "      <th>5</th>\n",
              "      <td>2020</td>\n",
              "      <td>3575b903-dbd0-1d55-6146-9e8aa4ed52a5</td>\n",
              "      <td>3c7f472a-2602-bcdd-76d0-53f967923ded</td>\n",
              "      <td>261352009</td>\n",
              "      <td>Face mask (physical object)</td>\n",
              "    </tr>\n",
              "    <tr>\n",
              "      <th>15</th>\n",
              "      <td>2020</td>\n",
              "      <td>17f0c6d9-8931-8839-66cb-3ca6fb066d3e</td>\n",
              "      <td>dcee0f8b-907d-69cf-c998-5e73711f2276</td>\n",
              "      <td>261352009</td>\n",
              "      <td>Face mask (physical object)</td>\n",
              "    </tr>\n",
              "    <tr>\n",
              "      <th>16</th>\n",
              "      <td>2020</td>\n",
              "      <td>17f0c6d9-8931-8839-66cb-3ca6fb066d3e</td>\n",
              "      <td>61d084c0-52cc-1b9d-5ed8-505982d8f401</td>\n",
              "      <td>430193006</td>\n",
              "      <td>Medication Reconciliation (procedure)</td>\n",
              "    </tr>\n",
              "    <tr>\n",
              "      <th>26</th>\n",
              "      <td>2020</td>\n",
              "      <td>e92765c7-1c4b-9ee7-dbc8-5300fcb40a54</td>\n",
              "      <td>621750b5-9dd3-649c-977c-45d6315b546e</td>\n",
              "      <td>430193006</td>\n",
              "      <td>Medication Reconciliation (procedure)</td>\n",
              "    </tr>\n",
              "    <tr>\n",
              "      <th>54</th>\n",
              "      <td>2020</td>\n",
              "      <td>aff157cc-b6d3-412b-ccbe-bfd5fac1c2d5</td>\n",
              "      <td>61c250a0-1668-e4ce-aefc-77a7842574c2</td>\n",
              "      <td>261352009</td>\n",
              "      <td>Face mask (physical object)</td>\n",
              "    </tr>\n",
              "  </tbody>\n",
              "</table>\n",
              "</div>\n",
              "      <button class=\"colab-df-convert\" onclick=\"convertToInteractive('df-c0ac09c6-5df2-4015-9cd4-be1979b83532')\"\n",
              "              title=\"Convert this dataframe to an interactive table.\"\n",
              "              style=\"display:none;\">\n",
              "        \n",
              "  <svg xmlns=\"http://www.w3.org/2000/svg\" height=\"24px\"viewBox=\"0 0 24 24\"\n",
              "       width=\"24px\">\n",
              "    <path d=\"M0 0h24v24H0V0z\" fill=\"none\"/>\n",
              "    <path d=\"M18.56 5.44l.94 2.06.94-2.06 2.06-.94-2.06-.94-.94-2.06-.94 2.06-2.06.94zm-11 1L8.5 8.5l.94-2.06 2.06-.94-2.06-.94L8.5 2.5l-.94 2.06-2.06.94zm10 10l.94 2.06.94-2.06 2.06-.94-2.06-.94-.94-2.06-.94 2.06-2.06.94z\"/><path d=\"M17.41 7.96l-1.37-1.37c-.4-.4-.92-.59-1.43-.59-.52 0-1.04.2-1.43.59L10.3 9.45l-7.72 7.72c-.78.78-.78 2.05 0 2.83L4 21.41c.39.39.9.59 1.41.59.51 0 1.02-.2 1.41-.59l7.78-7.78 2.81-2.81c.8-.78.8-2.07 0-2.86zM5.41 20L4 18.59l7.72-7.72 1.47 1.35L5.41 20z\"/>\n",
              "  </svg>\n",
              "      </button>\n",
              "      \n",
              "  <style>\n",
              "    .colab-df-container {\n",
              "      display:flex;\n",
              "      flex-wrap:wrap;\n",
              "      gap: 12px;\n",
              "    }\n",
              "\n",
              "    .colab-df-convert {\n",
              "      background-color: #E8F0FE;\n",
              "      border: none;\n",
              "      border-radius: 50%;\n",
              "      cursor: pointer;\n",
              "      display: none;\n",
              "      fill: #1967D2;\n",
              "      height: 32px;\n",
              "      padding: 0 0 0 0;\n",
              "      width: 32px;\n",
              "    }\n",
              "\n",
              "    .colab-df-convert:hover {\n",
              "      background-color: #E2EBFA;\n",
              "      box-shadow: 0px 1px 2px rgba(60, 64, 67, 0.3), 0px 1px 3px 1px rgba(60, 64, 67, 0.15);\n",
              "      fill: #174EA6;\n",
              "    }\n",
              "\n",
              "    [theme=dark] .colab-df-convert {\n",
              "      background-color: #3B4455;\n",
              "      fill: #D2E3FC;\n",
              "    }\n",
              "\n",
              "    [theme=dark] .colab-df-convert:hover {\n",
              "      background-color: #434B5C;\n",
              "      box-shadow: 0px 1px 3px 1px rgba(0, 0, 0, 0.15);\n",
              "      filter: drop-shadow(0px 1px 2px rgba(0, 0, 0, 0.3));\n",
              "      fill: #FFFFFF;\n",
              "    }\n",
              "  </style>\n",
              "\n",
              "      <script>\n",
              "        const buttonEl =\n",
              "          document.querySelector('#df-c0ac09c6-5df2-4015-9cd4-be1979b83532 button.colab-df-convert');\n",
              "        buttonEl.style.display =\n",
              "          google.colab.kernel.accessAllowed ? 'block' : 'none';\n",
              "\n",
              "        async function convertToInteractive(key) {\n",
              "          const element = document.querySelector('#df-c0ac09c6-5df2-4015-9cd4-be1979b83532');\n",
              "          const dataTable =\n",
              "            await google.colab.kernel.invokeFunction('convertToInteractive',\n",
              "                                                     [key], {});\n",
              "          if (!dataTable) return;\n",
              "\n",
              "          const docLinkHtml = 'Like what you see? Visit the ' +\n",
              "            '<a target=\"_blank\" href=https://colab.research.google.com/notebooks/data_table.ipynb>data table notebook</a>'\n",
              "            + ' to learn more about interactive tables.';\n",
              "          element.innerHTML = '';\n",
              "          dataTable['output_type'] = 'display_data';\n",
              "          await google.colab.output.renderOutput(dataTable, element);\n",
              "          const docLink = document.createElement('div');\n",
              "          docLink.innerHTML = docLinkHtml;\n",
              "          element.appendChild(docLink);\n",
              "        }\n",
              "      </script>\n",
              "    </div>\n",
              "  </div>\n",
              "  "
            ],
            "text/plain": [
              "    DATE  ...                            DESCRIPTION\n",
              "5   2020  ...            Face mask (physical object)\n",
              "15  2020  ...            Face mask (physical object)\n",
              "16  2020  ...  Medication Reconciliation (procedure)\n",
              "26  2020  ...  Medication Reconciliation (procedure)\n",
              "54  2020  ...            Face mask (physical object)\n",
              "\n",
              "[5 rows x 5 columns]"
            ]
          },
          "metadata": {},
          "execution_count": 117
        }
      ]
    },
    {
      "cell_type": "code",
      "source": [
        "# Erstellung einer Tabelle vor Corona\n",
        "pre_covid_procedures = df_procedures[df_procedures[\"DATE\"] < \"2020\"]\n",
        "pre_covid_procedures.head()"
      ],
      "metadata": {
        "colab": {
          "base_uri": "https://localhost:8080/",
          "height": 337
        },
        "id": "tE3S7npSeIH1",
        "outputId": "f7b1b7b2-a799-48a1-a07f-0dc105d6176c"
      },
      "execution_count": 118,
      "outputs": [
        {
          "output_type": "execute_result",
          "data": {
            "text/html": [
              "\n",
              "  <div id=\"df-258a2561-4e50-4961-b052-45d59df23b14\">\n",
              "    <div class=\"colab-df-container\">\n",
              "      <div>\n",
              "<style scoped>\n",
              "    .dataframe tbody tr th:only-of-type {\n",
              "        vertical-align: middle;\n",
              "    }\n",
              "\n",
              "    .dataframe tbody tr th {\n",
              "        vertical-align: top;\n",
              "    }\n",
              "\n",
              "    .dataframe thead th {\n",
              "        text-align: right;\n",
              "    }\n",
              "</style>\n",
              "<table border=\"1\" class=\"dataframe\">\n",
              "  <thead>\n",
              "    <tr style=\"text-align: right;\">\n",
              "      <th></th>\n",
              "      <th>DATE</th>\n",
              "      <th>PATIENT_ID</th>\n",
              "      <th>ENCOUNTER_ID</th>\n",
              "      <th>CODE</th>\n",
              "      <th>DESCRIPTION</th>\n",
              "    </tr>\n",
              "  </thead>\n",
              "  <tbody>\n",
              "    <tr>\n",
              "      <th>0</th>\n",
              "      <td>2012</td>\n",
              "      <td>3575b903-dbd0-1d55-6146-9e8aa4ed52a5</td>\n",
              "      <td>f222d3d6-d9f0-3586-70d4-69a77f16b58c</td>\n",
              "      <td>73761001</td>\n",
              "      <td>Colonoscopy</td>\n",
              "    </tr>\n",
              "    <tr>\n",
              "      <th>1</th>\n",
              "      <td>2015</td>\n",
              "      <td>3575b903-dbd0-1d55-6146-9e8aa4ed52a5</td>\n",
              "      <td>c57b93a2-0302-4965-9e2c-713b84e7c24b</td>\n",
              "      <td>430193006</td>\n",
              "      <td>Medication Reconciliation (procedure)</td>\n",
              "    </tr>\n",
              "    <tr>\n",
              "      <th>2</th>\n",
              "      <td>2017</td>\n",
              "      <td>3575b903-dbd0-1d55-6146-9e8aa4ed52a5</td>\n",
              "      <td>11306017-08e3-1375-fc44-1265a8114949</td>\n",
              "      <td>73761001</td>\n",
              "      <td>Colonoscopy</td>\n",
              "    </tr>\n",
              "    <tr>\n",
              "      <th>3</th>\n",
              "      <td>2019</td>\n",
              "      <td>3575b903-dbd0-1d55-6146-9e8aa4ed52a5</td>\n",
              "      <td>cd0f83e5-1e70-75ec-1be9-b254e2589e49</td>\n",
              "      <td>23426006</td>\n",
              "      <td>Measurement of respiratory function (procedure)</td>\n",
              "    </tr>\n",
              "    <tr>\n",
              "      <th>4</th>\n",
              "      <td>2019</td>\n",
              "      <td>3575b903-dbd0-1d55-6146-9e8aa4ed52a5</td>\n",
              "      <td>bdeb0bc4-50bc-5aaa-ab7f-e43535a01bbe</td>\n",
              "      <td>430193006</td>\n",
              "      <td>Medication Reconciliation (procedure)</td>\n",
              "    </tr>\n",
              "  </tbody>\n",
              "</table>\n",
              "</div>\n",
              "      <button class=\"colab-df-convert\" onclick=\"convertToInteractive('df-258a2561-4e50-4961-b052-45d59df23b14')\"\n",
              "              title=\"Convert this dataframe to an interactive table.\"\n",
              "              style=\"display:none;\">\n",
              "        \n",
              "  <svg xmlns=\"http://www.w3.org/2000/svg\" height=\"24px\"viewBox=\"0 0 24 24\"\n",
              "       width=\"24px\">\n",
              "    <path d=\"M0 0h24v24H0V0z\" fill=\"none\"/>\n",
              "    <path d=\"M18.56 5.44l.94 2.06.94-2.06 2.06-.94-2.06-.94-.94-2.06-.94 2.06-2.06.94zm-11 1L8.5 8.5l.94-2.06 2.06-.94-2.06-.94L8.5 2.5l-.94 2.06-2.06.94zm10 10l.94 2.06.94-2.06 2.06-.94-2.06-.94-.94-2.06-.94 2.06-2.06.94z\"/><path d=\"M17.41 7.96l-1.37-1.37c-.4-.4-.92-.59-1.43-.59-.52 0-1.04.2-1.43.59L10.3 9.45l-7.72 7.72c-.78.78-.78 2.05 0 2.83L4 21.41c.39.39.9.59 1.41.59.51 0 1.02-.2 1.41-.59l7.78-7.78 2.81-2.81c.8-.78.8-2.07 0-2.86zM5.41 20L4 18.59l7.72-7.72 1.47 1.35L5.41 20z\"/>\n",
              "  </svg>\n",
              "      </button>\n",
              "      \n",
              "  <style>\n",
              "    .colab-df-container {\n",
              "      display:flex;\n",
              "      flex-wrap:wrap;\n",
              "      gap: 12px;\n",
              "    }\n",
              "\n",
              "    .colab-df-convert {\n",
              "      background-color: #E8F0FE;\n",
              "      border: none;\n",
              "      border-radius: 50%;\n",
              "      cursor: pointer;\n",
              "      display: none;\n",
              "      fill: #1967D2;\n",
              "      height: 32px;\n",
              "      padding: 0 0 0 0;\n",
              "      width: 32px;\n",
              "    }\n",
              "\n",
              "    .colab-df-convert:hover {\n",
              "      background-color: #E2EBFA;\n",
              "      box-shadow: 0px 1px 2px rgba(60, 64, 67, 0.3), 0px 1px 3px 1px rgba(60, 64, 67, 0.15);\n",
              "      fill: #174EA6;\n",
              "    }\n",
              "\n",
              "    [theme=dark] .colab-df-convert {\n",
              "      background-color: #3B4455;\n",
              "      fill: #D2E3FC;\n",
              "    }\n",
              "\n",
              "    [theme=dark] .colab-df-convert:hover {\n",
              "      background-color: #434B5C;\n",
              "      box-shadow: 0px 1px 3px 1px rgba(0, 0, 0, 0.15);\n",
              "      filter: drop-shadow(0px 1px 2px rgba(0, 0, 0, 0.3));\n",
              "      fill: #FFFFFF;\n",
              "    }\n",
              "  </style>\n",
              "\n",
              "      <script>\n",
              "        const buttonEl =\n",
              "          document.querySelector('#df-258a2561-4e50-4961-b052-45d59df23b14 button.colab-df-convert');\n",
              "        buttonEl.style.display =\n",
              "          google.colab.kernel.accessAllowed ? 'block' : 'none';\n",
              "\n",
              "        async function convertToInteractive(key) {\n",
              "          const element = document.querySelector('#df-258a2561-4e50-4961-b052-45d59df23b14');\n",
              "          const dataTable =\n",
              "            await google.colab.kernel.invokeFunction('convertToInteractive',\n",
              "                                                     [key], {});\n",
              "          if (!dataTable) return;\n",
              "\n",
              "          const docLinkHtml = 'Like what you see? Visit the ' +\n",
              "            '<a target=\"_blank\" href=https://colab.research.google.com/notebooks/data_table.ipynb>data table notebook</a>'\n",
              "            + ' to learn more about interactive tables.';\n",
              "          element.innerHTML = '';\n",
              "          dataTable['output_type'] = 'display_data';\n",
              "          await google.colab.output.renderOutput(dataTable, element);\n",
              "          const docLink = document.createElement('div');\n",
              "          docLink.innerHTML = docLinkHtml;\n",
              "          element.appendChild(docLink);\n",
              "        }\n",
              "      </script>\n",
              "    </div>\n",
              "  </div>\n",
              "  "
            ],
            "text/plain": [
              "   DATE  ...                                      DESCRIPTION\n",
              "0  2012  ...                                      Colonoscopy\n",
              "1  2015  ...            Medication Reconciliation (procedure)\n",
              "2  2017  ...                                      Colonoscopy\n",
              "3  2019  ...  Measurement of respiratory function (procedure)\n",
              "4  2019  ...            Medication Reconciliation (procedure)\n",
              "\n",
              "[5 rows x 5 columns]"
            ]
          },
          "metadata": {},
          "execution_count": 118
        }
      ]
    },
    {
      "cell_type": "code",
      "source": [
        "# Anzahl der im Corona-Jahr behandelten Patienten\n",
        "covid_procedures.groupby([\"PATIENT_ID\"]).size()"
      ],
      "metadata": {
        "colab": {
          "base_uri": "https://localhost:8080/"
        },
        "id": "9JqReUXYfzOs",
        "outputId": "4ac73c9b-6061-4265-971e-d287d74a47db"
      },
      "execution_count": 119,
      "outputs": [
        {
          "output_type": "execute_result",
          "data": {
            "text/plain": [
              "PATIENT_ID\n",
              "0033cec2-67d3-39ec-b0f4-29f91a2918d6     1\n",
              "003c0d44-9dfc-ca91-6121-373a8e265bd4     1\n",
              "00680fcd-0ef2-99c5-f69d-59463206750f    26\n",
              "00edcb46-afd4-4687-c16a-f4e20dfc3e92     1\n",
              "00f4a426-4746-6513-1775-1e8650e2f6b5     1\n",
              "                                        ..\n",
              "ff2d586c-f770-a795-c9eb-0b0d39447e48     1\n",
              "ff5c1f25-14da-ba3a-51bb-c5735d406ea8     1\n",
              "ff9e749b-0abc-22f8-0d62-6912b87781b1     1\n",
              "ffd905f3-45fb-b2a7-7429-bf864ef29d81    21\n",
              "ffe52b9f-cdf1-d315-9286-e64d370edde4     1\n",
              "Length: 1219, dtype: int64"
            ]
          },
          "metadata": {},
          "execution_count": 119
        }
      ]
    },
    {
      "cell_type": "code",
      "source": [
        "# Anzahl der prä-COVID behandelten Patienten\n",
        "pre_covid_procedures.groupby([\"PATIENT_ID\"]).size()"
      ],
      "metadata": {
        "colab": {
          "base_uri": "https://localhost:8080/"
        },
        "id": "bVAiP3Bbf-w4",
        "outputId": "de487a43-ce8e-4ee6-f37a-48602047ccdc"
      },
      "execution_count": 120,
      "outputs": [
        {
          "output_type": "execute_result",
          "data": {
            "text/plain": [
              "PATIENT_ID\n",
              "003c0d44-9dfc-ca91-6121-373a8e265bd4     12\n",
              "00edcb46-afd4-4687-c16a-f4e20dfc3e92      1\n",
              "01518fe2-bd76-d1e9-a656-1e7eae35dd17      2\n",
              "01581211-2e47-027b-71a0-dcbf0f4e6622      2\n",
              "01a49388-c6c0-1d10-00ee-8360a11941e7      3\n",
              "                                       ... \n",
              "fda2e613-dd00-2f49-6e86-0c1e5c281658      2\n",
              "fe55dd2f-bc68-7056-1b29-1d4c4563d30b      9\n",
              "feb25ae2-c154-4c42-3276-bc6c1e337a6c      2\n",
              "ff5c1f25-14da-ba3a-51bb-c5735d406ea8    178\n",
              "ffd905f3-45fb-b2a7-7429-bf864ef29d81      7\n",
              "Length: 826, dtype: int64"
            ]
          },
          "metadata": {},
          "execution_count": 120
        }
      ]
    },
    {
      "cell_type": "code",
      "source": [
        "# Verteilung der durchgeführten Prozeduren im Corona-Jahr\n",
        "covid_procedures.groupby([\"DESCRIPTION\"]).size()"
      ],
      "metadata": {
        "colab": {
          "base_uri": "https://localhost:8080/"
        },
        "id": "kNU1Ft0_gM2Q",
        "outputId": "c410647e-fb55-4b25-d286-804ce6002294"
      },
      "execution_count": 121,
      "outputs": [
        {
          "output_type": "execute_result",
          "data": {
            "text/plain": [
              "DESCRIPTION\n",
              "Alpha-fetoprotein test                                 1\n",
              "Ankle X-ray                                            1\n",
              "Asthma screening                                       1\n",
              "Auscultation of the fetal heart                       10\n",
              "Bilateral tubal ligation                               1\n",
              "                                                      ..\n",
              "Urine culture                                          2\n",
              "Urine protein test                                     2\n",
              "Urine screening for glucose                            1\n",
              "Urine screening test for diabetes                      2\n",
              "Vaccination for diphtheria  pertussis  and tetanus     1\n",
              "Length: 84, dtype: int64"
            ]
          },
          "metadata": {},
          "execution_count": 121
        }
      ]
    },
    {
      "cell_type": "code",
      "source": [
        "# Verteilung der durchgeführten Prozeduren vor COVID\n",
        "pre_covid_procedures.groupby([\"DESCRIPTION\"]).size()"
      ],
      "metadata": {
        "colab": {
          "base_uri": "https://localhost:8080/"
        },
        "id": "muGAENRTgg4O",
        "outputId": "324acf8e-ce99-4dd5-d223-2ebcbd3bd908"
      },
      "execution_count": 122,
      "outputs": [
        {
          "output_type": "execute_result",
          "data": {
            "text/plain": [
              "DESCRIPTION\n",
              "Admission to burn unit                                 1\n",
              "Admission to long stay hospital                        1\n",
              "Admission to orthopedic department                     8\n",
              "Allergy screening test                                 6\n",
              "Alpha-fetoprotein test                                43\n",
              "                                                      ..\n",
              "Urine protein test                                    43\n",
              "Urine screening for glucose                           43\n",
              "Urine screening test for diabetes                     43\n",
              "Vaccination for diphtheria  pertussis  and tetanus    43\n",
              "X-ray or wrist                                         3\n",
              "Length: 130, dtype: int64"
            ]
          },
          "metadata": {},
          "execution_count": 122
        }
      ]
    },
    {
      "cell_type": "code",
      "source": [
        "# Count Procedures during COVID\n",
        "covid_procedures.count()"
      ],
      "metadata": {
        "colab": {
          "base_uri": "https://localhost:8080/"
        },
        "id": "70FamymTlv79",
        "outputId": "d3d15659-1103-427e-88ce-b568e5ffde76"
      },
      "execution_count": 138,
      "outputs": [
        {
          "output_type": "execute_result",
          "data": {
            "text/plain": [
              "DATE            4984\n",
              "PATIENT_ID      4984\n",
              "ENCOUNTER_ID    4984\n",
              "CODE            4984\n",
              "DESCRIPTION     4984\n",
              "dtype: int64"
            ]
          },
          "metadata": {},
          "execution_count": 138
        }
      ]
    },
    {
      "cell_type": "code",
      "source": [
        "# Count Procedures pre_COVID\n",
        "pre_covid_procedures.count()"
      ],
      "metadata": {
        "colab": {
          "base_uri": "https://localhost:8080/"
        },
        "id": "w-ZfQRVnm0kw",
        "outputId": "db72b39d-55b9-44b7-af6d-ff24472c43db"
      },
      "execution_count": 139,
      "outputs": [
        {
          "output_type": "execute_result",
          "data": {
            "text/plain": [
              "DATE            8586\n",
              "PATIENT_ID      8586\n",
              "ENCOUNTER_ID    8586\n",
              "CODE            8586\n",
              "DESCRIPTION     8586\n",
              "dtype: int64"
            ]
          },
          "metadata": {},
          "execution_count": 139
        }
      ]
    },
    {
      "cell_type": "code",
      "source": [
        "# Most often performed Procedures during COVID\n",
        "covid_procedures['DESCRIPTION'].value_counts()[:20]"
      ],
      "metadata": {
        "colab": {
          "base_uri": "https://localhost:8080/"
        },
        "id": "chT4nB_UnNqT",
        "outputId": "8e9f610a-b290-4a3b-e237-5b2957fe76eb"
      },
      "execution_count": 141,
      "outputs": [
        {
          "output_type": "execute_result",
          "data": {
            "text/plain": [
              "Oxygen administration by mask (procedure)                                              1544\n",
              "Placing subject in prone position (procedure)                                          1504\n",
              "Face mask (physical object)                                                             995\n",
              "Plain chest X-ray (procedure)                                                           163\n",
              "Controlled ventilation procedure and therapy  initiation and management (procedure)     152\n",
              "Electrical cardioversion                                                                144\n",
              "Hemodialysis (procedure)                                                                 63\n",
              "Colonoscopy                                                                              55\n",
              "Catheter ablation of tissue of heart                                                     44\n",
              "Medication Reconciliation (procedure)                                                    42\n",
              "Echocardiography (procedure)                                                             31\n",
              "Intramuscular injection                                                                  25\n",
              "Insertion of endotracheal tube (procedure)                                               23\n",
              "Percutaneous mechanical thrombectomy of portal vein using fluoroscopic guidance          21\n",
              "Evaluation of uterine fundal height                                                      10\n",
              "Auscultation of the fetal heart                                                          10\n",
              "Mammography (procedure)                                                                   9\n",
              "Rectal polypectomy                                                                        7\n",
              "Manual pelvic examination (procedure)                                                     7\n",
              "Cytopathology procedure  preparation of smear  genital source (procedure)                 7\n",
              "Name: DESCRIPTION, dtype: int64"
            ]
          },
          "metadata": {},
          "execution_count": 141
        }
      ]
    },
    {
      "cell_type": "code",
      "source": [
        "# Most often performed procedures pre-COVID\n",
        "pre_covid_procedures['DESCRIPTION'].value_counts()[:20]"
      ],
      "metadata": {
        "colab": {
          "base_uri": "https://localhost:8080/"
        },
        "id": "m8ekXDoSnnz_",
        "outputId": "8778a683-1549-4a2c-9546-6c2d050d0f06"
      },
      "execution_count": 162,
      "outputs": [
        {
          "output_type": "execute_result",
          "data": {
            "text/plain": [
              "Renal dialysis (procedure)                                                         1174\n",
              "Electrical cardioversion                                                           1131\n",
              "Medication Reconciliation (procedure)                                               702\n",
              "Colonoscopy                                                                         490\n",
              "Echocardiography (procedure)                                                        396\n",
              "Auscultation of the fetal heart                                                     387\n",
              "Evaluation of uterine fundal height                                                 387\n",
              "Catheter ablation of tissue of heart                                                379\n",
              "Intramuscular injection                                                             191\n",
              "Combined chemotherapy and radiation therapy (procedure)                             160\n",
              "Percutaneous mechanical thrombectomy of portal vein using fluoroscopic guidance     154\n",
              "Subcutaneous immunotherapy                                                          120\n",
              "Percutaneous coronary intervention                                                  114\n",
              "Coronary artery bypass grafting                                                     114\n",
              "Mammography (procedure)                                                             111\n",
              "Insertion of biventricular implantable cardioverter defibrillator                    95\n",
              "Rectal polypectomy                                                                   90\n",
              "Cytopathology procedure  preparation of smear  genital source (procedure)            87\n",
              "Manual pelvic examination (procedure)                                                87\n",
              "Hemoglobin / Hematocrit / Platelet count                                             86\n",
              "Name: DESCRIPTION, dtype: int64"
            ]
          },
          "metadata": {},
          "execution_count": 162
        }
      ]
    },
    {
      "cell_type": "markdown",
      "source": [
        "# Graphische Darstellung"
      ],
      "metadata": {
        "id": "LL3ZG4-ghCCb"
      }
    },
    {
      "cell_type": "code",
      "source": [
        "sns.countplot(x=\"DATE\", data=df_procedures)\n"
      ],
      "metadata": {
        "colab": {
          "base_uri": "https://localhost:8080/"
        },
        "id": "tbj9pv65tQ9O",
        "outputId": "05dc0ea3-e27b-417f-9310-6391c8dcea79"
      },
      "execution_count": 163,
      "outputs": [
        {
          "output_type": "execute_result",
          "data": {
            "text/plain": [
              "<matplotlib.axes._subplots.AxesSubplot at 0x7fb435fd2610>"
            ]
          },
          "metadata": {},
          "execution_count": 163
        }
      ]
    }
  ]
}