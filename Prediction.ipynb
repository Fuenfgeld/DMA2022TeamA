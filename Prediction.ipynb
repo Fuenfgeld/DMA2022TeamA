{
  "nbformat": 4,
  "nbformat_minor": 0,
  "metadata": {
    "colab": {
      "name": "Prediction.ipynb",
      "provenance": [],
      "collapsed_sections": [],
      "authorship_tag": "ABX9TyNV1qREMhIEI+M61IGryUd8",
      "include_colab_link": true
    },
    "kernelspec": {
      "name": "python3",
      "display_name": "Python 3"
    },
    "language_info": {
      "name": "python"
    }
  },
  "cells": [
    {
      "cell_type": "markdown",
      "metadata": {
        "id": "view-in-github",
        "colab_type": "text"
      },
      "source": [
        "<a href=\"https://colab.research.google.com/github/Fuenfgeld/DMA2022TeamA/blob/main/Prediction.ipynb\" target=\"_parent\"><img src=\"https://colab.research.google.com/assets/colab-badge.svg\" alt=\"Open In Colab\"/></a>"
      ]
    },
    {
      "cell_type": "code",
      "source": [
        "reset -f\n"
      ],
      "metadata": {
        "id": "z3uLOxi5T3Lf"
      },
      "execution_count": null,
      "outputs": []
    },
    {
      "cell_type": "markdown",
      "source": [
        ""
      ],
      "metadata": {
        "id": "4xSYbWQ6SghS"
      }
    },
    {
      "cell_type": "markdown",
      "source": [
        "**Import der Libraries und Verbindung mit Google Drive und Sqlite3**"
      ],
      "metadata": {
        "id": "ub_o6oKVSiR5"
      }
    },
    {
      "cell_type": "code",
      "source": [
        "import pandas as pd\n",
        "import sqlite3\n",
        "import seaborn as sns\n",
        "import matplotlib.pyplot as plt\n",
        "import numpy as np\n",
        "from pandas_profiling import ProfileReport"
      ],
      "metadata": {
        "id": "7JwqSZ_9MWwz"
      },
      "execution_count": 1,
      "outputs": []
    },
    {
      "cell_type": "code",
      "execution_count": 2,
      "metadata": {
        "colab": {
          "base_uri": "https://localhost:8080/"
        },
        "id": "2g8x1SBeMN2x",
        "outputId": "a043aa54-0e44-470d-8b85-4c456b60ddb8"
      },
      "outputs": [
        {
          "output_type": "stream",
          "name": "stdout",
          "text": [
            "Mounted at /content/drive\n"
          ]
        }
      ],
      "source": [
        "from google.colab import drive\n",
        "drive.mount('/content/drive')"
      ]
    },
    {
      "cell_type": "code",
      "source": [
        "def connect_to_db(db_file):\n",
        "    sqlite3_conn = None\n",
        "    try:\n",
        "        sqlite3_conn = sq.connect(db_file)\n",
        "        return sqlite3_conn\n",
        "\n",
        "    except Error as err:\n",
        "        print(err)\n",
        "\n",
        "        if sqlite3_conn is not None:\n",
        "            sqlite3_conn.close()\n",
        "  \n",
        "conn_dwh = sqlite3.connect('/content/drive/Shareddrives/Gruppe A/Datawarehouse.db')\n"
      ],
      "metadata": {
        "id": "GpUFJEdxMhAE"
      },
      "execution_count": 3,
      "outputs": []
    },
    {
      "cell_type": "markdown",
      "source": [
        "**Erstellen eines Ursprungsdataframes aus dem Datawarehouse**\n",
        "\n",
        "\n"
      ],
      "metadata": {
        "id": "yLed4SrfSxFU"
      }
    },
    {
      "cell_type": "code",
      "source": [
        "df = pd.read_sql_query(\"\"\"\n",
        "select t1.*, dimObservations.id as OBSERVATION_ID, dimObservations.code, dimObservations.description, dimObservations.value, dimObservations.units, dimObservations.date from dimObservations\n",
        "left JOIN\n",
        "(select Zentrum.observation_id, Zentrum.patient_id, dimPatients.dataset_origin from Zentrum, dimPatients where Zentrum.patient_id = dimPatients.id) t1\n",
        "on dimObservations.id = t1.observation_id\n",
        ";\"\"\", conn_dwh\n",
        "  )"
      ],
      "metadata": {
        "id": "TDSAQWcFNUJG"
      },
      "execution_count": 4,
      "outputs": []
    },
    {
      "cell_type": "code",
      "source": [
        "df.head(3)"
      ],
      "metadata": {
        "colab": {
          "base_uri": "https://localhost:8080/",
          "height": 143
        },
        "id": "nylVfXAxSTqp",
        "outputId": "be52d958-7fba-4379-e748-d673e7206f17"
      },
      "execution_count": 5,
      "outputs": [
        {
          "output_type": "execute_result",
          "data": {
            "text/html": [
              "\n",
              "  <div id=\"df-683428bc-ba5e-4883-bffb-81300f9557a1\">\n",
              "    <div class=\"colab-df-container\">\n",
              "      <div>\n",
              "<style scoped>\n",
              "    .dataframe tbody tr th:only-of-type {\n",
              "        vertical-align: middle;\n",
              "    }\n",
              "\n",
              "    .dataframe tbody tr th {\n",
              "        vertical-align: top;\n",
              "    }\n",
              "\n",
              "    .dataframe thead th {\n",
              "        text-align: right;\n",
              "    }\n",
              "</style>\n",
              "<table border=\"1\" class=\"dataframe\">\n",
              "  <thead>\n",
              "    <tr style=\"text-align: right;\">\n",
              "      <th></th>\n",
              "      <th>observation_id</th>\n",
              "      <th>patient_id</th>\n",
              "      <th>dataset_origin</th>\n",
              "      <th>OBSERVATION_ID</th>\n",
              "      <th>CODE</th>\n",
              "      <th>DESCRIPTION</th>\n",
              "      <th>VALUE</th>\n",
              "      <th>UNITS</th>\n",
              "      <th>DATE</th>\n",
              "    </tr>\n",
              "  </thead>\n",
              "  <tbody>\n",
              "    <tr>\n",
              "      <th>0</th>\n",
              "      <td>5</td>\n",
              "      <td>3575b903-dbd0-1d55-6146-9e8aa4ed52a5</td>\n",
              "      <td>allergy</td>\n",
              "      <td>5</td>\n",
              "      <td>8462-4</td>\n",
              "      <td>Diastolic Blood Pressure</td>\n",
              "      <td>82.0</td>\n",
              "      <td>mm[Hg]</td>\n",
              "      <td>2011-04-11T11:40:19Z</td>\n",
              "    </tr>\n",
              "    <tr>\n",
              "      <th>1</th>\n",
              "      <td>6</td>\n",
              "      <td>3575b903-dbd0-1d55-6146-9e8aa4ed52a5</td>\n",
              "      <td>allergy</td>\n",
              "      <td>6</td>\n",
              "      <td>8480-6</td>\n",
              "      <td>Systolic Blood Pressure</td>\n",
              "      <td>110.0</td>\n",
              "      <td>mm[Hg]</td>\n",
              "      <td>2011-04-11T11:40:19Z</td>\n",
              "    </tr>\n",
              "    <tr>\n",
              "      <th>2</th>\n",
              "      <td>7</td>\n",
              "      <td>3575b903-dbd0-1d55-6146-9e8aa4ed52a5</td>\n",
              "      <td>allergy</td>\n",
              "      <td>7</td>\n",
              "      <td>8867-4</td>\n",
              "      <td>Heart rate</td>\n",
              "      <td>65.0</td>\n",
              "      <td>/min</td>\n",
              "      <td>2011-04-11T11:40:19Z</td>\n",
              "    </tr>\n",
              "  </tbody>\n",
              "</table>\n",
              "</div>\n",
              "      <button class=\"colab-df-convert\" onclick=\"convertToInteractive('df-683428bc-ba5e-4883-bffb-81300f9557a1')\"\n",
              "              title=\"Convert this dataframe to an interactive table.\"\n",
              "              style=\"display:none;\">\n",
              "        \n",
              "  <svg xmlns=\"http://www.w3.org/2000/svg\" height=\"24px\"viewBox=\"0 0 24 24\"\n",
              "       width=\"24px\">\n",
              "    <path d=\"M0 0h24v24H0V0z\" fill=\"none\"/>\n",
              "    <path d=\"M18.56 5.44l.94 2.06.94-2.06 2.06-.94-2.06-.94-.94-2.06-.94 2.06-2.06.94zm-11 1L8.5 8.5l.94-2.06 2.06-.94-2.06-.94L8.5 2.5l-.94 2.06-2.06.94zm10 10l.94 2.06.94-2.06 2.06-.94-2.06-.94-.94-2.06-.94 2.06-2.06.94z\"/><path d=\"M17.41 7.96l-1.37-1.37c-.4-.4-.92-.59-1.43-.59-.52 0-1.04.2-1.43.59L10.3 9.45l-7.72 7.72c-.78.78-.78 2.05 0 2.83L4 21.41c.39.39.9.59 1.41.59.51 0 1.02-.2 1.41-.59l7.78-7.78 2.81-2.81c.8-.78.8-2.07 0-2.86zM5.41 20L4 18.59l7.72-7.72 1.47 1.35L5.41 20z\"/>\n",
              "  </svg>\n",
              "      </button>\n",
              "      \n",
              "  <style>\n",
              "    .colab-df-container {\n",
              "      display:flex;\n",
              "      flex-wrap:wrap;\n",
              "      gap: 12px;\n",
              "    }\n",
              "\n",
              "    .colab-df-convert {\n",
              "      background-color: #E8F0FE;\n",
              "      border: none;\n",
              "      border-radius: 50%;\n",
              "      cursor: pointer;\n",
              "      display: none;\n",
              "      fill: #1967D2;\n",
              "      height: 32px;\n",
              "      padding: 0 0 0 0;\n",
              "      width: 32px;\n",
              "    }\n",
              "\n",
              "    .colab-df-convert:hover {\n",
              "      background-color: #E2EBFA;\n",
              "      box-shadow: 0px 1px 2px rgba(60, 64, 67, 0.3), 0px 1px 3px 1px rgba(60, 64, 67, 0.15);\n",
              "      fill: #174EA6;\n",
              "    }\n",
              "\n",
              "    [theme=dark] .colab-df-convert {\n",
              "      background-color: #3B4455;\n",
              "      fill: #D2E3FC;\n",
              "    }\n",
              "\n",
              "    [theme=dark] .colab-df-convert:hover {\n",
              "      background-color: #434B5C;\n",
              "      box-shadow: 0px 1px 3px 1px rgba(0, 0, 0, 0.15);\n",
              "      filter: drop-shadow(0px 1px 2px rgba(0, 0, 0, 0.3));\n",
              "      fill: #FFFFFF;\n",
              "    }\n",
              "  </style>\n",
              "\n",
              "      <script>\n",
              "        const buttonEl =\n",
              "          document.querySelector('#df-683428bc-ba5e-4883-bffb-81300f9557a1 button.colab-df-convert');\n",
              "        buttonEl.style.display =\n",
              "          google.colab.kernel.accessAllowed ? 'block' : 'none';\n",
              "\n",
              "        async function convertToInteractive(key) {\n",
              "          const element = document.querySelector('#df-683428bc-ba5e-4883-bffb-81300f9557a1');\n",
              "          const dataTable =\n",
              "            await google.colab.kernel.invokeFunction('convertToInteractive',\n",
              "                                                     [key], {});\n",
              "          if (!dataTable) return;\n",
              "\n",
              "          const docLinkHtml = 'Like what you see? Visit the ' +\n",
              "            '<a target=\"_blank\" href=https://colab.research.google.com/notebooks/data_table.ipynb>data table notebook</a>'\n",
              "            + ' to learn more about interactive tables.';\n",
              "          element.innerHTML = '';\n",
              "          dataTable['output_type'] = 'display_data';\n",
              "          await google.colab.output.renderOutput(dataTable, element);\n",
              "          const docLink = document.createElement('div');\n",
              "          docLink.innerHTML = docLinkHtml;\n",
              "          element.appendChild(docLink);\n",
              "        }\n",
              "      </script>\n",
              "    </div>\n",
              "  </div>\n",
              "  "
            ],
            "text/plain": [
              "   observation_id  ...                  DATE\n",
              "0               5  ...  2011-04-11T11:40:19Z\n",
              "1               6  ...  2011-04-11T11:40:19Z\n",
              "2               7  ...  2011-04-11T11:40:19Z\n",
              "\n",
              "[3 rows x 9 columns]"
            ]
          },
          "metadata": {},
          "execution_count": 5
        }
      ]
    },
    {
      "cell_type": "code",
      "source": [
        "#Entfernen von Duplikaten\n",
        "df.drop_duplicates(keep=\"first\",inplace=True) \n",
        "print(\"Size of dataset after removing duplicated rows\", df.shape)"
      ],
      "metadata": {
        "colab": {
          "base_uri": "https://localhost:8080/"
        },
        "id": "KEwISJYtiZvX",
        "outputId": "5e81f45f-13b3-4714-9fbd-458031bbb852"
      },
      "execution_count": 6,
      "outputs": [
        {
          "output_type": "stream",
          "name": "stdout",
          "text": [
            "Size of dataset after removinf duplicated rows (35414, 9)\n"
          ]
        }
      ]
    },
    {
      "cell_type": "code",
      "source": [
        "# Übersicht \n",
        "df.nunique(axis=0)"
      ],
      "metadata": {
        "colab": {
          "base_uri": "https://localhost:8080/"
        },
        "id": "zulPUVVEiuKw",
        "outputId": "9712e642-8194-4a26-f59e-2be10cb16c3c"
      },
      "execution_count": 7,
      "outputs": [
        {
          "output_type": "execute_result",
          "data": {
            "text/plain": [
              "observation_id    35414\n",
              "patient_id         1051\n",
              "dataset_origin        3\n",
              "OBSERVATION_ID    35414\n",
              "CODE                 13\n",
              "DESCRIPTION          14\n",
              "VALUE              1903\n",
              "UNITS                 8\n",
              "DATE               5773\n",
              "dtype: int64"
            ]
          },
          "metadata": {},
          "execution_count": 7
        }
      ]
    },
    {
      "cell_type": "code",
      "source": [
        "#Ursprung der Daten\n",
        "df.groupby([\"dataset_origin\"]).size()"
      ],
      "metadata": {
        "colab": {
          "base_uri": "https://localhost:8080/"
        },
        "id": "9P-LDnejjd-c",
        "outputId": "01be7327-ddd8-429c-e64f-6b872787c068"
      },
      "execution_count": 8,
      "outputs": [
        {
          "output_type": "execute_result",
          "data": {
            "text/plain": [
              "dataset_origin\n",
              "allergy              10544\n",
              "colorectal_cancer      372\n",
              "covid19              24498\n",
              "dtype: int64"
            ]
          },
          "metadata": {},
          "execution_count": 8
        }
      ]
    },
    {
      "cell_type": "markdown",
      "source": [
        "**Erstellen eines Dataframes, der nur Angaben zu COVID-positiven Patienten enthält. Diese werden in einer zusätzlichen Spalte mit \"1\" bezeichnet**\n",
        "\n",
        "\n",
        "\n"
      ],
      "metadata": {
        "id": "UlN1kFPpTkkZ"
      }
    },
    {
      "cell_type": "code",
      "source": [
        "#Zunächst Selektion der positiven Testergebnisse\n",
        "dfpostest = df.loc[(df[\"CODE\"] == \"94531-1\") & (df[\"VALUE\"] == \"Detected (qualifier value)\")] \n",
        "dfpostest.head(3)\n",
        "\n"
      ],
      "metadata": {
        "id": "ifh3Tog6YiWP",
        "colab": {
          "base_uri": "https://localhost:8080/",
          "height": 206
        },
        "outputId": "a24e7409-7924-4dd6-9443-1e0035fcc850"
      },
      "execution_count": 9,
      "outputs": [
        {
          "output_type": "execute_result",
          "data": {
            "text/html": [
              "\n",
              "  <div id=\"df-c0289c9a-fefa-4365-8976-3d2f5e2f09e4\">\n",
              "    <div class=\"colab-df-container\">\n",
              "      <div>\n",
              "<style scoped>\n",
              "    .dataframe tbody tr th:only-of-type {\n",
              "        vertical-align: middle;\n",
              "    }\n",
              "\n",
              "    .dataframe tbody tr th {\n",
              "        vertical-align: top;\n",
              "    }\n",
              "\n",
              "    .dataframe thead th {\n",
              "        text-align: right;\n",
              "    }\n",
              "</style>\n",
              "<table border=\"1\" class=\"dataframe\">\n",
              "  <thead>\n",
              "    <tr style=\"text-align: right;\">\n",
              "      <th></th>\n",
              "      <th>observation_id</th>\n",
              "      <th>patient_id</th>\n",
              "      <th>dataset_origin</th>\n",
              "      <th>OBSERVATION_ID</th>\n",
              "      <th>CODE</th>\n",
              "      <th>DESCRIPTION</th>\n",
              "      <th>VALUE</th>\n",
              "      <th>UNITS</th>\n",
              "      <th>DATE</th>\n",
              "    </tr>\n",
              "  </thead>\n",
              "  <tbody>\n",
              "    <tr>\n",
              "      <th>52</th>\n",
              "      <td>140</td>\n",
              "      <td>3575b903-dbd0-1d55-6146-9e8aa4ed52a5</td>\n",
              "      <td>allergy</td>\n",
              "      <td>140</td>\n",
              "      <td>94531-1</td>\n",
              "      <td>SARS-CoV-2 RNA Pnl Resp NAA+probe</td>\n",
              "      <td>Detected (qualifier value)</td>\n",
              "      <td>None</td>\n",
              "      <td>2020-03-10T12:31:19Z</td>\n",
              "    </tr>\n",
              "    <tr>\n",
              "      <th>291</th>\n",
              "      <td>900</td>\n",
              "      <td>aff157cc-b6d3-412b-ccbe-bfd5fac1c2d5</td>\n",
              "      <td>allergy</td>\n",
              "      <td>900</td>\n",
              "      <td>94531-1</td>\n",
              "      <td>SARS-CoV-2 RNA Pnl Resp NAA+probe</td>\n",
              "      <td>Detected (qualifier value)</td>\n",
              "      <td>None</td>\n",
              "      <td>2020-03-07T02:02:18Z</td>\n",
              "    </tr>\n",
              "    <tr>\n",
              "      <th>343</th>\n",
              "      <td>1061</td>\n",
              "      <td>28124841-1cf3-2818-d4ee-8574fac23298</td>\n",
              "      <td>allergy</td>\n",
              "      <td>1061</td>\n",
              "      <td>94531-1</td>\n",
              "      <td>SARS-CoV-2 RNA Pnl Resp NAA+probe</td>\n",
              "      <td>Detected (qualifier value)</td>\n",
              "      <td>None</td>\n",
              "      <td>2020-02-28T00:30:05Z</td>\n",
              "    </tr>\n",
              "    <tr>\n",
              "      <th>1627</th>\n",
              "      <td>1377</td>\n",
              "      <td>27b0d72c-f2fb-7e25-38c0-7d5120ebbedf</td>\n",
              "      <td>allergy</td>\n",
              "      <td>1377</td>\n",
              "      <td>94531-1</td>\n",
              "      <td>SARS-CoV-2 RNA Pnl Resp NAA+probe</td>\n",
              "      <td>Detected (qualifier value)</td>\n",
              "      <td>None</td>\n",
              "      <td>2020-03-06T15:56:44Z</td>\n",
              "    </tr>\n",
              "    <tr>\n",
              "      <th>1679</th>\n",
              "      <td>1511</td>\n",
              "      <td>bdf7af8e-c765-1e02-dc9d-24b49ad290a3</td>\n",
              "      <td>allergy</td>\n",
              "      <td>1511</td>\n",
              "      <td>94531-1</td>\n",
              "      <td>SARS-CoV-2 RNA Pnl Resp NAA+probe</td>\n",
              "      <td>Detected (qualifier value)</td>\n",
              "      <td>None</td>\n",
              "      <td>2020-03-10T19:32:13Z</td>\n",
              "    </tr>\n",
              "  </tbody>\n",
              "</table>\n",
              "</div>\n",
              "      <button class=\"colab-df-convert\" onclick=\"convertToInteractive('df-c0289c9a-fefa-4365-8976-3d2f5e2f09e4')\"\n",
              "              title=\"Convert this dataframe to an interactive table.\"\n",
              "              style=\"display:none;\">\n",
              "        \n",
              "  <svg xmlns=\"http://www.w3.org/2000/svg\" height=\"24px\"viewBox=\"0 0 24 24\"\n",
              "       width=\"24px\">\n",
              "    <path d=\"M0 0h24v24H0V0z\" fill=\"none\"/>\n",
              "    <path d=\"M18.56 5.44l.94 2.06.94-2.06 2.06-.94-2.06-.94-.94-2.06-.94 2.06-2.06.94zm-11 1L8.5 8.5l.94-2.06 2.06-.94-2.06-.94L8.5 2.5l-.94 2.06-2.06.94zm10 10l.94 2.06.94-2.06 2.06-.94-2.06-.94-.94-2.06-.94 2.06-2.06.94z\"/><path d=\"M17.41 7.96l-1.37-1.37c-.4-.4-.92-.59-1.43-.59-.52 0-1.04.2-1.43.59L10.3 9.45l-7.72 7.72c-.78.78-.78 2.05 0 2.83L4 21.41c.39.39.9.59 1.41.59.51 0 1.02-.2 1.41-.59l7.78-7.78 2.81-2.81c.8-.78.8-2.07 0-2.86zM5.41 20L4 18.59l7.72-7.72 1.47 1.35L5.41 20z\"/>\n",
              "  </svg>\n",
              "      </button>\n",
              "      \n",
              "  <style>\n",
              "    .colab-df-container {\n",
              "      display:flex;\n",
              "      flex-wrap:wrap;\n",
              "      gap: 12px;\n",
              "    }\n",
              "\n",
              "    .colab-df-convert {\n",
              "      background-color: #E8F0FE;\n",
              "      border: none;\n",
              "      border-radius: 50%;\n",
              "      cursor: pointer;\n",
              "      display: none;\n",
              "      fill: #1967D2;\n",
              "      height: 32px;\n",
              "      padding: 0 0 0 0;\n",
              "      width: 32px;\n",
              "    }\n",
              "\n",
              "    .colab-df-convert:hover {\n",
              "      background-color: #E2EBFA;\n",
              "      box-shadow: 0px 1px 2px rgba(60, 64, 67, 0.3), 0px 1px 3px 1px rgba(60, 64, 67, 0.15);\n",
              "      fill: #174EA6;\n",
              "    }\n",
              "\n",
              "    [theme=dark] .colab-df-convert {\n",
              "      background-color: #3B4455;\n",
              "      fill: #D2E3FC;\n",
              "    }\n",
              "\n",
              "    [theme=dark] .colab-df-convert:hover {\n",
              "      background-color: #434B5C;\n",
              "      box-shadow: 0px 1px 3px 1px rgba(0, 0, 0, 0.15);\n",
              "      filter: drop-shadow(0px 1px 2px rgba(0, 0, 0, 0.3));\n",
              "      fill: #FFFFFF;\n",
              "    }\n",
              "  </style>\n",
              "\n",
              "      <script>\n",
              "        const buttonEl =\n",
              "          document.querySelector('#df-c0289c9a-fefa-4365-8976-3d2f5e2f09e4 button.colab-df-convert');\n",
              "        buttonEl.style.display =\n",
              "          google.colab.kernel.accessAllowed ? 'block' : 'none';\n",
              "\n",
              "        async function convertToInteractive(key) {\n",
              "          const element = document.querySelector('#df-c0289c9a-fefa-4365-8976-3d2f5e2f09e4');\n",
              "          const dataTable =\n",
              "            await google.colab.kernel.invokeFunction('convertToInteractive',\n",
              "                                                     [key], {});\n",
              "          if (!dataTable) return;\n",
              "\n",
              "          const docLinkHtml = 'Like what you see? Visit the ' +\n",
              "            '<a target=\"_blank\" href=https://colab.research.google.com/notebooks/data_table.ipynb>data table notebook</a>'\n",
              "            + ' to learn more about interactive tables.';\n",
              "          element.innerHTML = '';\n",
              "          dataTable['output_type'] = 'display_data';\n",
              "          await google.colab.output.renderOutput(dataTable, element);\n",
              "          const docLink = document.createElement('div');\n",
              "          docLink.innerHTML = docLinkHtml;\n",
              "          element.appendChild(docLink);\n",
              "        }\n",
              "      </script>\n",
              "    </div>\n",
              "  </div>\n",
              "  "
            ],
            "text/plain": [
              "      observation_id  ...                  DATE\n",
              "52               140  ...  2020-03-10T12:31:19Z\n",
              "291              900  ...  2020-03-07T02:02:18Z\n",
              "343             1061  ...  2020-02-28T00:30:05Z\n",
              "1627            1377  ...  2020-03-06T15:56:44Z\n",
              "1679            1511  ...  2020-03-10T19:32:13Z\n",
              "\n",
              "[5 rows x 9 columns]"
            ]
          },
          "metadata": {},
          "execution_count": 9
        }
      ]
    },
    {
      "cell_type": "code",
      "source": [
        "# Erstellen eines Dataframes mit allen Laborwerten der Patienten mit positivem Testergebnis\n",
        "dfpos = df.loc[((df.patient_id.isin(dfpostest['patient_id'])))]\n"
      ],
      "metadata": {
        "id": "NtdQsK-ZmhrW"
      },
      "execution_count": 11,
      "outputs": []
    },
    {
      "cell_type": "code",
      "source": [
        "# Löschen der Patienten mit COVID-Nebendiagnse aus dem ALLERGY-Dataset, da diese zahlreiche nicht mit der COVID-Infektion im Zusammenhang stehende (ältere) Laborparameter haben\n",
        "dfpos = dfpos.drop( dfpos[ dfpos['dataset_origin'] == \"allergy\" ].index)"
      ],
      "metadata": {
        "id": "q6ufJeLZmiMF"
      },
      "execution_count": 12,
      "outputs": []
    },
    {
      "cell_type": "code",
      "source": [
        "# Hinzufügen einer zusätzlichen Spalte mit dem Wert \"1\"\n",
        "dfpos['Covid'] = '1'\n",
        "dfpos.head(3)"
      ],
      "metadata": {
        "id": "YOT_7bLD3via",
        "colab": {
          "base_uri": "https://localhost:8080/",
          "height": 206
        },
        "outputId": "b02a4bca-8248-42b5-c53e-b7d4c14da343"
      },
      "execution_count": 13,
      "outputs": [
        {
          "output_type": "execute_result",
          "data": {
            "text/html": [
              "\n",
              "  <div id=\"df-9a89b014-2f5b-440e-875f-9ff670e983cd\">\n",
              "    <div class=\"colab-df-container\">\n",
              "      <div>\n",
              "<style scoped>\n",
              "    .dataframe tbody tr th:only-of-type {\n",
              "        vertical-align: middle;\n",
              "    }\n",
              "\n",
              "    .dataframe tbody tr th {\n",
              "        vertical-align: top;\n",
              "    }\n",
              "\n",
              "    .dataframe thead th {\n",
              "        text-align: right;\n",
              "    }\n",
              "</style>\n",
              "<table border=\"1\" class=\"dataframe\">\n",
              "  <thead>\n",
              "    <tr style=\"text-align: right;\">\n",
              "      <th></th>\n",
              "      <th>observation_id</th>\n",
              "      <th>patient_id</th>\n",
              "      <th>dataset_origin</th>\n",
              "      <th>OBSERVATION_ID</th>\n",
              "      <th>CODE</th>\n",
              "      <th>DESCRIPTION</th>\n",
              "      <th>VALUE</th>\n",
              "      <th>UNITS</th>\n",
              "      <th>DATE</th>\n",
              "      <th>Covid</th>\n",
              "    </tr>\n",
              "  </thead>\n",
              "  <tbody>\n",
              "    <tr>\n",
              "      <th>47886</th>\n",
              "      <td>143480</td>\n",
              "      <td>ad5525c0-fdab-94dc-018f-d7209c72bdef</td>\n",
              "      <td>covid19</td>\n",
              "      <td>143480</td>\n",
              "      <td>8310-5</td>\n",
              "      <td>Body temperature</td>\n",
              "      <td>41.4</td>\n",
              "      <td>Cel</td>\n",
              "      <td>2020-02-17T21:57:21Z</td>\n",
              "      <td>1</td>\n",
              "    </tr>\n",
              "    <tr>\n",
              "      <th>47888</th>\n",
              "      <td>143481</td>\n",
              "      <td>ad5525c0-fdab-94dc-018f-d7209c72bdef</td>\n",
              "      <td>covid19</td>\n",
              "      <td>143481</td>\n",
              "      <td>9279-1</td>\n",
              "      <td>Respiratory rate</td>\n",
              "      <td>21.4</td>\n",
              "      <td>/min</td>\n",
              "      <td>2020-02-17T21:57:21Z</td>\n",
              "      <td>1</td>\n",
              "    </tr>\n",
              "    <tr>\n",
              "      <th>47890</th>\n",
              "      <td>143482</td>\n",
              "      <td>ad5525c0-fdab-94dc-018f-d7209c72bdef</td>\n",
              "      <td>covid19</td>\n",
              "      <td>143482</td>\n",
              "      <td>8867-4</td>\n",
              "      <td>Heart rate</td>\n",
              "      <td>61.6</td>\n",
              "      <td>/min</td>\n",
              "      <td>2020-02-17T21:57:21Z</td>\n",
              "      <td>1</td>\n",
              "    </tr>\n",
              "    <tr>\n",
              "      <th>47892</th>\n",
              "      <td>143484</td>\n",
              "      <td>ad5525c0-fdab-94dc-018f-d7209c72bdef</td>\n",
              "      <td>covid19</td>\n",
              "      <td>143484</td>\n",
              "      <td>8462-4</td>\n",
              "      <td>Diastolic Blood Pressure</td>\n",
              "      <td>85.0</td>\n",
              "      <td>mm[Hg]</td>\n",
              "      <td>2020-02-17T21:57:21Z</td>\n",
              "      <td>1</td>\n",
              "    </tr>\n",
              "    <tr>\n",
              "      <th>47894</th>\n",
              "      <td>143485</td>\n",
              "      <td>ad5525c0-fdab-94dc-018f-d7209c72bdef</td>\n",
              "      <td>covid19</td>\n",
              "      <td>143485</td>\n",
              "      <td>8480-6</td>\n",
              "      <td>Systolic Blood Pressure</td>\n",
              "      <td>117.0</td>\n",
              "      <td>mm[Hg]</td>\n",
              "      <td>2020-02-17T21:57:21Z</td>\n",
              "      <td>1</td>\n",
              "    </tr>\n",
              "  </tbody>\n",
              "</table>\n",
              "</div>\n",
              "      <button class=\"colab-df-convert\" onclick=\"convertToInteractive('df-9a89b014-2f5b-440e-875f-9ff670e983cd')\"\n",
              "              title=\"Convert this dataframe to an interactive table.\"\n",
              "              style=\"display:none;\">\n",
              "        \n",
              "  <svg xmlns=\"http://www.w3.org/2000/svg\" height=\"24px\"viewBox=\"0 0 24 24\"\n",
              "       width=\"24px\">\n",
              "    <path d=\"M0 0h24v24H0V0z\" fill=\"none\"/>\n",
              "    <path d=\"M18.56 5.44l.94 2.06.94-2.06 2.06-.94-2.06-.94-.94-2.06-.94 2.06-2.06.94zm-11 1L8.5 8.5l.94-2.06 2.06-.94-2.06-.94L8.5 2.5l-.94 2.06-2.06.94zm10 10l.94 2.06.94-2.06 2.06-.94-2.06-.94-.94-2.06-.94 2.06-2.06.94z\"/><path d=\"M17.41 7.96l-1.37-1.37c-.4-.4-.92-.59-1.43-.59-.52 0-1.04.2-1.43.59L10.3 9.45l-7.72 7.72c-.78.78-.78 2.05 0 2.83L4 21.41c.39.39.9.59 1.41.59.51 0 1.02-.2 1.41-.59l7.78-7.78 2.81-2.81c.8-.78.8-2.07 0-2.86zM5.41 20L4 18.59l7.72-7.72 1.47 1.35L5.41 20z\"/>\n",
              "  </svg>\n",
              "      </button>\n",
              "      \n",
              "  <style>\n",
              "    .colab-df-container {\n",
              "      display:flex;\n",
              "      flex-wrap:wrap;\n",
              "      gap: 12px;\n",
              "    }\n",
              "\n",
              "    .colab-df-convert {\n",
              "      background-color: #E8F0FE;\n",
              "      border: none;\n",
              "      border-radius: 50%;\n",
              "      cursor: pointer;\n",
              "      display: none;\n",
              "      fill: #1967D2;\n",
              "      height: 32px;\n",
              "      padding: 0 0 0 0;\n",
              "      width: 32px;\n",
              "    }\n",
              "\n",
              "    .colab-df-convert:hover {\n",
              "      background-color: #E2EBFA;\n",
              "      box-shadow: 0px 1px 2px rgba(60, 64, 67, 0.3), 0px 1px 3px 1px rgba(60, 64, 67, 0.15);\n",
              "      fill: #174EA6;\n",
              "    }\n",
              "\n",
              "    [theme=dark] .colab-df-convert {\n",
              "      background-color: #3B4455;\n",
              "      fill: #D2E3FC;\n",
              "    }\n",
              "\n",
              "    [theme=dark] .colab-df-convert:hover {\n",
              "      background-color: #434B5C;\n",
              "      box-shadow: 0px 1px 3px 1px rgba(0, 0, 0, 0.15);\n",
              "      filter: drop-shadow(0px 1px 2px rgba(0, 0, 0, 0.3));\n",
              "      fill: #FFFFFF;\n",
              "    }\n",
              "  </style>\n",
              "\n",
              "      <script>\n",
              "        const buttonEl =\n",
              "          document.querySelector('#df-9a89b014-2f5b-440e-875f-9ff670e983cd button.colab-df-convert');\n",
              "        buttonEl.style.display =\n",
              "          google.colab.kernel.accessAllowed ? 'block' : 'none';\n",
              "\n",
              "        async function convertToInteractive(key) {\n",
              "          const element = document.querySelector('#df-9a89b014-2f5b-440e-875f-9ff670e983cd');\n",
              "          const dataTable =\n",
              "            await google.colab.kernel.invokeFunction('convertToInteractive',\n",
              "                                                     [key], {});\n",
              "          if (!dataTable) return;\n",
              "\n",
              "          const docLinkHtml = 'Like what you see? Visit the ' +\n",
              "            '<a target=\"_blank\" href=https://colab.research.google.com/notebooks/data_table.ipynb>data table notebook</a>'\n",
              "            + ' to learn more about interactive tables.';\n",
              "          element.innerHTML = '';\n",
              "          dataTable['output_type'] = 'display_data';\n",
              "          await google.colab.output.renderOutput(dataTable, element);\n",
              "          const docLink = document.createElement('div');\n",
              "          docLink.innerHTML = docLinkHtml;\n",
              "          element.appendChild(docLink);\n",
              "        }\n",
              "      </script>\n",
              "    </div>\n",
              "  </div>\n",
              "  "
            ],
            "text/plain": [
              "       observation_id  ... Covid\n",
              "47886          143480  ...     1\n",
              "47888          143481  ...     1\n",
              "47890          143482  ...     1\n",
              "47892          143484  ...     1\n",
              "47894          143485  ...     1\n",
              "\n",
              "[5 rows x 10 columns]"
            ]
          },
          "metadata": {},
          "execution_count": 13
        }
      ]
    },
    {
      "cell_type": "code",
      "source": [
        "#Übersicht der Covid-Kohorte\n",
        "dfpos.nunique(axis=0)"
      ],
      "metadata": {
        "colab": {
          "base_uri": "https://localhost:8080/"
        },
        "id": "_GSisq8F17dM",
        "outputId": "c2b79e1f-359b-46d3-dc07-088b4f1c114e"
      },
      "execution_count": 14,
      "outputs": [
        {
          "output_type": "execute_result",
          "data": {
            "text/plain": [
              "observation_id    24258\n",
              "patient_id          865\n",
              "dataset_origin        1\n",
              "OBSERVATION_ID    24258\n",
              "CODE                 13\n",
              "DESCRIPTION          13\n",
              "VALUE              1861\n",
              "UNITS                 7\n",
              "DATE               3481\n",
              "Covid                 1\n",
              "dtype: int64"
            ]
          },
          "metadata": {},
          "execution_count": 14
        }
      ]
    },
    {
      "cell_type": "markdown",
      "source": [
        "**Erstellen eines Dataframes, der nur die Patienten der Kontrollgruppe beinhaltet. Diese werden in einer zusätzlichen Spalte mit \"0\" bezeichnet**"
      ],
      "metadata": {
        "id": "fHjPeFpwWlHS"
      }
    },
    {
      "cell_type": "code",
      "source": [
        "#Selektion der Laborparameter von Patienten ohne positiven COVID-Test aus dem Ursprungsdataframe\n",
        "dfneg = df.loc[~((df.patient_id.isin(dfpostest['patient_id'])))]\n",
        "dfneg.head(3)"
      ],
      "metadata": {
        "id": "T7rER-FLbXKb",
        "colab": {
          "base_uri": "https://localhost:8080/",
          "height": 206
        },
        "outputId": "d09146d0-9bbd-4a43-c37c-2c56fecec815"
      },
      "execution_count": 15,
      "outputs": [
        {
          "output_type": "execute_result",
          "data": {
            "text/html": [
              "\n",
              "  <div id=\"df-13590ba0-d1e6-4f46-8311-ab6948cf7c61\">\n",
              "    <div class=\"colab-df-container\">\n",
              "      <div>\n",
              "<style scoped>\n",
              "    .dataframe tbody tr th:only-of-type {\n",
              "        vertical-align: middle;\n",
              "    }\n",
              "\n",
              "    .dataframe tbody tr th {\n",
              "        vertical-align: top;\n",
              "    }\n",
              "\n",
              "    .dataframe thead th {\n",
              "        text-align: right;\n",
              "    }\n",
              "</style>\n",
              "<table border=\"1\" class=\"dataframe\">\n",
              "  <thead>\n",
              "    <tr style=\"text-align: right;\">\n",
              "      <th></th>\n",
              "      <th>observation_id</th>\n",
              "      <th>patient_id</th>\n",
              "      <th>dataset_origin</th>\n",
              "      <th>OBSERVATION_ID</th>\n",
              "      <th>CODE</th>\n",
              "      <th>DESCRIPTION</th>\n",
              "      <th>VALUE</th>\n",
              "      <th>UNITS</th>\n",
              "      <th>DATE</th>\n",
              "    </tr>\n",
              "  </thead>\n",
              "  <tbody>\n",
              "    <tr>\n",
              "      <th>70</th>\n",
              "      <td>192</td>\n",
              "      <td>17f0c6d9-8931-8839-66cb-3ca6fb066d3e</td>\n",
              "      <td>allergy</td>\n",
              "      <td>192</td>\n",
              "      <td>8462-4</td>\n",
              "      <td>Diastolic Blood Pressure</td>\n",
              "      <td>78.0</td>\n",
              "      <td>mm[Hg]</td>\n",
              "      <td>2011-06-12T16:56:37Z</td>\n",
              "    </tr>\n",
              "    <tr>\n",
              "      <th>71</th>\n",
              "      <td>193</td>\n",
              "      <td>17f0c6d9-8931-8839-66cb-3ca6fb066d3e</td>\n",
              "      <td>allergy</td>\n",
              "      <td>193</td>\n",
              "      <td>8480-6</td>\n",
              "      <td>Systolic Blood Pressure</td>\n",
              "      <td>115.0</td>\n",
              "      <td>mm[Hg]</td>\n",
              "      <td>2011-06-12T16:56:37Z</td>\n",
              "    </tr>\n",
              "    <tr>\n",
              "      <th>72</th>\n",
              "      <td>194</td>\n",
              "      <td>17f0c6d9-8931-8839-66cb-3ca6fb066d3e</td>\n",
              "      <td>allergy</td>\n",
              "      <td>194</td>\n",
              "      <td>8867-4</td>\n",
              "      <td>Heart rate</td>\n",
              "      <td>77.0</td>\n",
              "      <td>/min</td>\n",
              "      <td>2011-06-12T16:56:37Z</td>\n",
              "    </tr>\n",
              "    <tr>\n",
              "      <th>73</th>\n",
              "      <td>195</td>\n",
              "      <td>17f0c6d9-8931-8839-66cb-3ca6fb066d3e</td>\n",
              "      <td>allergy</td>\n",
              "      <td>195</td>\n",
              "      <td>9279-1</td>\n",
              "      <td>Respiratory rate</td>\n",
              "      <td>14.0</td>\n",
              "      <td>/min</td>\n",
              "      <td>2011-06-12T16:56:37Z</td>\n",
              "    </tr>\n",
              "    <tr>\n",
              "      <th>74</th>\n",
              "      <td>212</td>\n",
              "      <td>17f0c6d9-8931-8839-66cb-3ca6fb066d3e</td>\n",
              "      <td>allergy</td>\n",
              "      <td>212</td>\n",
              "      <td>8462-4</td>\n",
              "      <td>Diastolic Blood Pressure</td>\n",
              "      <td>73.0</td>\n",
              "      <td>mm[Hg]</td>\n",
              "      <td>2012-06-17T16:56:37Z</td>\n",
              "    </tr>\n",
              "  </tbody>\n",
              "</table>\n",
              "</div>\n",
              "      <button class=\"colab-df-convert\" onclick=\"convertToInteractive('df-13590ba0-d1e6-4f46-8311-ab6948cf7c61')\"\n",
              "              title=\"Convert this dataframe to an interactive table.\"\n",
              "              style=\"display:none;\">\n",
              "        \n",
              "  <svg xmlns=\"http://www.w3.org/2000/svg\" height=\"24px\"viewBox=\"0 0 24 24\"\n",
              "       width=\"24px\">\n",
              "    <path d=\"M0 0h24v24H0V0z\" fill=\"none\"/>\n",
              "    <path d=\"M18.56 5.44l.94 2.06.94-2.06 2.06-.94-2.06-.94-.94-2.06-.94 2.06-2.06.94zm-11 1L8.5 8.5l.94-2.06 2.06-.94-2.06-.94L8.5 2.5l-.94 2.06-2.06.94zm10 10l.94 2.06.94-2.06 2.06-.94-2.06-.94-.94-2.06-.94 2.06-2.06.94z\"/><path d=\"M17.41 7.96l-1.37-1.37c-.4-.4-.92-.59-1.43-.59-.52 0-1.04.2-1.43.59L10.3 9.45l-7.72 7.72c-.78.78-.78 2.05 0 2.83L4 21.41c.39.39.9.59 1.41.59.51 0 1.02-.2 1.41-.59l7.78-7.78 2.81-2.81c.8-.78.8-2.07 0-2.86zM5.41 20L4 18.59l7.72-7.72 1.47 1.35L5.41 20z\"/>\n",
              "  </svg>\n",
              "      </button>\n",
              "      \n",
              "  <style>\n",
              "    .colab-df-container {\n",
              "      display:flex;\n",
              "      flex-wrap:wrap;\n",
              "      gap: 12px;\n",
              "    }\n",
              "\n",
              "    .colab-df-convert {\n",
              "      background-color: #E8F0FE;\n",
              "      border: none;\n",
              "      border-radius: 50%;\n",
              "      cursor: pointer;\n",
              "      display: none;\n",
              "      fill: #1967D2;\n",
              "      height: 32px;\n",
              "      padding: 0 0 0 0;\n",
              "      width: 32px;\n",
              "    }\n",
              "\n",
              "    .colab-df-convert:hover {\n",
              "      background-color: #E2EBFA;\n",
              "      box-shadow: 0px 1px 2px rgba(60, 64, 67, 0.3), 0px 1px 3px 1px rgba(60, 64, 67, 0.15);\n",
              "      fill: #174EA6;\n",
              "    }\n",
              "\n",
              "    [theme=dark] .colab-df-convert {\n",
              "      background-color: #3B4455;\n",
              "      fill: #D2E3FC;\n",
              "    }\n",
              "\n",
              "    [theme=dark] .colab-df-convert:hover {\n",
              "      background-color: #434B5C;\n",
              "      box-shadow: 0px 1px 3px 1px rgba(0, 0, 0, 0.15);\n",
              "      filter: drop-shadow(0px 1px 2px rgba(0, 0, 0, 0.3));\n",
              "      fill: #FFFFFF;\n",
              "    }\n",
              "  </style>\n",
              "\n",
              "      <script>\n",
              "        const buttonEl =\n",
              "          document.querySelector('#df-13590ba0-d1e6-4f46-8311-ab6948cf7c61 button.colab-df-convert');\n",
              "        buttonEl.style.display =\n",
              "          google.colab.kernel.accessAllowed ? 'block' : 'none';\n",
              "\n",
              "        async function convertToInteractive(key) {\n",
              "          const element = document.querySelector('#df-13590ba0-d1e6-4f46-8311-ab6948cf7c61');\n",
              "          const dataTable =\n",
              "            await google.colab.kernel.invokeFunction('convertToInteractive',\n",
              "                                                     [key], {});\n",
              "          if (!dataTable) return;\n",
              "\n",
              "          const docLinkHtml = 'Like what you see? Visit the ' +\n",
              "            '<a target=\"_blank\" href=https://colab.research.google.com/notebooks/data_table.ipynb>data table notebook</a>'\n",
              "            + ' to learn more about interactive tables.';\n",
              "          element.innerHTML = '';\n",
              "          dataTable['output_type'] = 'display_data';\n",
              "          await google.colab.output.renderOutput(dataTable, element);\n",
              "          const docLink = document.createElement('div');\n",
              "          docLink.innerHTML = docLinkHtml;\n",
              "          element.appendChild(docLink);\n",
              "        }\n",
              "      </script>\n",
              "    </div>\n",
              "  </div>\n",
              "  "
            ],
            "text/plain": [
              "    observation_id  ...                  DATE\n",
              "70             192  ...  2011-06-12T16:56:37Z\n",
              "71             193  ...  2011-06-12T16:56:37Z\n",
              "72             194  ...  2011-06-12T16:56:37Z\n",
              "73             195  ...  2011-06-12T16:56:37Z\n",
              "74             212  ...  2012-06-17T16:56:37Z\n",
              "\n",
              "[5 rows x 9 columns]"
            ]
          },
          "metadata": {},
          "execution_count": 15
        }
      ]
    },
    {
      "cell_type": "code",
      "source": [
        "dfneg.shape"
      ],
      "metadata": {
        "colab": {
          "base_uri": "https://localhost:8080/"
        },
        "id": "We_V7jPMiltt",
        "outputId": "ff93cc4a-60aa-4c7f-cbd3-27362b92ebcb"
      },
      "execution_count": 16,
      "outputs": [
        {
          "output_type": "execute_result",
          "data": {
            "text/plain": [
              "(5361, 9)"
            ]
          },
          "metadata": {},
          "execution_count": 16
        }
      ]
    },
    {
      "cell_type": "code",
      "source": [
        "# Erstellen eines Dataframes von Patienten mit der Nebendiagnose Covid19 bzw. Verdacht auf Covid19\n",
        "dfNebendiag = pd.read_sql_query(\"\"\"\n",
        "select patient_id, CODE, DESCRIPTION from dimConditions where code in (\"840544004\",\"840539006\")\n",
        ";\"\"\", conn_dwh\n",
        "  )\n"
      ],
      "metadata": {
        "id": "cqKx9ptng5da"
      },
      "execution_count": 17,
      "outputs": []
    },
    {
      "cell_type": "code",
      "source": [
        "dfNebendiag.head(3)"
      ],
      "metadata": {
        "colab": {
          "base_uri": "https://localhost:8080/",
          "height": 206
        },
        "id": "7kearTEijYMj",
        "outputId": "e81788b6-23ae-4dcc-b402-217496804308"
      },
      "execution_count": 18,
      "outputs": [
        {
          "output_type": "execute_result",
          "data": {
            "text/html": [
              "\n",
              "  <div id=\"df-b9b9e9fa-cd36-457f-8226-87621f330a5d\">\n",
              "    <div class=\"colab-df-container\">\n",
              "      <div>\n",
              "<style scoped>\n",
              "    .dataframe tbody tr th:only-of-type {\n",
              "        vertical-align: middle;\n",
              "    }\n",
              "\n",
              "    .dataframe tbody tr th {\n",
              "        vertical-align: top;\n",
              "    }\n",
              "\n",
              "    .dataframe thead th {\n",
              "        text-align: right;\n",
              "    }\n",
              "</style>\n",
              "<table border=\"1\" class=\"dataframe\">\n",
              "  <thead>\n",
              "    <tr style=\"text-align: right;\">\n",
              "      <th></th>\n",
              "      <th>PATIENT_ID</th>\n",
              "      <th>CODE</th>\n",
              "      <th>DESCRIPTION</th>\n",
              "    </tr>\n",
              "  </thead>\n",
              "  <tbody>\n",
              "    <tr>\n",
              "      <th>0</th>\n",
              "      <td>3575b903-dbd0-1d55-6146-9e8aa4ed52a5</td>\n",
              "      <td>840544004</td>\n",
              "      <td>Suspected COVID-19</td>\n",
              "    </tr>\n",
              "    <tr>\n",
              "      <th>1</th>\n",
              "      <td>3575b903-dbd0-1d55-6146-9e8aa4ed52a5</td>\n",
              "      <td>840539006</td>\n",
              "      <td>COVID-19</td>\n",
              "    </tr>\n",
              "    <tr>\n",
              "      <th>2</th>\n",
              "      <td>17f0c6d9-8931-8839-66cb-3ca6fb066d3e</td>\n",
              "      <td>840544004</td>\n",
              "      <td>Suspected COVID-19</td>\n",
              "    </tr>\n",
              "    <tr>\n",
              "      <th>3</th>\n",
              "      <td>aff157cc-b6d3-412b-ccbe-bfd5fac1c2d5</td>\n",
              "      <td>840544004</td>\n",
              "      <td>Suspected COVID-19</td>\n",
              "    </tr>\n",
              "    <tr>\n",
              "      <th>4</th>\n",
              "      <td>aff157cc-b6d3-412b-ccbe-bfd5fac1c2d5</td>\n",
              "      <td>840539006</td>\n",
              "      <td>COVID-19</td>\n",
              "    </tr>\n",
              "  </tbody>\n",
              "</table>\n",
              "</div>\n",
              "      <button class=\"colab-df-convert\" onclick=\"convertToInteractive('df-b9b9e9fa-cd36-457f-8226-87621f330a5d')\"\n",
              "              title=\"Convert this dataframe to an interactive table.\"\n",
              "              style=\"display:none;\">\n",
              "        \n",
              "  <svg xmlns=\"http://www.w3.org/2000/svg\" height=\"24px\"viewBox=\"0 0 24 24\"\n",
              "       width=\"24px\">\n",
              "    <path d=\"M0 0h24v24H0V0z\" fill=\"none\"/>\n",
              "    <path d=\"M18.56 5.44l.94 2.06.94-2.06 2.06-.94-2.06-.94-.94-2.06-.94 2.06-2.06.94zm-11 1L8.5 8.5l.94-2.06 2.06-.94-2.06-.94L8.5 2.5l-.94 2.06-2.06.94zm10 10l.94 2.06.94-2.06 2.06-.94-2.06-.94-.94-2.06-.94 2.06-2.06.94z\"/><path d=\"M17.41 7.96l-1.37-1.37c-.4-.4-.92-.59-1.43-.59-.52 0-1.04.2-1.43.59L10.3 9.45l-7.72 7.72c-.78.78-.78 2.05 0 2.83L4 21.41c.39.39.9.59 1.41.59.51 0 1.02-.2 1.41-.59l7.78-7.78 2.81-2.81c.8-.78.8-2.07 0-2.86zM5.41 20L4 18.59l7.72-7.72 1.47 1.35L5.41 20z\"/>\n",
              "  </svg>\n",
              "      </button>\n",
              "      \n",
              "  <style>\n",
              "    .colab-df-container {\n",
              "      display:flex;\n",
              "      flex-wrap:wrap;\n",
              "      gap: 12px;\n",
              "    }\n",
              "\n",
              "    .colab-df-convert {\n",
              "      background-color: #E8F0FE;\n",
              "      border: none;\n",
              "      border-radius: 50%;\n",
              "      cursor: pointer;\n",
              "      display: none;\n",
              "      fill: #1967D2;\n",
              "      height: 32px;\n",
              "      padding: 0 0 0 0;\n",
              "      width: 32px;\n",
              "    }\n",
              "\n",
              "    .colab-df-convert:hover {\n",
              "      background-color: #E2EBFA;\n",
              "      box-shadow: 0px 1px 2px rgba(60, 64, 67, 0.3), 0px 1px 3px 1px rgba(60, 64, 67, 0.15);\n",
              "      fill: #174EA6;\n",
              "    }\n",
              "\n",
              "    [theme=dark] .colab-df-convert {\n",
              "      background-color: #3B4455;\n",
              "      fill: #D2E3FC;\n",
              "    }\n",
              "\n",
              "    [theme=dark] .colab-df-convert:hover {\n",
              "      background-color: #434B5C;\n",
              "      box-shadow: 0px 1px 3px 1px rgba(0, 0, 0, 0.15);\n",
              "      filter: drop-shadow(0px 1px 2px rgba(0, 0, 0, 0.3));\n",
              "      fill: #FFFFFF;\n",
              "    }\n",
              "  </style>\n",
              "\n",
              "      <script>\n",
              "        const buttonEl =\n",
              "          document.querySelector('#df-b9b9e9fa-cd36-457f-8226-87621f330a5d button.colab-df-convert');\n",
              "        buttonEl.style.display =\n",
              "          google.colab.kernel.accessAllowed ? 'block' : 'none';\n",
              "\n",
              "        async function convertToInteractive(key) {\n",
              "          const element = document.querySelector('#df-b9b9e9fa-cd36-457f-8226-87621f330a5d');\n",
              "          const dataTable =\n",
              "            await google.colab.kernel.invokeFunction('convertToInteractive',\n",
              "                                                     [key], {});\n",
              "          if (!dataTable) return;\n",
              "\n",
              "          const docLinkHtml = 'Like what you see? Visit the ' +\n",
              "            '<a target=\"_blank\" href=https://colab.research.google.com/notebooks/data_table.ipynb>data table notebook</a>'\n",
              "            + ' to learn more about interactive tables.';\n",
              "          element.innerHTML = '';\n",
              "          dataTable['output_type'] = 'display_data';\n",
              "          await google.colab.output.renderOutput(dataTable, element);\n",
              "          const docLink = document.createElement('div');\n",
              "          docLink.innerHTML = docLinkHtml;\n",
              "          element.appendChild(docLink);\n",
              "        }\n",
              "      </script>\n",
              "    </div>\n",
              "  </div>\n",
              "  "
            ],
            "text/plain": [
              "                             PATIENT_ID       CODE         DESCRIPTION\n",
              "0  3575b903-dbd0-1d55-6146-9e8aa4ed52a5  840544004  Suspected COVID-19\n",
              "1  3575b903-dbd0-1d55-6146-9e8aa4ed52a5  840539006            COVID-19\n",
              "2  17f0c6d9-8931-8839-66cb-3ca6fb066d3e  840544004  Suspected COVID-19\n",
              "3  aff157cc-b6d3-412b-ccbe-bfd5fac1c2d5  840544004  Suspected COVID-19\n",
              "4  aff157cc-b6d3-412b-ccbe-bfd5fac1c2d5  840539006            COVID-19"
            ]
          },
          "metadata": {},
          "execution_count": 18
        }
      ]
    },
    {
      "cell_type": "code",
      "source": [
        "# Um Sicherzugehen, dass wirklich nur Covid-neg. Patienten in der Kontrollgruppe sind werden auch Patienten ohne Testergebnis aber mit Nebendiagnose Covid19 bzw. Verdacht auf Covid19 ausgeschlossen.\n",
        "dfneg = dfneg.loc[~((dfneg.patient_id.isin(dfNebendiag[\"PATIENT_ID\"])))]\n"
      ],
      "metadata": {
        "id": "zQ_QmlEbhtkD"
      },
      "execution_count": 19,
      "outputs": []
    },
    {
      "cell_type": "code",
      "source": [
        "# Hinzufügen Spalte mit Wert \"0\"\n",
        "dfneg['Covid'] = '0'\n",
        "dfneg.head(3)"
      ],
      "metadata": {
        "colab": {
          "base_uri": "https://localhost:8080/",
          "height": 143
        },
        "id": "QUt35DNdkezW",
        "outputId": "5bc824a2-10c5-44ec-f728-7d43a281f3ca"
      },
      "execution_count": 20,
      "outputs": [
        {
          "output_type": "execute_result",
          "data": {
            "text/html": [
              "\n",
              "  <div id=\"df-5ed9bfad-dcca-4787-aa5a-cefef6c506d7\">\n",
              "    <div class=\"colab-df-container\">\n",
              "      <div>\n",
              "<style scoped>\n",
              "    .dataframe tbody tr th:only-of-type {\n",
              "        vertical-align: middle;\n",
              "    }\n",
              "\n",
              "    .dataframe tbody tr th {\n",
              "        vertical-align: top;\n",
              "    }\n",
              "\n",
              "    .dataframe thead th {\n",
              "        text-align: right;\n",
              "    }\n",
              "</style>\n",
              "<table border=\"1\" class=\"dataframe\">\n",
              "  <thead>\n",
              "    <tr style=\"text-align: right;\">\n",
              "      <th></th>\n",
              "      <th>observation_id</th>\n",
              "      <th>patient_id</th>\n",
              "      <th>dataset_origin</th>\n",
              "      <th>OBSERVATION_ID</th>\n",
              "      <th>CODE</th>\n",
              "      <th>DESCRIPTION</th>\n",
              "      <th>VALUE</th>\n",
              "      <th>UNITS</th>\n",
              "      <th>DATE</th>\n",
              "      <th>Covid</th>\n",
              "    </tr>\n",
              "  </thead>\n",
              "  <tbody>\n",
              "    <tr>\n",
              "      <th>123</th>\n",
              "      <td>377</td>\n",
              "      <td>e92765c7-1c4b-9ee7-dbc8-5300fcb40a54</td>\n",
              "      <td>allergy</td>\n",
              "      <td>377</td>\n",
              "      <td>8462-4</td>\n",
              "      <td>Diastolic Blood Pressure</td>\n",
              "      <td>86.0</td>\n",
              "      <td>mm[Hg]</td>\n",
              "      <td>2010-11-21T07:31:12Z</td>\n",
              "      <td>0</td>\n",
              "    </tr>\n",
              "    <tr>\n",
              "      <th>124</th>\n",
              "      <td>378</td>\n",
              "      <td>e92765c7-1c4b-9ee7-dbc8-5300fcb40a54</td>\n",
              "      <td>allergy</td>\n",
              "      <td>378</td>\n",
              "      <td>8480-6</td>\n",
              "      <td>Systolic Blood Pressure</td>\n",
              "      <td>117.0</td>\n",
              "      <td>mm[Hg]</td>\n",
              "      <td>2010-11-21T07:31:12Z</td>\n",
              "      <td>0</td>\n",
              "    </tr>\n",
              "    <tr>\n",
              "      <th>125</th>\n",
              "      <td>379</td>\n",
              "      <td>e92765c7-1c4b-9ee7-dbc8-5300fcb40a54</td>\n",
              "      <td>allergy</td>\n",
              "      <td>379</td>\n",
              "      <td>8867-4</td>\n",
              "      <td>Heart rate</td>\n",
              "      <td>68.0</td>\n",
              "      <td>/min</td>\n",
              "      <td>2010-11-21T07:31:12Z</td>\n",
              "      <td>0</td>\n",
              "    </tr>\n",
              "  </tbody>\n",
              "</table>\n",
              "</div>\n",
              "      <button class=\"colab-df-convert\" onclick=\"convertToInteractive('df-5ed9bfad-dcca-4787-aa5a-cefef6c506d7')\"\n",
              "              title=\"Convert this dataframe to an interactive table.\"\n",
              "              style=\"display:none;\">\n",
              "        \n",
              "  <svg xmlns=\"http://www.w3.org/2000/svg\" height=\"24px\"viewBox=\"0 0 24 24\"\n",
              "       width=\"24px\">\n",
              "    <path d=\"M0 0h24v24H0V0z\" fill=\"none\"/>\n",
              "    <path d=\"M18.56 5.44l.94 2.06.94-2.06 2.06-.94-2.06-.94-.94-2.06-.94 2.06-2.06.94zm-11 1L8.5 8.5l.94-2.06 2.06-.94-2.06-.94L8.5 2.5l-.94 2.06-2.06.94zm10 10l.94 2.06.94-2.06 2.06-.94-2.06-.94-.94-2.06-.94 2.06-2.06.94z\"/><path d=\"M17.41 7.96l-1.37-1.37c-.4-.4-.92-.59-1.43-.59-.52 0-1.04.2-1.43.59L10.3 9.45l-7.72 7.72c-.78.78-.78 2.05 0 2.83L4 21.41c.39.39.9.59 1.41.59.51 0 1.02-.2 1.41-.59l7.78-7.78 2.81-2.81c.8-.78.8-2.07 0-2.86zM5.41 20L4 18.59l7.72-7.72 1.47 1.35L5.41 20z\"/>\n",
              "  </svg>\n",
              "      </button>\n",
              "      \n",
              "  <style>\n",
              "    .colab-df-container {\n",
              "      display:flex;\n",
              "      flex-wrap:wrap;\n",
              "      gap: 12px;\n",
              "    }\n",
              "\n",
              "    .colab-df-convert {\n",
              "      background-color: #E8F0FE;\n",
              "      border: none;\n",
              "      border-radius: 50%;\n",
              "      cursor: pointer;\n",
              "      display: none;\n",
              "      fill: #1967D2;\n",
              "      height: 32px;\n",
              "      padding: 0 0 0 0;\n",
              "      width: 32px;\n",
              "    }\n",
              "\n",
              "    .colab-df-convert:hover {\n",
              "      background-color: #E2EBFA;\n",
              "      box-shadow: 0px 1px 2px rgba(60, 64, 67, 0.3), 0px 1px 3px 1px rgba(60, 64, 67, 0.15);\n",
              "      fill: #174EA6;\n",
              "    }\n",
              "\n",
              "    [theme=dark] .colab-df-convert {\n",
              "      background-color: #3B4455;\n",
              "      fill: #D2E3FC;\n",
              "    }\n",
              "\n",
              "    [theme=dark] .colab-df-convert:hover {\n",
              "      background-color: #434B5C;\n",
              "      box-shadow: 0px 1px 3px 1px rgba(0, 0, 0, 0.15);\n",
              "      filter: drop-shadow(0px 1px 2px rgba(0, 0, 0, 0.3));\n",
              "      fill: #FFFFFF;\n",
              "    }\n",
              "  </style>\n",
              "\n",
              "      <script>\n",
              "        const buttonEl =\n",
              "          document.querySelector('#df-5ed9bfad-dcca-4787-aa5a-cefef6c506d7 button.colab-df-convert');\n",
              "        buttonEl.style.display =\n",
              "          google.colab.kernel.accessAllowed ? 'block' : 'none';\n",
              "\n",
              "        async function convertToInteractive(key) {\n",
              "          const element = document.querySelector('#df-5ed9bfad-dcca-4787-aa5a-cefef6c506d7');\n",
              "          const dataTable =\n",
              "            await google.colab.kernel.invokeFunction('convertToInteractive',\n",
              "                                                     [key], {});\n",
              "          if (!dataTable) return;\n",
              "\n",
              "          const docLinkHtml = 'Like what you see? Visit the ' +\n",
              "            '<a target=\"_blank\" href=https://colab.research.google.com/notebooks/data_table.ipynb>data table notebook</a>'\n",
              "            + ' to learn more about interactive tables.';\n",
              "          element.innerHTML = '';\n",
              "          dataTable['output_type'] = 'display_data';\n",
              "          await google.colab.output.renderOutput(dataTable, element);\n",
              "          const docLink = document.createElement('div');\n",
              "          docLink.innerHTML = docLinkHtml;\n",
              "          element.appendChild(docLink);\n",
              "        }\n",
              "      </script>\n",
              "    </div>\n",
              "  </div>\n",
              "  "
            ],
            "text/plain": [
              "     observation_id  ... Covid\n",
              "123             377  ...     0\n",
              "124             378  ...     0\n",
              "125             379  ...     0\n",
              "\n",
              "[3 rows x 10 columns]"
            ]
          },
          "metadata": {},
          "execution_count": 20
        }
      ]
    },
    {
      "cell_type": "code",
      "source": [
        "dfneg.shape"
      ],
      "metadata": {
        "colab": {
          "base_uri": "https://localhost:8080/"
        },
        "id": "qrR8EdvRmPVc",
        "outputId": "ce39df69-537c-4c44-e261-bb1fc9b06dc6"
      },
      "execution_count": 21,
      "outputs": [
        {
          "output_type": "execute_result",
          "data": {
            "text/plain": [
              "(4985, 10)"
            ]
          },
          "metadata": {},
          "execution_count": 21
        }
      ]
    },
    {
      "cell_type": "code",
      "source": [
        "#Übersicht Kontrolgruppe\n",
        "dfneg.nunique(axis=0)"
      ],
      "metadata": {
        "colab": {
          "base_uri": "https://localhost:8080/"
        },
        "id": "UDiEkob02Jw5",
        "outputId": "0836caaa-1414-4020-ea80-fbaddf489f12"
      },
      "execution_count": 22,
      "outputs": [
        {
          "output_type": "execute_result",
          "data": {
            "text/plain": [
              "observation_id    4985\n",
              "patient_id          56\n",
              "dataset_origin       2\n",
              "OBSERVATION_ID    4985\n",
              "CODE                12\n",
              "DESCRIPTION         13\n",
              "VALUE              910\n",
              "UNITS                8\n",
              "DATE               942\n",
              "Covid                1\n",
              "dtype: int64"
            ]
          },
          "metadata": {},
          "execution_count": 22
        }
      ]
    },
    {
      "cell_type": "markdown",
      "source": [
        "**Zusammenfügen von COVID-pos. Kohorte und Kontrollgruppe in einen Dataframe**"
      ],
      "metadata": {
        "id": "o5KB82hukogO"
      }
    },
    {
      "cell_type": "code",
      "source": [
        "dffinal = pd.concat([dfpos, dfneg])\n",
        "dffinal.head(3)"
      ],
      "metadata": {
        "id": "P2j_UHBC4BP6",
        "colab": {
          "base_uri": "https://localhost:8080/",
          "height": 143
        },
        "outputId": "72583349-d57c-4663-e415-fe3787cce759"
      },
      "execution_count": 23,
      "outputs": [
        {
          "output_type": "execute_result",
          "data": {
            "text/html": [
              "\n",
              "  <div id=\"df-ae28acfe-800a-41a0-ab4d-d3e8cadaff29\">\n",
              "    <div class=\"colab-df-container\">\n",
              "      <div>\n",
              "<style scoped>\n",
              "    .dataframe tbody tr th:only-of-type {\n",
              "        vertical-align: middle;\n",
              "    }\n",
              "\n",
              "    .dataframe tbody tr th {\n",
              "        vertical-align: top;\n",
              "    }\n",
              "\n",
              "    .dataframe thead th {\n",
              "        text-align: right;\n",
              "    }\n",
              "</style>\n",
              "<table border=\"1\" class=\"dataframe\">\n",
              "  <thead>\n",
              "    <tr style=\"text-align: right;\">\n",
              "      <th></th>\n",
              "      <th>observation_id</th>\n",
              "      <th>patient_id</th>\n",
              "      <th>dataset_origin</th>\n",
              "      <th>OBSERVATION_ID</th>\n",
              "      <th>CODE</th>\n",
              "      <th>DESCRIPTION</th>\n",
              "      <th>VALUE</th>\n",
              "      <th>UNITS</th>\n",
              "      <th>DATE</th>\n",
              "      <th>Covid</th>\n",
              "    </tr>\n",
              "  </thead>\n",
              "  <tbody>\n",
              "    <tr>\n",
              "      <th>47886</th>\n",
              "      <td>143480</td>\n",
              "      <td>ad5525c0-fdab-94dc-018f-d7209c72bdef</td>\n",
              "      <td>covid19</td>\n",
              "      <td>143480</td>\n",
              "      <td>8310-5</td>\n",
              "      <td>Body temperature</td>\n",
              "      <td>41.4</td>\n",
              "      <td>Cel</td>\n",
              "      <td>2020-02-17T21:57:21Z</td>\n",
              "      <td>1</td>\n",
              "    </tr>\n",
              "    <tr>\n",
              "      <th>47888</th>\n",
              "      <td>143481</td>\n",
              "      <td>ad5525c0-fdab-94dc-018f-d7209c72bdef</td>\n",
              "      <td>covid19</td>\n",
              "      <td>143481</td>\n",
              "      <td>9279-1</td>\n",
              "      <td>Respiratory rate</td>\n",
              "      <td>21.4</td>\n",
              "      <td>/min</td>\n",
              "      <td>2020-02-17T21:57:21Z</td>\n",
              "      <td>1</td>\n",
              "    </tr>\n",
              "    <tr>\n",
              "      <th>47890</th>\n",
              "      <td>143482</td>\n",
              "      <td>ad5525c0-fdab-94dc-018f-d7209c72bdef</td>\n",
              "      <td>covid19</td>\n",
              "      <td>143482</td>\n",
              "      <td>8867-4</td>\n",
              "      <td>Heart rate</td>\n",
              "      <td>61.6</td>\n",
              "      <td>/min</td>\n",
              "      <td>2020-02-17T21:57:21Z</td>\n",
              "      <td>1</td>\n",
              "    </tr>\n",
              "  </tbody>\n",
              "</table>\n",
              "</div>\n",
              "      <button class=\"colab-df-convert\" onclick=\"convertToInteractive('df-ae28acfe-800a-41a0-ab4d-d3e8cadaff29')\"\n",
              "              title=\"Convert this dataframe to an interactive table.\"\n",
              "              style=\"display:none;\">\n",
              "        \n",
              "  <svg xmlns=\"http://www.w3.org/2000/svg\" height=\"24px\"viewBox=\"0 0 24 24\"\n",
              "       width=\"24px\">\n",
              "    <path d=\"M0 0h24v24H0V0z\" fill=\"none\"/>\n",
              "    <path d=\"M18.56 5.44l.94 2.06.94-2.06 2.06-.94-2.06-.94-.94-2.06-.94 2.06-2.06.94zm-11 1L8.5 8.5l.94-2.06 2.06-.94-2.06-.94L8.5 2.5l-.94 2.06-2.06.94zm10 10l.94 2.06.94-2.06 2.06-.94-2.06-.94-.94-2.06-.94 2.06-2.06.94z\"/><path d=\"M17.41 7.96l-1.37-1.37c-.4-.4-.92-.59-1.43-.59-.52 0-1.04.2-1.43.59L10.3 9.45l-7.72 7.72c-.78.78-.78 2.05 0 2.83L4 21.41c.39.39.9.59 1.41.59.51 0 1.02-.2 1.41-.59l7.78-7.78 2.81-2.81c.8-.78.8-2.07 0-2.86zM5.41 20L4 18.59l7.72-7.72 1.47 1.35L5.41 20z\"/>\n",
              "  </svg>\n",
              "      </button>\n",
              "      \n",
              "  <style>\n",
              "    .colab-df-container {\n",
              "      display:flex;\n",
              "      flex-wrap:wrap;\n",
              "      gap: 12px;\n",
              "    }\n",
              "\n",
              "    .colab-df-convert {\n",
              "      background-color: #E8F0FE;\n",
              "      border: none;\n",
              "      border-radius: 50%;\n",
              "      cursor: pointer;\n",
              "      display: none;\n",
              "      fill: #1967D2;\n",
              "      height: 32px;\n",
              "      padding: 0 0 0 0;\n",
              "      width: 32px;\n",
              "    }\n",
              "\n",
              "    .colab-df-convert:hover {\n",
              "      background-color: #E2EBFA;\n",
              "      box-shadow: 0px 1px 2px rgba(60, 64, 67, 0.3), 0px 1px 3px 1px rgba(60, 64, 67, 0.15);\n",
              "      fill: #174EA6;\n",
              "    }\n",
              "\n",
              "    [theme=dark] .colab-df-convert {\n",
              "      background-color: #3B4455;\n",
              "      fill: #D2E3FC;\n",
              "    }\n",
              "\n",
              "    [theme=dark] .colab-df-convert:hover {\n",
              "      background-color: #434B5C;\n",
              "      box-shadow: 0px 1px 3px 1px rgba(0, 0, 0, 0.15);\n",
              "      filter: drop-shadow(0px 1px 2px rgba(0, 0, 0, 0.3));\n",
              "      fill: #FFFFFF;\n",
              "    }\n",
              "  </style>\n",
              "\n",
              "      <script>\n",
              "        const buttonEl =\n",
              "          document.querySelector('#df-ae28acfe-800a-41a0-ab4d-d3e8cadaff29 button.colab-df-convert');\n",
              "        buttonEl.style.display =\n",
              "          google.colab.kernel.accessAllowed ? 'block' : 'none';\n",
              "\n",
              "        async function convertToInteractive(key) {\n",
              "          const element = document.querySelector('#df-ae28acfe-800a-41a0-ab4d-d3e8cadaff29');\n",
              "          const dataTable =\n",
              "            await google.colab.kernel.invokeFunction('convertToInteractive',\n",
              "                                                     [key], {});\n",
              "          if (!dataTable) return;\n",
              "\n",
              "          const docLinkHtml = 'Like what you see? Visit the ' +\n",
              "            '<a target=\"_blank\" href=https://colab.research.google.com/notebooks/data_table.ipynb>data table notebook</a>'\n",
              "            + ' to learn more about interactive tables.';\n",
              "          element.innerHTML = '';\n",
              "          dataTable['output_type'] = 'display_data';\n",
              "          await google.colab.output.renderOutput(dataTable, element);\n",
              "          const docLink = document.createElement('div');\n",
              "          docLink.innerHTML = docLinkHtml;\n",
              "          element.appendChild(docLink);\n",
              "        }\n",
              "      </script>\n",
              "    </div>\n",
              "  </div>\n",
              "  "
            ],
            "text/plain": [
              "       observation_id  ... Covid\n",
              "47886          143480  ...     1\n",
              "47888          143481  ...     1\n",
              "47890          143482  ...     1\n",
              "\n",
              "[3 rows x 10 columns]"
            ]
          },
          "metadata": {},
          "execution_count": 23
        }
      ]
    },
    {
      "cell_type": "markdown",
      "source": [
        "**Vergleichende Analyse der Laborparameter zwischen den Gruppen**"
      ],
      "metadata": {
        "id": "temp633ikzd-"
      }
    },
    {
      "cell_type": "code",
      "source": [
        "#Auswählen des Laborparameters GFR\n",
        "gfr = dffinal[dffinal['CODE'] == \"33914-3\"]\n",
        "# Konvertieren der Laborwerte und des Covid-Status in Zahlenwerte (Floats)\n",
        "gfr['VALUE'] = gfr['VALUE'].astype(float)\n",
        "gfr['Covid'] = gfr['Covid'].astype(float)"
      ],
      "metadata": {
        "id": "Z2sdX7_A-KWO",
        "colab": {
          "base_uri": "https://localhost:8080/"
        },
        "outputId": "32f8c22d-39ab-41f9-e747-152435fdb549"
      },
      "execution_count": 26,
      "outputs": [
        {
          "output_type": "stream",
          "name": "stderr",
          "text": [
            "/usr/local/lib/python3.7/dist-packages/ipykernel_launcher.py:4: SettingWithCopyWarning: \n",
            "A value is trying to be set on a copy of a slice from a DataFrame.\n",
            "Try using .loc[row_indexer,col_indexer] = value instead\n",
            "\n",
            "See the caveats in the documentation: https://pandas.pydata.org/pandas-docs/stable/user_guide/indexing.html#returning-a-view-versus-a-copy\n",
            "  after removing the cwd from sys.path.\n",
            "/usr/local/lib/python3.7/dist-packages/ipykernel_launcher.py:5: SettingWithCopyWarning: \n",
            "A value is trying to be set on a copy of a slice from a DataFrame.\n",
            "Try using .loc[row_indexer,col_indexer] = value instead\n",
            "\n",
            "See the caveats in the documentation: https://pandas.pydata.org/pandas-docs/stable/user_guide/indexing.html#returning-a-view-versus-a-copy\n",
            "  \"\"\"\n"
          ]
        }
      ]
    },
    {
      "cell_type": "code",
      "source": [
        "g = sns.catplot(data=gfr, x=\"Covid\", y=\"VALUE\", kind=\"violin\", inner=\"quart\", linewidth=1)\n",
        "sns.swarmplot(data=gfr, x=\"Covid\", y=\"VALUE\", color=\"k\", size=2, ax=g.ax)\n",
        "plt.title('GFR', weight='bold').set_fontsize('16')"
      ],
      "metadata": {
        "colab": {
          "base_uri": "https://localhost:8080/",
          "height": 387
        },
        "id": "zmQh08Dp6J7m",
        "outputId": "acf85556-9bfb-421b-fcba-8311268db18e"
      },
      "execution_count": 27,
      "outputs": [
        {
          "output_type": "display_data",
          "data": {
            "image/png": "[encoded data removed]",
            "text/plain": [
              "<Figure size 360x360 with 1 Axes>"
            ]
          },
          "metadata": {
            "needs_background": "light"
          }
        }
      ]
    }
  ]
}