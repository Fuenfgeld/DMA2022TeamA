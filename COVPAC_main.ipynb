{
  "nbformat": 4,
  "nbformat_minor": 0,
  "metadata": {
    "colab": {
      "name": "COVPAC.ipynb",
      "provenance": [],
      "collapsed_sections": [],
      "toc_visible": true,
      "include_colab_link": true
    },
    "kernelspec": {
      "name": "python3",
      "display_name": "Python 3"
    },
    "language_info": {
      "name": "python"
    }
  },
  "cells": [
    {
      "cell_type": "markdown",
      "metadata": {
        "id": "view-in-github",
        "colab_type": "text"
      },
      "source": [
        "<a href=\"https://colab.research.google.com/github/Fuenfgeld/DMA2022TeamA/blob/main/COVPAC_main.ipynb\" target=\"_parent\"><img src=\"https://colab.research.google.com/assets/colab-badge.svg\" alt=\"Open In Colab\"/></a>"
      ]
    },
    {
      "cell_type": "markdown",
      "source": [
        "#**Vorbereitungen**"
      ],
      "metadata": {
        "id": "zlTJ8SBu9FI8"
      }
    },
    {
      "cell_type": "markdown",
      "source": [
        "##Löschen aller Variablen"
      ],
      "metadata": {
        "id": "l79frekD34GC"
      }
    },
    {
      "cell_type": "code",
      "source": [
        "%reset -f\n"
      ],
      "metadata": {
        "id": "z3uLOxi5T3Lf"
      },
      "execution_count": null,
      "outputs": []
    },
    {
      "cell_type": "markdown",
      "source": [
        "## Import der Libraries"
      ],
      "metadata": {
        "id": "ub_o6oKVSiR5"
      }
    },
    {
      "cell_type": "code",
      "source": [
        "import pandas as pd\n",
        "import sqlite3\n",
        "import seaborn as sns\n",
        "import matplotlib.pyplot as plt\n",
        "import numpy as np\n",
        "from pandas_profiling import ProfileReport\n",
        "import datetime"
      ],
      "metadata": {
        "id": "7JwqSZ_9MWwz"
      },
      "execution_count": null,
      "outputs": []
    },
    {
      "cell_type": "markdown",
      "source": [
        "## Versions Check"
      ],
      "metadata": {
        "id": "KdOs-8Bg4o5y"
      }
    },
    {
      "cell_type": "code",
      "source": [
        "# Python\n",
        "import sys\n",
        "sys.version_info"
      ],
      "metadata": {
        "id": "JOw2lkhS5Hm8"
      },
      "execution_count": null,
      "outputs": []
    },
    {
      "cell_type": "code",
      "source": [
        "pd.__version__"
      ],
      "metadata": {
        "id": "R0qVXUD05Okh"
      },
      "execution_count": null,
      "outputs": []
    },
    {
      "cell_type": "code",
      "source": [
        "sns.__version__"
      ],
      "metadata": {
        "id": "F6oyTMC45Y2R"
      },
      "execution_count": null,
      "outputs": []
    },
    {
      "cell_type": "code",
      "source": [
        "np.__version__"
      ],
      "metadata": {
        "id": "qCcPc_Xk5dSp"
      },
      "execution_count": null,
      "outputs": []
    },
    {
      "cell_type": "code",
      "source": [
        "np.__version__"
      ],
      "metadata": {
        "id": "q4POMtNh5gYD"
      },
      "execution_count": null,
      "outputs": []
    },
    {
      "cell_type": "markdown",
      "source": [
        "#**Erstellen der Quelldatenbank**"
      ],
      "metadata": {
        "id": "2LjYV0V159qZ"
      }
    },
    {
      "cell_type": "code",
      "source": [
        "import requests\n",
        "exec(requests.get('https://raw.githubusercontent.com/Fuenfgeld/DMA2022TeamA/main/Pythonscripte/Quelldatenbank.py').text)"
      ],
      "metadata": {
        "id": "Ywg-2YHF6KJg"
      },
      "execution_count": null,
      "outputs": []
    },
    {
      "cell_type": "markdown",
      "source": [
        "#**Erstellen des Datawarehouse**"
      ],
      "metadata": {
        "id": "RwajmJDE6Vr3"
      }
    },
    {
      "cell_type": "code",
      "source": [
        "exec(requests.get('https://raw.githubusercontent.com/Fuenfgeld/DMA2022TeamA/main/Pythonscripte/Datawarehouse.py').text)"
      ],
      "metadata": {
        "id": "0GfjGPGV6LMu"
      },
      "execution_count": null,
      "outputs": []
    },
    {
      "cell_type": "markdown",
      "source": [
        "# **Einfluss von COVID auf durchgeführte Prozeduren**"
      ],
      "metadata": {
        "id": "cwjYNa53-UGJ"
      }
    },
    {
      "cell_type": "markdown",
      "source": [
        "### Erstellen eines Ursprungsdataframes aus dem Datawarehouse "
      ],
      "metadata": {
        "id": "crGCzfmaKBWo"
      }
    },
    {
      "cell_type": "code",
      "source": [
        "def connect_to_db(db_file):\n",
        "    sqlite3_conn = None\n",
        "    try:\n",
        "        sqlite3_conn = sq.connect(db_file)\n",
        "        return sqlite3_conn\n",
        "\n",
        "    except Error as err:\n",
        "        print(err)\n",
        "\n",
        "        if sqlite3_conn is not None:\n",
        "            sqlite3_conn.close()\n",
        "  \n",
        "conn_dwh = sqlite3.connect('/content/Datawarehouse.db')\n"
      ],
      "metadata": {
        "id": "UzhSJoLh-XOQ"
      },
      "execution_count": null,
      "outputs": []
    },
    {
      "cell_type": "code",
      "source": [
        "# Zentrum Tabelle\n",
        "df_Zentrum = pd.read_sql_query(\"SELECT * FROM Zentrum\", conn_dwh)\n",
        "\n",
        "# demographic data\n",
        "df_patients = pd.read_sql_query(\"SELECT * FROM dimPatients\", conn_dwh)\n",
        "# diagnoses data\n",
        "df_conditions = pd.read_sql_query(\"select * from dimConditions\", conn_dwh)\n",
        "\n",
        "# procedure data\n",
        "# df_careplans = pd.read_sql_query(\"select * from careplans_info\", conn_dwh)\n",
        "df_procedures = pd.read_sql_query(\"SELECT * FROM dimProcedures\", conn_dwh)\n",
        "\n",
        "# observations\n",
        "df_observations = pd.read_sql_query(\"SELECT * FROM dimObservations\", conn_dwh)\n",
        "\n",
        "# encounters\n",
        "df_encounters = pd.read_sql_query(\"SELECT * FROM dimEncounters\", conn_dwh)"
      ],
      "metadata": {
        "id": "JDwdyaur-XaE"
      },
      "execution_count": null,
      "outputs": []
    },
    {
      "cell_type": "code",
      "source": [
        "# Join zwischen dimPatients und dimProcedures\n",
        "covid_procedures = pd.read_sql_query(\"SELECT dimPatients.dataset_origin, dimProcedures.* FROM dimProcedures LEFT JOIN dimPatients ON dimPatients.id=dimProcedures.patient_id\", conn_dwh)"
      ],
      "metadata": {
        "id": "JnXgK8u3-XkG"
      },
      "execution_count": null,
      "outputs": []
    },
    {
      "cell_type": "code",
      "source": [
        "covid_procedures.head()"
      ],
      "metadata": {
        "id": "UcdVis7t-XmR"
      },
      "execution_count": null,
      "outputs": []
    },
    {
      "cell_type": "markdown",
      "source": [
        "#### Hash-Check"
      ],
      "metadata": {
        "id": "es9uNY_aJMad"
      }
    },
    {
      "cell_type": "code",
      "source": [
        "from pandas.util import hash_pandas_object\n",
        "procedureshashes = hash_pandas_object(covid_procedures)\n"
      ],
      "metadata": {
        "id": "4387Tg-UJTgv"
      },
      "execution_count": null,
      "outputs": []
    },
    {
      "cell_type": "code",
      "source": [
        "procedureshashes"
      ],
      "metadata": {
        "id": "HU8ymfJQJTnE"
      },
      "execution_count": null,
      "outputs": []
    },
    {
      "cell_type": "code",
      "source": [
        "#Wert sollte -8927845321861695504 sein \n",
        "procedureshashes.sum()"
      ],
      "metadata": {
        "id": "R5GQq243Jnqf"
      },
      "execution_count": null,
      "outputs": []
    },
    {
      "cell_type": "markdown",
      "source": [
        "## Datenexploration"
      ],
      "metadata": {
        "id": "rSH08nZBAGt-"
      }
    },
    {
      "cell_type": "code",
      "source": [
        "# Nummer der Patienten in der Procedures Tabelle"
      ],
      "metadata": {
        "id": "HIzCdK92-Xoa"
      },
      "execution_count": null,
      "outputs": []
    },
    {
      "cell_type": "code",
      "source": [
        "# Entfernen des Einträge aus dem Covid-19 Datensatz\n",
        "final_df = covid_procedures[~covid_procedures['DATASET_ORIGIN'].isin(['covid19'])]"
      ],
      "metadata": {
        "id": "lc1CY9q2-Xr6"
      },
      "execution_count": null,
      "outputs": []
    },
    {
      "cell_type": "code",
      "source": [
        "final_df.head()"
      ],
      "metadata": {
        "id": "wYnqJIaE-X0x"
      },
      "execution_count": null,
      "outputs": []
    },
    {
      "cell_type": "code",
      "source": [
        "# Nummer der Patienten in final_df\n",
        "final_df.groupby([\"PATIENT_ID\"]).size()"
      ],
      "metadata": {
        "id": "ssaqMxCo-X3n"
      },
      "execution_count": null,
      "outputs": []
    },
    {
      "cell_type": "code",
      "source": [
        "final_df.groupby([\"DESCRIPTION\"]).size()"
      ],
      "metadata": {
        "id": "GRDbOja9-X8L"
      },
      "execution_count": null,
      "outputs": []
    },
    {
      "cell_type": "code",
      "source": [
        "final_df.shape"
      ],
      "metadata": {
        "id": "4xhsTFMT-X-p"
      },
      "execution_count": null,
      "outputs": []
    },
    {
      "cell_type": "code",
      "source": [
        "final_df.groupby([\"PATIENT_ID\", \"CODE\"]).size()"
      ],
      "metadata": {
        "id": "uy9H2Az3-YAT"
      },
      "execution_count": null,
      "outputs": []
    },
    {
      "cell_type": "code",
      "source": [
        "final_df.groupby([\"DATE\"]).size()"
      ],
      "metadata": {
        "id": "SxVU29Tb-YCL"
      },
      "execution_count": null,
      "outputs": []
    },
    {
      "cell_type": "markdown",
      "source": [
        "## Datencleaning"
      ],
      "metadata": {
        "id": "pHEwuFSPAssf"
      }
    },
    {
      "cell_type": "code",
      "source": [
        "# Ersetzen von Nullwerten\n",
        "final_df = final_df.replace(r'^\\s*$', np.nan, regex=True)"
      ],
      "metadata": {
        "id": "zMeAYD3oAqQb"
      },
      "execution_count": null,
      "outputs": []
    },
    {
      "cell_type": "code",
      "source": [
        "# Anzahl der Nullwerte\n",
        "final_df.isnull().sum()"
      ],
      "metadata": {
        "id": "1E2o7t44AqYG"
      },
      "execution_count": null,
      "outputs": []
    },
    {
      "cell_type": "code",
      "source": [
        "# Entfernen von Duplikaten mit Behalten des ersten Wertes\n",
        "final_df.drop_duplicates(keep=\"first\",inplace=True) \n",
        "print(\"Size of dataset after removinf duplicated rows\", final_df.shape)"
      ],
      "metadata": {
        "id": "X-9ybB4eAqaO"
      },
      "execution_count": null,
      "outputs": []
    },
    {
      "cell_type": "code",
      "source": [
        "# Attributinfo\n",
        "final_df.info()"
      ],
      "metadata": {
        "id": "helultI4Aqcb"
      },
      "execution_count": null,
      "outputs": []
    },
    {
      "cell_type": "code",
      "source": [
        "# Ändern des Attribut-Typs\n",
        "final_df[\"DATE\"] = pd.to_datetime(final_df[\"DATE\"])"
      ],
      "metadata": {
        "id": "pCk_1DR9AqeR"
      },
      "execution_count": null,
      "outputs": []
    },
    {
      "cell_type": "code",
      "source": [
        "# Ändern des Datum-Typs zu YYYY\n",
        "final_df[\"DATE\"] = final_df[\"DATE\"].dt.to_period('Y')"
      ],
      "metadata": {
        "id": "Uvvvut9BAqgL"
      },
      "execution_count": null,
      "outputs": []
    },
    {
      "cell_type": "code",
      "source": [
        "final_df.head()"
      ],
      "metadata": {
        "id": "4GtW8X9LAqiU"
      },
      "execution_count": null,
      "outputs": []
    },
    {
      "cell_type": "markdown",
      "source": [
        "## Analyse der Prozuren nach Jahr"
      ],
      "metadata": {
        "id": "5XFUt-9oA49i"
      }
    },
    {
      "cell_type": "code",
      "source": [
        "# Prozedurtabelle währen COVID\n",
        "covid_year = final_df[final_df[\"DATE\"] >= \"2020\"]\n",
        "covid_year.head()"
      ],
      "metadata": {
        "id": "69QBxvMuA_Fj"
      },
      "execution_count": null,
      "outputs": []
    },
    {
      "cell_type": "code",
      "source": [
        "# Prozedurentabelle vor COVID\n",
        "pre_covid = final_df[final_df[\"DATE\"] < \"2020\"]\n",
        "pre_covid.head()"
      ],
      "metadata": {
        "id": "n2EZ8bBoA_M4"
      },
      "execution_count": null,
      "outputs": []
    },
    {
      "cell_type": "code",
      "source": [
        "# Am häufigsten durchgeführte Prozeduren während Covid\n",
        "covid_year['DESCRIPTION'].value_counts()[:20]"
      ],
      "metadata": {
        "id": "f3qIbSk6A_WW"
      },
      "execution_count": null,
      "outputs": []
    },
    {
      "cell_type": "code",
      "source": [
        "# Am häufigsten durchgeführte Prozeduren Pre-Covid\n",
        "pre_covid['DESCRIPTION'].value_counts()[:20]"
      ],
      "metadata": {
        "id": "Y3pwoPHmA_Ya"
      },
      "execution_count": null,
      "outputs": []
    },
    {
      "cell_type": "markdown",
      "source": [
        "## Visualisierung"
      ],
      "metadata": {
        "id": "-wp4gX5iBHbq"
      }
    },
    {
      "cell_type": "code",
      "source": [
        "final_df.sort_values(by=['DATE'])"
      ],
      "metadata": {
        "id": "BMeRqQPmBNiP"
      },
      "execution_count": null,
      "outputs": []
    },
    {
      "cell_type": "code",
      "source": [
        "# Auswertung der Prozeduren ab dem Jahr 2010\n",
        "df_recent = final_df[final_df[\"DATE\"] >= \"2010\"]"
      ],
      "metadata": {
        "id": "pYq-SRttBNmn"
      },
      "execution_count": null,
      "outputs": []
    },
    {
      "cell_type": "code",
      "source": [
        "df_recent = df_recent.sort_values(by='DATE')"
      ],
      "metadata": {
        "id": "n2adqMh4BNpc"
      },
      "execution_count": null,
      "outputs": []
    },
    {
      "cell_type": "code",
      "source": [
        "%matplotlib inline\n",
        "sns.set(rc={'figure.figsize':(8, 8)})\n",
        "sns.countplot(x='DATE', data=df_recent)"
      ],
      "metadata": {
        "id": "BIGwoywjBNsm"
      },
      "execution_count": null,
      "outputs": []
    },
    {
      "cell_type": "markdown",
      "source": [
        "# **Vorhersage des Covid-Status anhand von Laborparametern**"
      ],
      "metadata": {
        "id": "FR03VP-NBx7N"
      }
    },
    {
      "cell_type": "markdown",
      "source": [
        "## Erstellen eines Ursprungsdataframes aus dem Datawarehouse\n",
        "\n",
        "\n"
      ],
      "metadata": {
        "id": "yLed4SrfSxFU"
      }
    },
    {
      "cell_type": "code",
      "source": [
        "df = pd.read_sql_query(\"\"\"\n",
        "select t1.*, dimObservations.code, dimObservations.description, dimObservations.value, dimObservations.units, dimObservations.date from dimObservations\n",
        "left JOIN\n",
        "(select Zentrum.observation_id as OBSERVATION_ID, Zentrum.patient_id, dimPatients.dataset_origin from Zentrum, dimPatients where Zentrum.patient_id = dimPatients.id) t1\n",
        "on dimObservations.id = t1.observation_id\n",
        ";\"\"\", conn_dwh\n",
        "  )"
      ],
      "metadata": {
        "id": "TDSAQWcFNUJG"
      },
      "execution_count": null,
      "outputs": []
    },
    {
      "cell_type": "markdown",
      "source": [
        "### Hash-Check"
      ],
      "metadata": {
        "id": "N1-qTMAnITg4"
      }
    },
    {
      "cell_type": "code",
      "source": [
        "from pandas.util import hash_pandas_object\n",
        "dfhashes = hash_pandas_object(df)"
      ],
      "metadata": {
        "id": "AtGCVxoLIeg2"
      },
      "execution_count": null,
      "outputs": []
    },
    {
      "cell_type": "code",
      "source": [
        "dfhashes"
      ],
      "metadata": {
        "id": "UfLRiT3IIes2"
      },
      "execution_count": null,
      "outputs": []
    },
    {
      "cell_type": "code",
      "source": [
        "#Wert sollte -8232134386015511732 sein \n",
        "dfhashes.sum()\n"
      ],
      "metadata": {
        "id": "vALMEB8IIwxc"
      },
      "execution_count": null,
      "outputs": []
    },
    {
      "cell_type": "markdown",
      "source": [
        "## Datenexploration & Cleaning"
      ],
      "metadata": {
        "id": "eAcglCx4DBgB"
      }
    },
    {
      "cell_type": "code",
      "source": [
        "df.head(3)"
      ],
      "metadata": {
        "id": "nylVfXAxSTqp"
      },
      "execution_count": null,
      "outputs": []
    },
    {
      "cell_type": "code",
      "source": [
        "#Entfernen von Duplikaten\n",
        "df.drop_duplicates(keep=\"first\",inplace=True) \n",
        "print(\"Size of dataset after removing duplicated rows\", df.shape)"
      ],
      "metadata": {
        "id": "KEwISJYtiZvX"
      },
      "execution_count": null,
      "outputs": []
    },
    {
      "cell_type": "code",
      "source": [
        "# Übersicht \n",
        "df.nunique(axis=0)"
      ],
      "metadata": {
        "id": "zulPUVVEiuKw"
      },
      "execution_count": null,
      "outputs": []
    },
    {
      "cell_type": "code",
      "source": [
        "#Ursprung der Daten\n",
        "df.groupby([\"dataset_origin\"]).size()"
      ],
      "metadata": {
        "id": "9P-LDnejjd-c"
      },
      "execution_count": null,
      "outputs": []
    },
    {
      "cell_type": "markdown",
      "source": [
        "## Datenvorbereitung & Cleaning"
      ],
      "metadata": {
        "id": "_VX8leMIDT1I"
      }
    },
    {
      "cell_type": "markdown",
      "source": [
        "### Erstellen eines Dataframes, der nur Angaben zu COVID-positiven Patienten enthält\n",
        "\n",
        "\n",
        "\n"
      ],
      "metadata": {
        "id": "UlN1kFPpTkkZ"
      }
    },
    {
      "cell_type": "code",
      "source": [
        "#Zunächst Selektion der positiven Testergebnisse\n",
        "dfpostest = df.loc[(df[\"CODE\"] == \"94531-1\") & (df[\"VALUE\"] == \"Detected (qualifier value)\")] \n",
        "dfpostest.head(3)\n",
        "\n"
      ],
      "metadata": {
        "id": "ifh3Tog6YiWP"
      },
      "execution_count": null,
      "outputs": []
    },
    {
      "cell_type": "code",
      "source": [
        "# Erstellen eines Dataframes mit allen Laborwerten der Patienten mit positivem Testergebnis\n",
        "dfpos = df.loc[((df.patient_id.isin(dfpostest['patient_id'])))]\n"
      ],
      "metadata": {
        "id": "NtdQsK-ZmhrW"
      },
      "execution_count": null,
      "outputs": []
    },
    {
      "cell_type": "code",
      "source": [
        "# Löschen der Patienten mit COVID-Nebendiagnse aus dem ALLERGY-Dataset, da diese zahlreiche nicht mit der COVID-Infektion im Zusammenhang stehende (ältere) Laborparameter haben\n",
        "dfpos = dfpos.drop( dfpos[ dfpos['dataset_origin'] == \"allergy\" ].index)"
      ],
      "metadata": {
        "id": "q6ufJeLZmiMF"
      },
      "execution_count": null,
      "outputs": []
    },
    {
      "cell_type": "code",
      "source": [
        "# Hinzufügen einer zusätzlichen Spalte mit dem Wert \"1\"\n",
        "dfpos['Covid'] = '1'\n",
        "dfpos.head(3)"
      ],
      "metadata": {
        "id": "YOT_7bLD3via"
      },
      "execution_count": null,
      "outputs": []
    },
    {
      "cell_type": "code",
      "source": [
        "#Übersicht der Covid-Kohorte\n",
        "dfpos.nunique(axis=0)"
      ],
      "metadata": {
        "id": "_GSisq8F17dM"
      },
      "execution_count": null,
      "outputs": []
    },
    {
      "cell_type": "markdown",
      "source": [
        "### Erstellen eines Dataframes, der nur die Patienten der Kontrollgruppe beinhaltet"
      ],
      "metadata": {
        "id": "fHjPeFpwWlHS"
      }
    },
    {
      "cell_type": "code",
      "source": [
        "#Selektion der Laborparameter von Patienten ohne positiven COVID-Test aus dem Ursprungsdataframe\n",
        "dfneg = df.loc[~((df.patient_id.isin(dfpostest['patient_id'])))]\n",
        "dfneg.head(3)"
      ],
      "metadata": {
        "id": "T7rER-FLbXKb"
      },
      "execution_count": null,
      "outputs": []
    },
    {
      "cell_type": "code",
      "source": [
        "dfneg.shape"
      ],
      "metadata": {
        "id": "We_V7jPMiltt"
      },
      "execution_count": null,
      "outputs": []
    },
    {
      "cell_type": "code",
      "source": [
        "# Erstellen eines Dataframes von Patienten mit der Nebendiagnose Covid19 \n",
        "dfNebendiag = pd.read_sql_query(\"\"\"\n",
        "select patient_id, CODE, DESCRIPTION from dimConditions where code in (\"840539006\")\n",
        ";\"\"\", conn_dwh\n",
        "  )\n"
      ],
      "metadata": {
        "id": "cqKx9ptng5da"
      },
      "execution_count": null,
      "outputs": []
    },
    {
      "cell_type": "code",
      "source": [
        "dfNebendiag.head(3)"
      ],
      "metadata": {
        "id": "7kearTEijYMj"
      },
      "execution_count": null,
      "outputs": []
    },
    {
      "cell_type": "code",
      "source": [
        "# Um Sicherzugehen, dass wirklich nur Covid-neg. Patienten in der Kontrollgruppe sind werden auch Patienten ohne Testergebnis aber mit Nebendiagnose Covid19 bzw. Verdacht auf Covid19 ausgeschlossen.\n",
        "dfneg = dfneg.loc[~((dfneg.patient_id.isin(dfNebendiag[\"PATIENT_ID\"])))]\n"
      ],
      "metadata": {
        "id": "zQ_QmlEbhtkD"
      },
      "execution_count": null,
      "outputs": []
    },
    {
      "cell_type": "code",
      "source": [
        "# Hinzufügen Spalte mit Wert \"0\"\n",
        "dfneg['Covid'] = '0'\n",
        "dfneg.head(3)"
      ],
      "metadata": {
        "id": "QUt35DNdkezW"
      },
      "execution_count": null,
      "outputs": []
    },
    {
      "cell_type": "code",
      "source": [
        "dfneg.shape"
      ],
      "metadata": {
        "id": "qrR8EdvRmPVc"
      },
      "execution_count": null,
      "outputs": []
    },
    {
      "cell_type": "code",
      "source": [
        "#Übersicht Kontrolgruppe\n",
        "dfneg.nunique(axis=0)"
      ],
      "metadata": {
        "id": "UDiEkob02Jw5"
      },
      "execution_count": null,
      "outputs": []
    },
    {
      "cell_type": "markdown",
      "source": [
        "### Zusammenfügen von COVID-pos. Kohorte und Kontrollgruppe in einen Dataframe"
      ],
      "metadata": {
        "id": "o5KB82hukogO"
      }
    },
    {
      "cell_type": "code",
      "source": [
        "dffinal = pd.concat([dfpos, dfneg])\n",
        "dffinal.head(3)"
      ],
      "metadata": {
        "id": "P2j_UHBC4BP6"
      },
      "execution_count": null,
      "outputs": []
    },
    {
      "cell_type": "code",
      "source": [
        "# Löschen der COVID-Testergebnisse, damit der Datentyp der Werte der Spalte \"Value\" in Floats geändert werden kann (Covid-Status ist trotzdem in Spalte Covid festgehalten)\n",
        "dffinal = dffinal.loc[(dffinal[\"CODE\"] != \"94531-1\")]\n",
        "\n",
        "\n",
        "# Konvertieren der Laborwerte und des Covid-Status in Zahlenwerte (Floats)\n",
        "dffinal[\"Covid\"] = dffinal[\"Covid\"].astype(\"int\")\n",
        "dffinal[\"VALUE\"] = dffinal[\"VALUE\"].astype(\"float\")\n",
        "\n",
        "dffinal.head(3)"
      ],
      "metadata": {
        "id": "o4eHc6WZ3chG"
      },
      "execution_count": null,
      "outputs": []
    },
    {
      "cell_type": "code",
      "source": [
        "#Konvertieren der Datumformats \n",
        "dffinal[\"DATE\"] = pd.to_datetime(dffinal[\"DATE\"])\n",
        "dffinal[\"DATE\"] = dffinal[\"DATE\"].dt.to_period('d')"
      ],
      "metadata": {
        "id": "tDKpwZhF9JWp"
      },
      "execution_count": null,
      "outputs": []
    },
    {
      "cell_type": "code",
      "source": [
        "dffinal.head()"
      ],
      "metadata": {
        "id": "-2o8PT8N9et6"
      },
      "execution_count": null,
      "outputs": []
    },
    {
      "cell_type": "markdown",
      "source": [
        "## Vergleichende Analyse der Laborparameter zwischen den Gruppen"
      ],
      "metadata": {
        "id": "temp633ikzd-"
      }
    },
    {
      "cell_type": "code",
      "source": [
        "%matplotlib inline\n",
        "#Plotting der Nierenparameter\n",
        "GFR= dffinal[dffinal['CODE'] == \"33914-3\"]\n",
        "Urea= dffinal[dffinal['CODE'] == \"3094-0\"]\n",
        "Protein= dffinal[dffinal['CODE'] == \"2885-2\"]\n",
        "\n",
        "g = sns.catplot(data=GFR, x=\"Covid\", y=\"VALUE\", kind=\"violin\", inner=\"quart\", linewidth=1)\n",
        "sns.swarmplot(data=GFR, x=\"Covid\", y=\"VALUE\", color=\"k\", size=2, ax=g.ax)\n",
        "plt.title('GFR', weight='bold').set_fontsize('16')\n",
        "\n",
        "g = sns.catplot(data=Urea, x=\"Covid\", y=\"VALUE\", kind=\"violin\", inner=\"quart\", linewidth=1)\n",
        "sns.swarmplot(data=Urea, x=\"Covid\", y=\"VALUE\", color=\"k\", size=2, ax=g.ax)\n",
        "plt.title('Urea', weight='bold').set_fontsize('16')\n",
        "\n",
        "g = sns.catplot(data=Protein, x=\"Covid\", y=\"VALUE\", kind=\"violin\", inner=\"quart\", linewidth=1)\n",
        "sns.swarmplot(data=Protein, x=\"Covid\", y=\"VALUE\", color=\"k\", size=2, ax=g.ax)\n",
        "plt.title('Protein', weight='bold').set_fontsize('16')"
      ],
      "metadata": {
        "id": "zmQh08Dp6J7m"
      },
      "execution_count": null,
      "outputs": []
    },
    {
      "cell_type": "code",
      "source": [
        "#Plotting der Kreislaufparameter\n",
        "Temperatur= dffinal[dffinal['CODE'] == \"8310-5\"]\n",
        "O2= dffinal[dffinal['CODE'] == \"2708-6\"]\n",
        "AF= dffinal[dffinal['CODE'] == \"9279-1\"]\n",
        "HF= dffinal[dffinal['CODE'] == \"8867-4\"]\n",
        "Syst= dffinal[dffinal['CODE'] == \"8480-6\"]\n",
        "Dia= dffinal[dffinal['CODE'] == \"8462-4\"]\n",
        "\n",
        "g = sns.catplot(data=Temperatur, x=\"Covid\", y=\"VALUE\", kind=\"violin\", inner=\"quart\", linewidth=1)\n",
        "sns.swarmplot(data=Temperatur, x=\"Covid\", y=\"VALUE\", color=\"k\", size=2, ax=g.ax)\n",
        "plt.title('Körpertemperatur', weight='bold').set_fontsize('16')\n",
        "\n",
        "g = sns.catplot(data=O2, x=\"Covid\", y=\"VALUE\", kind=\"violin\", inner=\"quart\", linewidth=1)\n",
        "sns.swarmplot(data=O2, x=\"Covid\", y=\"VALUE\", color=\"k\", size=2, ax=g.ax)\n",
        "plt.title('O2-Sättigung', weight='bold').set_fontsize('16')\n",
        "\n",
        "g = sns.catplot(data=AF, x=\"Covid\", y=\"VALUE\", kind=\"violin\", inner=\"quart\", linewidth=1)\n",
        "sns.swarmplot(data=AF, x=\"Covid\", y=\"VALUE\", color=\"k\", size=2, ax=g.ax)\n",
        "plt.title('Atemfrequenz', weight='bold').set_fontsize('16')\n",
        "\n",
        "g = sns.catplot(data=HF, x=\"Covid\", y=\"VALUE\", kind=\"violin\", inner=\"quart\", linewidth=1)\n",
        "sns.swarmplot(data=HF, x=\"Covid\", y=\"VALUE\", color=\"k\", size=2, ax=g.ax)\n",
        "plt.title('Herzfrequenz', weight='bold').set_fontsize('16')\n",
        "\n",
        "g = sns.catplot(data=Syst, x=\"Covid\", y=\"VALUE\", kind=\"violin\", inner=\"quart\", linewidth=1)\n",
        "sns.swarmplot(data=Syst, x=\"Covid\", y=\"VALUE\", color=\"k\", size=2, ax=g.ax)\n",
        "plt.title('Systolischer Blutdruck', weight='bold').set_fontsize('16')\n",
        "\n",
        "g = sns.catplot(data=Dia, x=\"Covid\", y=\"VALUE\", kind=\"violin\", inner=\"quart\", linewidth=1)\n",
        "sns.swarmplot(data=Dia, x=\"Covid\", y=\"VALUE\", color=\"k\", size=2, ax=g.ax)\n",
        "plt.title('Diastolischer Blutdruck', weight='bold').set_fontsize('16')\n"
      ],
      "metadata": {
        "id": "IT8cLRqV-Ovv"
      },
      "execution_count": null,
      "outputs": []
    },
    {
      "cell_type": "code",
      "source": [
        "#Plotting der Leberparameter\n",
        "ALT= dffinal[dffinal['CODE'] == \"1742-6\"]\n",
        "AST= dffinal[dffinal['CODE'] == \"1920-8\"]\n",
        "AP= dffinal[dffinal['CODE'] == \"6768-6\"]\n",
        "Bili= dffinal[dffinal['CODE'] == \"1975-2\"]\n",
        "\n",
        "g = sns.catplot(data=ALT, x=\"Covid\", y=\"VALUE\", kind=\"violin\", inner=\"quart\", linewidth=1)\n",
        "sns.swarmplot(data=ALT, x=\"Covid\", y=\"VALUE\", color=\"k\", size=2, ax=g.ax)\n",
        "plt.title('ALT', weight='bold').set_fontsize('16')\n",
        "\n",
        "g = sns.catplot(data=AST, x=\"Covid\", y=\"VALUE\", kind=\"violin\", inner=\"quart\", linewidth=1)\n",
        "sns.swarmplot(data=AST, x=\"Covid\", y=\"VALUE\", color=\"k\", size=2, ax=g.ax)\n",
        "plt.title('AST', weight='bold').set_fontsize('16')\n",
        "\n",
        "g = sns.catplot(data=AP, x=\"Covid\", y=\"VALUE\", kind=\"violin\", inner=\"quart\", linewidth=1)\n",
        "sns.swarmplot(data=AP, x=\"Covid\", y=\"VALUE\", color=\"k\", size=2, ax=g.ax)\n",
        "plt.title('AP', weight='bold').set_fontsize('16')\n",
        "\n",
        "g = sns.catplot(data=Bili, x=\"Covid\", y=\"VALUE\", kind=\"violin\", inner=\"quart\", linewidth=1)\n",
        "sns.swarmplot(data=Bili, x=\"Covid\", y=\"VALUE\", color=\"k\", size=2, ax=g.ax)\n",
        "plt.title('Bilirubin total', weight='bold').set_fontsize('16')"
      ],
      "metadata": {
        "id": "CstwFvpkBSGr"
      },
      "execution_count": null,
      "outputs": []
    },
    {
      "cell_type": "markdown",
      "source": [
        "## Vorbereitung der Daten für den Classifier"
      ],
      "metadata": {
        "id": "sgFQbZwPDwAd"
      }
    },
    {
      "cell_type": "code",
      "source": [
        "# import python packages for ML models\n",
        "from sklearn.model_selection import train_test_split \n",
        "from sklearn.metrics import accuracy_score\n",
        "\n",
        "from sklearn.model_selection import  GridSearchCV\n",
        "from sklearn.ensemble import RandomForestClassifier\n",
        "from xgboost import XGBClassifier"
      ],
      "metadata": {
        "id": "Lj_dBBkvGIqs"
      },
      "execution_count": null,
      "outputs": []
    },
    {
      "cell_type": "code",
      "source": [
        "dfpred = dffinal.pivot_table('VALUE', ['patient_id',\"DATE\", \"Covid\"], 'DESCRIPTION')\n",
        "dfpred.head(3)"
      ],
      "metadata": {
        "id": "a_MKoxaxJpUV"
      },
      "execution_count": null,
      "outputs": []
    },
    {
      "cell_type": "code",
      "source": [
        "dfpred = dfpred.drop([\"Alkaline phosphatase [Enzymatic activity/volume] in Serum or Plasma\", \"Aspartate aminotransferase [Enzymatic activity/volume] in Serum or Plasma\", \"Bilirubin.total [Mass/volume] in Serum or Plasma\", 'Body temperature', \"Diastolic Blood Pressure\", \"Estimated Glomerular Filtration Rate\", \"Oxygen [Partial pressure] in Arterial blood\", \"Oxygen saturation in Arterial blood\",\"Protein [Mass/volume] in Serum or Plasma\",\"Systolic Blood Pressure\", \"Urea nitrogen [Mass/volume] in Serum or Plasma\" ], axis=1)\n",
        "dfpred = dfpred.reset_index()\n",
        "dfpred.rename(columns={\"Glomerular filtration rate/1.73 sq M.predicted\": 'GFR', \"Alanine aminotransferase [Enzymatic activity/volume] in Serum or Plasma\":  \"ALT\", \"Heart rate\": \"Heart_rate\", \"Respiratory rate\": \"Respiratory_rate\"}, inplace=True)\n",
        "dfpred.tail(3)"
      ],
      "metadata": {
        "id": "vnaxBzqUNbh2"
      },
      "execution_count": null,
      "outputs": []
    },
    {
      "cell_type": "code",
      "source": [
        "dfpred= dfpred.dropna(thresh=4)"
      ],
      "metadata": {
        "id": "TkOeWtHwJg76"
      },
      "execution_count": null,
      "outputs": []
    },
    {
      "cell_type": "code",
      "source": [
        "dfpred.groupby([\"Covid\"]).size()"
      ],
      "metadata": {
        "id": "vcEVMmu6oJvu"
      },
      "execution_count": null,
      "outputs": []
    },
    {
      "cell_type": "code",
      "source": [
        "#Exkurs: Fallenlassen von Zeilen mit NaN-Werten reduziert die Kontrollgruppe in nicht tolerierbarem Maße (d.h. die vier Parameter wurden so gut wie nie gleichzeitig bestimmt)\n",
        "dfpnull = dfpred.dropna()\n",
        "dfpnull.groupby([\"Covid\"]).size()\n",
        "\n",
        "#Es muss daher ein Algorithmus zur Vorhersage verwendet werden, der NaN-Werte akzeptiert --> XGBoost"
      ],
      "metadata": {
        "id": "5jK7SSCrUZLR"
      },
      "execution_count": null,
      "outputs": []
    },
    {
      "cell_type": "code",
      "source": [
        "# Splitten der Daten in train und test Dataframes\n",
        "train_ratio = 0.70\n",
        "validation_ratio = 0.15\n",
        "test_ratio = 0.15\n",
        "\n",
        "# Ausgabe der Shapes von train und test Dataframes\n",
        "dfpred_train, dfpred_test = train_test_split(dfpred, test_size=test_ratio, random_state=0)\n",
        "dfpred_train.shape, dfpred_test.shape"
      ],
      "metadata": {
        "id": "rXc-QiMSFz8c"
      },
      "execution_count": null,
      "outputs": []
    },
    {
      "cell_type": "code",
      "source": [
        "# Bestimmen der Features und des Zielwertes\n",
        "X = dfpred_train.drop([\"patient_id\", \"Covid\",\"DATE\"], axis=1)\n",
        "y = dfpred_train[\"Covid\"]\n",
        "\n",
        "# Zusätzlich Erstellen eines Validation Dataframes\n",
        "X_train, X_val, y_train, y_val = train_test_split(X, y, test_size=validation_ratio, random_state=0)\n",
        "\n",
        "X_train.shape, X_val.shape"
      ],
      "metadata": {
        "id": "QMoeleSLGXep"
      },
      "execution_count": null,
      "outputs": []
    },
    {
      "cell_type": "markdown",
      "source": [
        "## Vorhersage mit XGBoost"
      ],
      "metadata": {
        "id": "EMMdZ_nschmm"
      }
    },
    {
      "cell_type": "code",
      "source": [
        "# Erstellen des Parameter Grid Search\n",
        "param_grid = {\n",
        "    'learning_rate': [0.05, 0.5], #so called `eta` value    \n",
        "    'max_depth': [2, 5, 10, 15],\n",
        "    'colsample_bytree': [1],\n",
        "    # \"objective\" :[\"reg:tweedie\"],\n",
        "    'gamma':[0],               \n",
        "    'min_child_weight':[1.5],\n",
        "    'n_estimators' : [5, 10],                                                                    \n",
        "    'reg_alpha': [0.75],\n",
        "    'reg_lambda' : [0.45],\n",
        "    'subsample' : [1],\n",
        "    'random state' : [1]\n",
        "}\n",
        "   \n",
        "# Erstellen des Models\n",
        "xgb = XGBClassifier()\n",
        "# Initiieren des Grid Searches\n",
        "grid_search_xgb = GridSearchCV(estimator = xgb, \n",
        "                               param_grid=param_grid,\n",
        "                               cv=3,\n",
        "                               n_jobs=-1,\n",
        "                               verbose=2)"
      ],
      "metadata": {
        "id": "RUZtbRbhchTW"
      },
      "execution_count": null,
      "outputs": []
    },
    {
      "cell_type": "code",
      "source": [
        "# Anpassen der Daten an den Grid Search\n",
        "grid_search_xgb.fit(X_train, y_train)"
      ],
      "metadata": {
        "id": "-3_s3NQrd7Hc"
      },
      "execution_count": null,
      "outputs": []
    },
    {
      "cell_type": "code",
      "source": [
        "# Beste Parameter nach Grid Search\n",
        "grid_search_xgb.best_params_"
      ],
      "metadata": {
        "id": "NNZ6c2JLd-l3"
      },
      "execution_count": null,
      "outputs": []
    },
    {
      "cell_type": "code",
      "source": [
        "# Beste Model\n",
        "best_grid_xgb = grid_search_xgb.best_estimator_\n",
        "\n",
        "# Evaluiierung für die Train Daten\n",
        "pred_train_xgb = best_grid_xgb.predict(X_train)\n",
        "print('Accuracy for train data:', accuracy_score(y_train, pred_train_xgb))  \n",
        "\n",
        "# Evaluiierung für die Test Daten\n",
        "pred_test_xgb = best_grid_xgb.predict(X_val)\n",
        "acc_xgb = round(accuracy_score(y_val, pred_test_xgb), 5)\n",
        "print('Accuracy for test data:', acc_xgb)"
      ],
      "metadata": {
        "id": "uL3RdGRGeCkx"
      },
      "execution_count": null,
      "outputs": []
    },
    {
      "cell_type": "code",
      "source": [
        "# Hinzufügen des Prediction Ergebnisses zur Ausgangstabelle\n",
        "selected_columns = X.columns\n",
        "x_test = dfpred_test[X.columns]\n",
        "dfpred_test[\"XGB_prediction\"] = best_grid_xgb.predict(x_test)\n",
        "dfpred_test.head(5)\n"
      ],
      "metadata": {
        "id": "8CmkXpTBMYmI"
      },
      "execution_count": null,
      "outputs": []
    },
    {
      "cell_type": "markdown",
      "source": [
        "## Auswertung der Vorhersagen"
      ],
      "metadata": {
        "id": "nX40hRyqEUg7"
      }
    },
    {
      "cell_type": "code",
      "source": [
        "# Erstellen einer Confusion-Matrix\n",
        "from sklearn.metrics import confusion_matrix\n",
        "from mlxtend.plotting import plot_confusion_matrix\n",
        "\n",
        "y_actu = dfpred_test[\"Covid\"]\n",
        "y_pred = dfpred_test[\"XGB_prediction\"]\n",
        "cf_matrix = confusion_matrix(y_actu, y_pred)\n",
        "\n",
        "classes = ['class A', 'class B']\n",
        "figure, ax = plot_confusion_matrix(conf_mat = cf_matrix,\n",
        "                                   show_absolute = True,\n",
        "                                   show_normed = True,\n",
        "                                   colorbar = True)\n",
        "plt.show()"
      ],
      "metadata": {
        "id": "c7WIjaVfRpfd"
      },
      "execution_count": null,
      "outputs": []
    },
    {
      "cell_type": "code",
      "source": [
        "# Darstellen der inkorrekt klassifizierten Daten\n",
        "incorrect = dfpred_test[dfpred_test[\"Covid\"] != dfpred_test[\"XGB_prediction\"]]\n",
        "incorrect.head(30)"
      ],
      "metadata": {
        "id": "nm7VQg-eaDHE"
      },
      "execution_count": null,
      "outputs": []
    },
    {
      "cell_type": "code",
      "source": [
        "# Darstellen der Feature importance\n",
        "from xgboost import plot_importance\n",
        "from matplotlib import pyplot\n",
        "plot_importance(best_grid_xgb)\n",
        "pyplot.show()"
      ],
      "metadata": {
        "id": "hNMZegXobUVf"
      },
      "execution_count": null,
      "outputs": []
    },
    {
      "cell_type": "code",
      "source": [
        "# Beispielhaftes Darstellen eines Decision Trees\n",
        "from xgboost import plot_tree\n",
        "plot_tree(best_grid_xgb, num_trees=0)\n",
        "fig = plt.gcf()\n",
        "fig.set_size_inches(50, 30)"
      ],
      "metadata": {
        "id": "z-qRlsI8iFY3"
      },
      "execution_count": null,
      "outputs": []
    }
  ]
}